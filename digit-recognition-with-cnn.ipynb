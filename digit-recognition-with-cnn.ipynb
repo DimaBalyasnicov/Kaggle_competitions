{
 "cells": [
  {
   "cell_type": "code",
   "execution_count": 1,
   "id": "b7c3bb21",
   "metadata": {
    "_cell_guid": "b1076dfc-b9ad-4769-8c92-a6c4dae69d19",
    "_uuid": "8f2839f25d086af736a60e9eeb907d3b93b6e0e5",
    "execution": {
     "iopub.execute_input": "2022-05-30T09:43:11.917234Z",
     "iopub.status.busy": "2022-05-30T09:43:11.916662Z",
     "iopub.status.idle": "2022-05-30T09:43:19.533965Z",
     "shell.execute_reply": "2022-05-30T09:43:19.533059Z"
    },
    "papermill": {
     "duration": 7.642055,
     "end_time": "2022-05-30T09:43:19.537179",
     "exception": false,
     "start_time": "2022-05-30T09:43:11.895124",
     "status": "completed"
    },
    "tags": []
   },
   "outputs": [
    {
     "name": "stdout",
     "output_type": "stream",
     "text": [
      "/kaggle/input/digit-recognizer/sample_submission.csv\n",
      "/kaggle/input/digit-recognizer/train.csv\n",
      "/kaggle/input/digit-recognizer/test.csv\n"
     ]
    }
   ],
   "source": [
    "import numpy as np \n",
    "import pandas as pd \n",
    "from sklearn.model_selection import train_test_split\n",
    "import matplotlib.pyplot as plt\n",
    "import os\n",
    "import tensorflow as tf\n",
    "from tensorflow import keras\n",
    "from sklearn.metrics import confusion_matrix\n",
    "import seaborn as sn\n",
    "\n",
    "\n",
    "for dirname, _, filenames in os.walk('/kaggle/input'):\n",
    "    for filename in filenames:\n",
    "        print(os.path.join(dirname, filename))\n"
   ]
  },
  {
   "cell_type": "markdown",
   "id": "46bfd280",
   "metadata": {
    "papermill": {
     "duration": 0.019664,
     "end_time": "2022-05-30T09:43:19.576788",
     "exception": false,
     "start_time": "2022-05-30T09:43:19.557124",
     "status": "completed"
    },
    "tags": []
   },
   "source": [
    "**Section 1: Data Exploration and Preprocessing**"
   ]
  },
  {
   "cell_type": "code",
   "execution_count": 2,
   "id": "1ae9a8f1",
   "metadata": {
    "execution": {
     "iopub.execute_input": "2022-05-30T09:43:19.617725Z",
     "iopub.status.busy": "2022-05-30T09:43:19.617405Z",
     "iopub.status.idle": "2022-05-30T09:43:25.669090Z",
     "shell.execute_reply": "2022-05-30T09:43:25.668051Z"
    },
    "papermill": {
     "duration": 6.075051,
     "end_time": "2022-05-30T09:43:25.671672",
     "exception": false,
     "start_time": "2022-05-30T09:43:19.596621",
     "status": "completed"
    },
    "tags": []
   },
   "outputs": [],
   "source": [
    "train = pd.read_csv('/kaggle/input/digit-recognizer/train.csv') \n",
    "test = pd.read_csv('/kaggle/input/digit-recognizer/test.csv')"
   ]
  },
  {
   "cell_type": "code",
   "execution_count": 3,
   "id": "d7ecd56a",
   "metadata": {
    "execution": {
     "iopub.execute_input": "2022-05-30T09:43:25.713315Z",
     "iopub.status.busy": "2022-05-30T09:43:25.712271Z",
     "iopub.status.idle": "2022-05-30T09:43:25.717199Z",
     "shell.execute_reply": "2022-05-30T09:43:25.716355Z"
    },
    "papermill": {
     "duration": 0.028284,
     "end_time": "2022-05-30T09:43:25.719488",
     "exception": false,
     "start_time": "2022-05-30T09:43:25.691204",
     "status": "completed"
    },
    "tags": []
   },
   "outputs": [
    {
     "name": "stdout",
     "output_type": "stream",
     "text": [
      "(42000, 785)\n",
      "(28000, 784)\n"
     ]
    }
   ],
   "source": [
    "print(train.shape)\n",
    "print(test.shape)"
   ]
  },
  {
   "cell_type": "code",
   "execution_count": 4,
   "id": "0d0112c6",
   "metadata": {
    "execution": {
     "iopub.execute_input": "2022-05-30T09:43:25.760585Z",
     "iopub.status.busy": "2022-05-30T09:43:25.760268Z",
     "iopub.status.idle": "2022-05-30T09:43:26.061745Z",
     "shell.execute_reply": "2022-05-30T09:43:26.060907Z"
    },
    "papermill": {
     "duration": 0.324913,
     "end_time": "2022-05-30T09:43:26.063990",
     "exception": false,
     "start_time": "2022-05-30T09:43:25.739077",
     "status": "completed"
    },
    "tags": []
   },
   "outputs": [],
   "source": [
    "train_set, val_set = train_test_split(train, test_size = 0.2, random_state  = 49)"
   ]
  },
  {
   "cell_type": "code",
   "execution_count": 5,
   "id": "fdd30916",
   "metadata": {
    "execution": {
     "iopub.execute_input": "2022-05-30T09:43:26.105666Z",
     "iopub.status.busy": "2022-05-30T09:43:26.105380Z",
     "iopub.status.idle": "2022-05-30T09:43:26.372053Z",
     "shell.execute_reply": "2022-05-30T09:43:26.370563Z"
    },
    "papermill": {
     "duration": 0.291892,
     "end_time": "2022-05-30T09:43:26.375204",
     "exception": false,
     "start_time": "2022-05-30T09:43:26.083312",
     "status": "completed"
    },
    "tags": []
   },
   "outputs": [
    {
     "data": {
      "text/plain": [
       "<AxesSubplot:>"
      ]
     },
     "execution_count": 5,
     "metadata": {},
     "output_type": "execute_result"
    },
    {
     "data": {
      "image/png": "[encoded data removed]",
      "text/plain": [
       "<Figure size 432x288 with 1 Axes>"
      ]
     },
     "metadata": {
      "needs_background": "light"
     },
     "output_type": "display_data"
    }
   ],
   "source": [
    "train_set.label.hist()"
   ]
  },
  {
   "cell_type": "code",
   "execution_count": 6,
   "id": "d908a210",
   "metadata": {
    "execution": {
     "iopub.execute_input": "2022-05-30T09:43:26.418323Z",
     "iopub.status.busy": "2022-05-30T09:43:26.418033Z",
     "iopub.status.idle": "2022-05-30T09:43:26.612904Z",
     "shell.execute_reply": "2022-05-30T09:43:26.611928Z"
    },
    "papermill": {
     "duration": 0.219377,
     "end_time": "2022-05-30T09:43:26.615509",
     "exception": false,
     "start_time": "2022-05-30T09:43:26.396132",
     "status": "completed"
    },
    "tags": []
   },
   "outputs": [
    {
     "data": {
      "text/plain": [
       "<AxesSubplot:>"
      ]
     },
     "execution_count": 6,
     "metadata": {},
     "output_type": "execute_result"
    },
    {
     "data": {
      "image/png": "[encoded data removed]",
      "text/plain": [
       "<Figure size 432x288 with 1 Axes>"
      ]
     },
     "metadata": {
      "needs_background": "light"
     },
     "output_type": "display_data"
    }
   ],
   "source": [
    "val_set.label.hist()\n",
    "#the ration seems legit"
   ]
  },
  {
   "cell_type": "code",
   "execution_count": 7,
   "id": "445efd96",
   "metadata": {
    "execution": {
     "iopub.execute_input": "2022-05-30T09:43:26.662264Z",
     "iopub.status.busy": "2022-05-30T09:43:26.661484Z",
     "iopub.status.idle": "2022-05-30T09:43:26.783774Z",
     "shell.execute_reply": "2022-05-30T09:43:26.782448Z"
    },
    "papermill": {
     "duration": 0.148398,
     "end_time": "2022-05-30T09:43:26.786359",
     "exception": false,
     "start_time": "2022-05-30T09:43:26.637961",
     "status": "completed"
    },
    "tags": []
   },
   "outputs": [
    {
     "name": "stdout",
     "output_type": "stream",
     "text": [
      "9\n"
     ]
    }
   ],
   "source": [
    "train_labels = train_set['label'].copy()\n",
    "train_labels = train_labels.to_numpy()\n",
    "train_set.drop('label', axis = 1, inplace = True)\n",
    "val_labels = val_set['label'].copy()\n",
    "val_labels = val_labels.to_numpy()\n",
    "val_set.drop('label', axis = 1, inplace = True)\n",
    "\n",
    "print(train_labels[0])"
   ]
  },
  {
   "cell_type": "code",
   "execution_count": 8,
   "id": "9b9d3c8f",
   "metadata": {
    "collapsed": true,
    "execution": {
     "iopub.execute_input": "2022-05-30T09:43:26.834388Z",
     "iopub.status.busy": "2022-05-30T09:43:26.833496Z",
     "iopub.status.idle": "2022-05-30T09:43:27.032237Z",
     "shell.execute_reply": "2022-05-30T09:43:27.031192Z"
    },
    "jupyter": {
     "outputs_hidden": true
    },
    "papermill": {
     "duration": 0.226376,
     "end_time": "2022-05-30T09:43:27.034957",
     "exception": false,
     "start_time": "2022-05-30T09:43:26.808581",
     "status": "completed"
    },
    "tags": []
   },
   "outputs": [],
   "source": [
    "#divide by density to standardize\n",
    "train_set = train_set.to_numpy() / 255\n",
    "val_set = val_set.to_numpy() / 255\n",
    "test_set = test.to_numpy() / 255\n",
    "\n",
    "image_shape = (28, 28, 1)\n",
    "\n",
    "train_set = np.reshape(train_set, (train_set.shape[0], *image_shape))\n",
    "val_set = np.reshape(val_set, (val_set.shape[0], *image_shape))\n",
    "test_set = np.reshape(test_set, (test.shape[0], *image_shape))"
   ]
  },
  {
   "cell_type": "markdown",
   "id": "8ae84e53",
   "metadata": {
    "papermill": {
     "duration": 0.024316,
     "end_time": "2022-05-30T09:43:27.082887",
     "exception": false,
     "start_time": "2022-05-30T09:43:27.058571",
     "status": "completed"
    },
    "tags": []
   },
   "source": [
    "**Section 2: Creating and Evaluating a Model**"
   ]
  },
  {
   "cell_type": "code",
   "execution_count": 9,
   "id": "7140450b",
   "metadata": {
    "execution": {
     "iopub.execute_input": "2022-05-30T09:43:27.133989Z",
     "iopub.status.busy": "2022-05-30T09:43:27.133139Z",
     "iopub.status.idle": "2022-05-30T09:43:28.704838Z",
     "shell.execute_reply": "2022-05-30T09:43:28.703423Z"
    },
    "papermill": {
     "duration": 1.599169,
     "end_time": "2022-05-30T09:43:28.707602",
     "exception": false,
     "start_time": "2022-05-30T09:43:27.108433",
     "status": "completed"
    },
    "tags": []
   },
   "outputs": [
    {
     "name": "stdout",
     "output_type": "stream",
     "text": [
      "Model: \"sequential\"\n",
      "_________________________________________________________________\n",
      "Layer (type)                 Output Shape              Param #   \n",
      "=================================================================\n",
      "conv2d (Conv2D)              (None, 28, 28, 64)        3200      \n",
      "_________________________________________________________________\n",
      "max_pooling2d (MaxPooling2D) (None, 14, 14, 64)        0         \n",
      "_________________________________________________________________\n",
      "conv2d_1 (Conv2D)            (None, 14, 14, 128)       73856     \n",
      "_________________________________________________________________\n",
      "conv2d_2 (Conv2D)            (None, 14, 14, 128)       147584    \n",
      "_________________________________________________________________\n",
      "max_pooling2d_1 (MaxPooling2 (None, 7, 7, 128)         0         \n",
      "_________________________________________________________________\n",
      "conv2d_3 (Conv2D)            (None, 7, 7, 256)         295168    \n",
      "_________________________________________________________________\n",
      "conv2d_4 (Conv2D)            (None, 7, 7, 256)         590080    \n",
      "_________________________________________________________________\n",
      "max_pooling2d_2 (MaxPooling2 (None, 3, 3, 256)         0         \n",
      "_________________________________________________________________\n",
      "flatten (Flatten)            (None, 2304)              0         \n",
      "_________________________________________________________________\n",
      "dense (Dense)                (None, 128)               295040    \n",
      "_________________________________________________________________\n",
      "dropout (Dropout)            (None, 128)               0         \n",
      "_________________________________________________________________\n",
      "dense_1 (Dense)              (None, 64)                8256      \n",
      "_________________________________________________________________\n",
      "dropout_1 (Dropout)          (None, 64)                0         \n",
      "_________________________________________________________________\n",
      "dense_2 (Dense)              (None, 10)                650       \n",
      "=================================================================\n",
      "Total params: 1,413,834\n",
      "Trainable params: 1,413,834\n",
      "Non-trainable params: 0\n",
      "_________________________________________________________________\n"
     ]
    },
    {
     "name": "stderr",
     "output_type": "stream",
     "text": [
      "2022-05-30 09:43:28.509006: I tensorflow/core/common_runtime/process_util.cc:146] Creating new thread pool with default inter op setting: 2. Tune using inter_op_parallelism_threads for best performance.\n"
     ]
    }
   ],
   "source": [
    "#This is a bit overkill\n",
    "cnn_model = keras.models.Sequential()\n",
    "cnn_model.add(keras.layers.Conv2D(64, 7, activation = 'relu', padding = 'same', \n",
    "                                  input_shape = image_shape))\n",
    "cnn_model.add(keras.layers.MaxPooling2D(2))\n",
    "cnn_model.add(keras.layers.Conv2D(128, 3, activation = 'relu', padding = 'same'))\n",
    "cnn_model.add(keras.layers.Conv2D(128, 3, activation = 'relu', padding = 'same'))\n",
    "cnn_model.add(keras.layers.MaxPooling2D(2))\n",
    "cnn_model.add(keras.layers.Conv2D(256, 3, activation = 'relu', padding = 'same'))\n",
    "cnn_model.add(keras.layers.Conv2D(256, 3, activation = 'relu', padding = 'same'))\n",
    "cnn_model.add(keras.layers.MaxPooling2D(2))\n",
    "cnn_model.add(keras.layers.Flatten())\n",
    "cnn_model.add(keras.layers.Dense(128, activation = 'relu'))\n",
    "cnn_model.add(keras.layers.Dropout(0.5))\n",
    "cnn_model.add(keras.layers.Dense(64, activation = 'relu'))\n",
    "cnn_model.add(keras.layers.Dropout(0.5))\n",
    "cnn_model.add(keras.layers.Dense(10, activation = 'softmax'))\n",
    "\n",
    "cnn_model.summary()"
   ]
  },
  {
   "cell_type": "code",
   "execution_count": 10,
   "id": "f3126be0",
   "metadata": {
    "execution": {
     "iopub.execute_input": "2022-05-30T09:43:28.760101Z",
     "iopub.status.busy": "2022-05-30T09:43:28.759785Z",
     "iopub.status.idle": "2022-05-30T09:43:28.776124Z",
     "shell.execute_reply": "2022-05-30T09:43:28.775321Z"
    },
    "papermill": {
     "duration": 0.044277,
     "end_time": "2022-05-30T09:43:28.778340",
     "exception": false,
     "start_time": "2022-05-30T09:43:28.734063",
     "status": "completed"
    },
    "tags": []
   },
   "outputs": [],
   "source": [
    "cnn_model.compile(loss = 'sparse_categorical_crossentropy', \n",
    "                  optimizer = tf.keras.optimizers.Adam(1e-3), \n",
    "                  metrics = ['accuracy'])"
   ]
  },
  {
   "cell_type": "code",
   "execution_count": 11,
   "id": "75d9cd78",
   "metadata": {
    "execution": {
     "iopub.execute_input": "2022-05-30T09:43:28.829228Z",
     "iopub.status.busy": "2022-05-30T09:43:28.828733Z",
     "iopub.status.idle": "2022-05-30T09:59:51.980032Z",
     "shell.execute_reply": "2022-05-30T09:59:51.978924Z"
    },
    "papermill": {
     "duration": 983.181411,
     "end_time": "2022-05-30T09:59:51.983131",
     "exception": false,
     "start_time": "2022-05-30T09:43:28.801720",
     "status": "completed"
    },
    "tags": []
   },
   "outputs": [
    {
     "name": "stderr",
     "output_type": "stream",
     "text": [
      "2022-05-30 09:43:29.129633: I tensorflow/compiler/mlir/mlir_graph_optimization_pass.cc:185] None of the MLIR Optimization Passes are enabled (registered 2)\n"
     ]
    },
    {
     "name": "stdout",
     "output_type": "stream",
     "text": [
      "Epoch 1/5\n",
      "350/350 [==============================] - 189s 537ms/step - loss: 0.7590 - accuracy: 0.7409 - val_loss: 0.0890 - val_accuracy: 0.9767\n",
      "Epoch 2/5\n",
      "350/350 [==============================] - 187s 534ms/step - loss: 0.1863 - accuracy: 0.9513 - val_loss: 0.0816 - val_accuracy: 0.9776\n",
      "Epoch 3/5\n",
      "350/350 [==============================] - 188s 536ms/step - loss: 0.1242 - accuracy: 0.9679 - val_loss: 0.0487 - val_accuracy: 0.9880\n",
      "Epoch 4/5\n",
      "350/350 [==============================] - 189s 541ms/step - loss: 0.1032 - accuracy: 0.9741 - val_loss: 0.0595 - val_accuracy: 0.9850\n",
      "Epoch 5/5\n",
      "350/350 [==============================] - 188s 536ms/step - loss: 0.0769 - accuracy: 0.9812 - val_loss: 0.0342 - val_accuracy: 0.9913\n"
     ]
    }
   ],
   "source": [
    "history = cnn_model.fit(train_set, train_labels, batch_size = 96, \n",
    "                        epochs = 5, validation_data = (val_set, val_labels))"
   ]
  },
  {
   "cell_type": "code",
   "execution_count": 12,
   "id": "096084c5",
   "metadata": {
    "execution": {
     "iopub.execute_input": "2022-05-30T09:59:53.369528Z",
     "iopub.status.busy": "2022-05-30T09:59:53.369220Z",
     "iopub.status.idle": "2022-05-30T10:00:08.404459Z",
     "shell.execute_reply": "2022-05-30T10:00:08.403288Z"
    },
    "papermill": {
     "duration": 15.718064,
     "end_time": "2022-05-30T10:00:08.407021",
     "exception": false,
     "start_time": "2022-05-30T09:59:52.688957",
     "status": "completed"
    },
    "tags": []
   },
   "outputs": [],
   "source": [
    "#lets look at confusion matrix to see how well the model performs\n",
    "y_val_proba = cnn_model.predict(val_set)\n",
    "y_val_proba = np.argmax(y_val_proba, axis = 1)"
   ]
  },
  {
   "cell_type": "code",
   "execution_count": 13,
   "id": "7345b696",
   "metadata": {
    "execution": {
     "iopub.execute_input": "2022-05-30T10:00:09.789037Z",
     "iopub.status.busy": "2022-05-30T10:00:09.788632Z",
     "iopub.status.idle": "2022-05-30T10:00:09.797981Z",
     "shell.execute_reply": "2022-05-30T10:00:09.796883Z"
    },
    "papermill": {
     "duration": 0.708293,
     "end_time": "2022-05-30T10:00:09.800380",
     "exception": false,
     "start_time": "2022-05-30T10:00:09.092087",
     "status": "completed"
    },
    "tags": []
   },
   "outputs": [
    {
     "data": {
      "text/plain": [
       "array([[825,   0,   1,   0,   0,   0,   0,   0,   0,   0],\n",
       "       [  0, 910,   1,   0,   1,   0,   0,   2,   1,   1],\n",
       "       [  0,   0, 805,   1,   0,   0,   0,   6,   2,   0],\n",
       "       [  1,   0,   5, 879,   0,   2,   0,   2,   3,   3],\n",
       "       [  0,   1,   0,   0, 815,   0,   0,   0,   0,   3],\n",
       "       [  1,   0,   0,   2,   0, 724,   2,   0,   1,   0],\n",
       "       [  1,   0,   0,   0,   0,   0, 863,   0,   1,   0],\n",
       "       [  0,   0,   3,   1,   1,   0,   0, 910,   0,   2],\n",
       "       [  1,   1,   2,   0,   1,   3,   1,   0, 783,   2],\n",
       "       [  0,   0,   0,   0,   3,   2,   0,   2,   4, 813]])"
      ]
     },
     "execution_count": 13,
     "metadata": {},
     "output_type": "execute_result"
    }
   ],
   "source": [
    "conf_matrix = confusion_matrix(val_labels, y_val_proba)\n",
    "conf_matrix"
   ]
  },
  {
   "cell_type": "code",
   "execution_count": 14,
   "id": "8cfba740",
   "metadata": {
    "collapsed": true,
    "execution": {
     "iopub.execute_input": "2022-05-30T10:00:11.253444Z",
     "iopub.status.busy": "2022-05-30T10:00:11.253139Z",
     "iopub.status.idle": "2022-05-30T10:00:11.869108Z",
     "shell.execute_reply": "2022-05-30T10:00:11.868087Z"
    },
    "jupyter": {
     "outputs_hidden": true
    },
    "papermill": {
     "duration": 1.310486,
     "end_time": "2022-05-30T10:00:11.872397",
     "exception": false,
     "start_time": "2022-05-30T10:00:10.561911",
     "status": "completed"
    },
    "tags": []
   },
   "outputs": [
    {
     "data": {
      "text/plain": [
       "<AxesSubplot:>"
      ]
     },
     "execution_count": 14,
     "metadata": {},
     "output_type": "execute_result"
    },
    {
     "data": {
      "image/png": "[encoded data removed]",
      "text/plain": [
       "<Figure size 720x504 with 2 Axes>"
      ]
     },
     "metadata": {
      "needs_background": "light"
     },
     "output_type": "display_data"
    }
   ],
   "source": [
    "df_cm = pd.DataFrame(conf_matrix, index = [i for i in \"0123456789\"],\n",
    "                  columns = [i for i in \"0123456789\"])\n",
    "\n",
    "plt.figure(figsize = (10,7))\n",
    "sn.heatmap(df_cm, annot=True)"
   ]
  },
  {
   "cell_type": "code",
   "execution_count": 15,
   "id": "9226ce0e",
   "metadata": {
    "execution": {
     "iopub.execute_input": "2022-05-30T10:00:13.284447Z",
     "iopub.status.busy": "2022-05-30T10:00:13.284137Z",
     "iopub.status.idle": "2022-05-30T10:01:05.219981Z",
     "shell.execute_reply": "2022-05-30T10:01:05.218926Z"
    },
    "papermill": {
     "duration": 52.635518,
     "end_time": "2022-05-30T10:01:05.222454",
     "exception": false,
     "start_time": "2022-05-30T10:00:12.586936",
     "status": "completed"
    },
    "tags": []
   },
   "outputs": [],
   "source": [
    "test_pred = cnn_model.predict(test_set)\n",
    "test_pred = np.argmax(test_pred, axis = 1)"
   ]
  },
  {
   "cell_type": "code",
   "execution_count": 16,
   "id": "1c237358",
   "metadata": {
    "execution": {
     "iopub.execute_input": "2022-05-30T10:01:06.632033Z",
     "iopub.status.busy": "2022-05-30T10:01:06.631716Z",
     "iopub.status.idle": "2022-05-30T10:01:06.691260Z",
     "shell.execute_reply": "2022-05-30T10:01:06.689855Z"
    },
    "papermill": {
     "duration": 0.77194,
     "end_time": "2022-05-30T10:01:06.693715",
     "exception": false,
     "start_time": "2022-05-30T10:01:05.921775",
     "status": "completed"
    },
    "tags": []
   },
   "outputs": [
    {
     "name": "stdout",
     "output_type": "stream",
     "text": [
      "   ImageId  Label\n",
      "0        1      2\n",
      "1        2      0\n",
      "2        3      9\n",
      "3        4      0\n",
      "4        5      3\n"
     ]
    }
   ],
   "source": [
    "sub = pd.DataFrame({'ImageId' : range(1, len(test_pred) + 1),'Label' : test_pred})\n",
    "sub.to_csv('submission.csv',  index = False)\n",
    "print(sub.head())"
   ]
  }
 ],
 "metadata": {
  "kernelspec": {
   "display_name": "Python 3",
   "language": "python",
   "name": "python3"
  },
  "language_info": {
   "codemirror_mode": {
    "name": "ipython",
    "version": 3
   },
   "file_extension": ".py",
   "mimetype": "text/x-python",
   "name": "python",
   "nbconvert_exporter": "python",
   "pygments_lexer": "ipython3",
   "version": "3.7.12"
  },
  "papermill": {
   "default_parameters": {},
   "duration": 1091.086279,
   "end_time": "2022-05-30T10:01:10.870987",
   "environment_variables": {},
   "exception": null,
   "input_path": "__notebook__.ipynb",
   "output_path": "__notebook__.ipynb",
   "parameters": {},
   "start_time": "2022-05-30T09:42:59.784708",
   "version": "2.3.4"
  }
 },
 "nbformat": 4,
 "nbformat_minor": 5
}
