{
 "cells": [
  {
   "cell_type": "code",
   "execution_count": 1,
   "id": "ab6e5dc9",
   "metadata": {
    "_cell_guid": "b1076dfc-b9ad-4769-8c92-a6c4dae69d19",
    "_uuid": "8f2839f25d086af736a60e9eeb907d3b93b6e0e5",
    "execution": {
     "iopub.execute_input": "2022-07-03T20:07:23.281061Z",
     "iopub.status.busy": "2022-07-03T20:07:23.280082Z",
     "iopub.status.idle": "2022-07-03T20:07:30.244055Z",
     "shell.execute_reply": "2022-07-03T20:07:30.243120Z"
    },
    "papermill": {
     "duration": 6.994344,
     "end_time": "2022-07-03T20:07:30.246365",
     "exception": false,
     "start_time": "2022-07-03T20:07:23.252021",
     "status": "completed"
    },
    "tags": []
   },
   "outputs": [
    {
     "name": "stdout",
     "output_type": "stream",
     "text": [
      "/kaggle/input/digit-recognizer/sample_submission.csv\n",
      "/kaggle/input/digit-recognizer/train.csv\n",
      "/kaggle/input/digit-recognizer/test.csv\n"
     ]
    }
   ],
   "source": [
    "import numpy as np \n",
    "import pandas as pd \n",
    "from sklearn.model_selection import train_test_split\n",
    "import matplotlib.pyplot as plt\n",
    "import os\n",
    "import tensorflow as tf\n",
    "from tensorflow import keras\n",
    "from sklearn.metrics import confusion_matrix\n",
    "import seaborn as sn\n",
    "\n",
    "\n",
    "for dirname, _, filenames in os.walk('/kaggle/input'):\n",
    "    for filename in filenames:\n",
    "        print(os.path.join(dirname, filename))\n"
   ]
  },
  {
   "cell_type": "markdown",
   "id": "8b3b3d35",
   "metadata": {
    "papermill": {
     "duration": 0.02409,
     "end_time": "2022-07-03T20:07:30.297462",
     "exception": false,
     "start_time": "2022-07-03T20:07:30.273372",
     "status": "completed"
    },
    "tags": []
   },
   "source": [
    "**1: Pre-processing**"
   ]
  },
  {
   "cell_type": "code",
   "execution_count": 2,
   "id": "9de100be",
   "metadata": {
    "execution": {
     "iopub.execute_input": "2022-07-03T20:07:30.348121Z",
     "iopub.status.busy": "2022-07-03T20:07:30.347788Z",
     "iopub.status.idle": "2022-07-03T20:07:36.489180Z",
     "shell.execute_reply": "2022-07-03T20:07:36.488208Z"
    },
    "papermill": {
     "duration": 6.169804,
     "end_time": "2022-07-03T20:07:36.491802",
     "exception": false,
     "start_time": "2022-07-03T20:07:30.321998",
     "status": "completed"
    },
    "tags": []
   },
   "outputs": [],
   "source": [
    "train = pd.read_csv('/kaggle/input/digit-recognizer/train.csv') \n",
    "test = pd.read_csv('/kaggle/input/digit-recognizer/test.csv')"
   ]
  },
  {
   "cell_type": "code",
   "execution_count": 3,
   "id": "f10dd6a8",
   "metadata": {
    "execution": {
     "iopub.execute_input": "2022-07-03T20:07:36.544050Z",
     "iopub.status.busy": "2022-07-03T20:07:36.543732Z",
     "iopub.status.idle": "2022-07-03T20:07:36.549861Z",
     "shell.execute_reply": "2022-07-03T20:07:36.548791Z"
    },
    "papermill": {
     "duration": 0.035546,
     "end_time": "2022-07-03T20:07:36.552809",
     "exception": false,
     "start_time": "2022-07-03T20:07:36.517263",
     "status": "completed"
    },
    "tags": []
   },
   "outputs": [
    {
     "name": "stdout",
     "output_type": "stream",
     "text": [
      "(42000, 785)\n",
      "(28000, 784)\n"
     ]
    }
   ],
   "source": [
    "print(train.shape)\n",
    "print(test.shape)"
   ]
  },
  {
   "cell_type": "code",
   "execution_count": 4,
   "id": "d0548ebc",
   "metadata": {
    "execution": {
     "iopub.execute_input": "2022-07-03T20:07:36.606140Z",
     "iopub.status.busy": "2022-07-03T20:07:36.605837Z",
     "iopub.status.idle": "2022-07-03T20:07:36.634254Z",
     "shell.execute_reply": "2022-07-03T20:07:36.633360Z"
    },
    "papermill": {
     "duration": 0.057106,
     "end_time": "2022-07-03T20:07:36.636324",
     "exception": false,
     "start_time": "2022-07-03T20:07:36.579218",
     "status": "completed"
    },
    "tags": []
   },
   "outputs": [
    {
     "data": {
      "text/html": [
       "<div>\n",
       "<style scoped>\n",
       "    .dataframe tbody tr th:only-of-type {\n",
       "        vertical-align: middle;\n",
       "    }\n",
       "\n",
       "    .dataframe tbody tr th {\n",
       "        vertical-align: top;\n",
       "    }\n",
       "\n",
       "    .dataframe thead th {\n",
       "        text-align: right;\n",
       "    }\n",
       "</style>\n",
       "<table border=\"1\" class=\"dataframe\">\n",
       "  <thead>\n",
       "    <tr style=\"text-align: right;\">\n",
       "      <th></th>\n",
       "      <th>label</th>\n",
       "      <th>pixel0</th>\n",
       "      <th>pixel1</th>\n",
       "      <th>pixel2</th>\n",
       "      <th>pixel3</th>\n",
       "      <th>pixel4</th>\n",
       "      <th>pixel5</th>\n",
       "      <th>pixel6</th>\n",
       "      <th>pixel7</th>\n",
       "      <th>pixel8</th>\n",
       "      <th>...</th>\n",
       "      <th>pixel774</th>\n",
       "      <th>pixel775</th>\n",
       "      <th>pixel776</th>\n",
       "      <th>pixel777</th>\n",
       "      <th>pixel778</th>\n",
       "      <th>pixel779</th>\n",
       "      <th>pixel780</th>\n",
       "      <th>pixel781</th>\n",
       "      <th>pixel782</th>\n",
       "      <th>pixel783</th>\n",
       "    </tr>\n",
       "  </thead>\n",
       "  <tbody>\n",
       "    <tr>\n",
       "      <th>0</th>\n",
       "      <td>1</td>\n",
       "      <td>0</td>\n",
       "      <td>0</td>\n",
       "      <td>0</td>\n",
       "      <td>0</td>\n",
       "      <td>0</td>\n",
       "      <td>0</td>\n",
       "      <td>0</td>\n",
       "      <td>0</td>\n",
       "      <td>0</td>\n",
       "      <td>...</td>\n",
       "      <td>0</td>\n",
       "      <td>0</td>\n",
       "      <td>0</td>\n",
       "      <td>0</td>\n",
       "      <td>0</td>\n",
       "      <td>0</td>\n",
       "      <td>0</td>\n",
       "      <td>0</td>\n",
       "      <td>0</td>\n",
       "      <td>0</td>\n",
       "    </tr>\n",
       "    <tr>\n",
       "      <th>1</th>\n",
       "      <td>0</td>\n",
       "      <td>0</td>\n",
       "      <td>0</td>\n",
       "      <td>0</td>\n",
       "      <td>0</td>\n",
       "      <td>0</td>\n",
       "      <td>0</td>\n",
       "      <td>0</td>\n",
       "      <td>0</td>\n",
       "      <td>0</td>\n",
       "      <td>...</td>\n",
       "      <td>0</td>\n",
       "      <td>0</td>\n",
       "      <td>0</td>\n",
       "      <td>0</td>\n",
       "      <td>0</td>\n",
       "      <td>0</td>\n",
       "      <td>0</td>\n",
       "      <td>0</td>\n",
       "      <td>0</td>\n",
       "      <td>0</td>\n",
       "    </tr>\n",
       "    <tr>\n",
       "      <th>2</th>\n",
       "      <td>1</td>\n",
       "      <td>0</td>\n",
       "      <td>0</td>\n",
       "      <td>0</td>\n",
       "      <td>0</td>\n",
       "      <td>0</td>\n",
       "      <td>0</td>\n",
       "      <td>0</td>\n",
       "      <td>0</td>\n",
       "      <td>0</td>\n",
       "      <td>...</td>\n",
       "      <td>0</td>\n",
       "      <td>0</td>\n",
       "      <td>0</td>\n",
       "      <td>0</td>\n",
       "      <td>0</td>\n",
       "      <td>0</td>\n",
       "      <td>0</td>\n",
       "      <td>0</td>\n",
       "      <td>0</td>\n",
       "      <td>0</td>\n",
       "    </tr>\n",
       "    <tr>\n",
       "      <th>3</th>\n",
       "      <td>4</td>\n",
       "      <td>0</td>\n",
       "      <td>0</td>\n",
       "      <td>0</td>\n",
       "      <td>0</td>\n",
       "      <td>0</td>\n",
       "      <td>0</td>\n",
       "      <td>0</td>\n",
       "      <td>0</td>\n",
       "      <td>0</td>\n",
       "      <td>...</td>\n",
       "      <td>0</td>\n",
       "      <td>0</td>\n",
       "      <td>0</td>\n",
       "      <td>0</td>\n",
       "      <td>0</td>\n",
       "      <td>0</td>\n",
       "      <td>0</td>\n",
       "      <td>0</td>\n",
       "      <td>0</td>\n",
       "      <td>0</td>\n",
       "    </tr>\n",
       "    <tr>\n",
       "      <th>4</th>\n",
       "      <td>0</td>\n",
       "      <td>0</td>\n",
       "      <td>0</td>\n",
       "      <td>0</td>\n",
       "      <td>0</td>\n",
       "      <td>0</td>\n",
       "      <td>0</td>\n",
       "      <td>0</td>\n",
       "      <td>0</td>\n",
       "      <td>0</td>\n",
       "      <td>...</td>\n",
       "      <td>0</td>\n",
       "      <td>0</td>\n",
       "      <td>0</td>\n",
       "      <td>0</td>\n",
       "      <td>0</td>\n",
       "      <td>0</td>\n",
       "      <td>0</td>\n",
       "      <td>0</td>\n",
       "      <td>0</td>\n",
       "      <td>0</td>\n",
       "    </tr>\n",
       "  </tbody>\n",
       "</table>\n",
       "<p>5 rows × 785 columns</p>\n",
       "</div>"
      ],
      "text/plain": [
       "   label  pixel0  pixel1  pixel2  pixel3  pixel4  pixel5  pixel6  pixel7  \\\n",
       "0      1       0       0       0       0       0       0       0       0   \n",
       "1      0       0       0       0       0       0       0       0       0   \n",
       "2      1       0       0       0       0       0       0       0       0   \n",
       "3      4       0       0       0       0       0       0       0       0   \n",
       "4      0       0       0       0       0       0       0       0       0   \n",
       "\n",
       "   pixel8  ...  pixel774  pixel775  pixel776  pixel777  pixel778  pixel779  \\\n",
       "0       0  ...         0         0         0         0         0         0   \n",
       "1       0  ...         0         0         0         0         0         0   \n",
       "2       0  ...         0         0         0         0         0         0   \n",
       "3       0  ...         0         0         0         0         0         0   \n",
       "4       0  ...         0         0         0         0         0         0   \n",
       "\n",
       "   pixel780  pixel781  pixel782  pixel783  \n",
       "0         0         0         0         0  \n",
       "1         0         0         0         0  \n",
       "2         0         0         0         0  \n",
       "3         0         0         0         0  \n",
       "4         0         0         0         0  \n",
       "\n",
       "[5 rows x 785 columns]"
      ]
     },
     "execution_count": 4,
     "metadata": {},
     "output_type": "execute_result"
    }
   ],
   "source": [
    "train.head(5)"
   ]
  },
  {
   "cell_type": "code",
   "execution_count": 5,
   "id": "bd18b89d",
   "metadata": {
    "execution": {
     "iopub.execute_input": "2022-07-03T20:07:36.690190Z",
     "iopub.status.busy": "2022-07-03T20:07:36.689874Z",
     "iopub.status.idle": "2022-07-03T20:07:36.746817Z",
     "shell.execute_reply": "2022-07-03T20:07:36.745965Z"
    },
    "papermill": {
     "duration": 0.086221,
     "end_time": "2022-07-03T20:07:36.749134",
     "exception": false,
     "start_time": "2022-07-03T20:07:36.662913",
     "status": "completed"
    },
    "tags": []
   },
   "outputs": [
    {
     "name": "stdout",
     "output_type": "stream",
     "text": [
      "<class 'pandas.core.frame.DataFrame'>\n",
      "RangeIndex: 42000 entries, 0 to 41999\n",
      "Columns: 785 entries, label to pixel783\n",
      "dtypes: int64(785)\n",
      "memory usage: 251.5 MB\n"
     ]
    }
   ],
   "source": [
    "train.info()"
   ]
  },
  {
   "cell_type": "code",
   "execution_count": 6,
   "id": "15963fd1",
   "metadata": {
    "execution": {
     "iopub.execute_input": "2022-07-03T20:07:36.803839Z",
     "iopub.status.busy": "2022-07-03T20:07:36.803506Z",
     "iopub.status.idle": "2022-07-03T20:07:36.856042Z",
     "shell.execute_reply": "2022-07-03T20:07:36.854973Z"
    },
    "papermill": {
     "duration": 0.082941,
     "end_time": "2022-07-03T20:07:36.859079",
     "exception": false,
     "start_time": "2022-07-03T20:07:36.776138",
     "status": "completed"
    },
    "tags": []
   },
   "outputs": [
    {
     "data": {
      "text/plain": [
       "0"
      ]
     },
     "execution_count": 6,
     "metadata": {},
     "output_type": "execute_result"
    }
   ],
   "source": [
    "train.isna().sum().sum() # проверим есть ли где NaN"
   ]
  },
  {
   "cell_type": "code",
   "execution_count": 7,
   "id": "378ba661",
   "metadata": {
    "execution": {
     "iopub.execute_input": "2022-07-03T20:07:36.917810Z",
     "iopub.status.busy": "2022-07-03T20:07:36.917325Z",
     "iopub.status.idle": "2022-07-03T20:07:36.924372Z",
     "shell.execute_reply": "2022-07-03T20:07:36.923127Z"
    },
    "papermill": {
     "duration": 0.039044,
     "end_time": "2022-07-03T20:07:36.926547",
     "exception": false,
     "start_time": "2022-07-03T20:07:36.887503",
     "status": "completed"
    },
    "tags": []
   },
   "outputs": [
    {
     "data": {
      "text/plain": [
       "array([1, 0, 4, 7, 3, 5, 8, 9, 2, 6])"
      ]
     },
     "execution_count": 7,
     "metadata": {},
     "output_type": "execute_result"
    }
   ],
   "source": [
    "train['label'].unique()  "
   ]
  },
  {
   "cell_type": "code",
   "execution_count": 8,
   "id": "21edf324",
   "metadata": {
    "execution": {
     "iopub.execute_input": "2022-07-03T20:07:36.986805Z",
     "iopub.status.busy": "2022-07-03T20:07:36.985717Z",
     "iopub.status.idle": "2022-07-03T20:07:37.360423Z",
     "shell.execute_reply": "2022-07-03T20:07:37.359741Z"
    },
    "papermill": {
     "duration": 0.405784,
     "end_time": "2022-07-03T20:07:37.362799",
     "exception": false,
     "start_time": "2022-07-03T20:07:36.957015",
     "status": "completed"
    },
    "tags": []
   },
   "outputs": [],
   "source": [
    "train_set, val_set = train_test_split(train, test_size = 0.2, random_state  = 49)"
   ]
  },
  {
   "cell_type": "code",
   "execution_count": 9,
   "id": "d29fa084",
   "metadata": {
    "execution": {
     "iopub.execute_input": "2022-07-03T20:07:37.420123Z",
     "iopub.status.busy": "2022-07-03T20:07:37.419073Z",
     "iopub.status.idle": "2022-07-03T20:07:37.630919Z",
     "shell.execute_reply": "2022-07-03T20:07:37.629657Z"
    },
    "papermill": {
     "duration": 0.242963,
     "end_time": "2022-07-03T20:07:37.633398",
     "exception": false,
     "start_time": "2022-07-03T20:07:37.390435",
     "status": "completed"
    },
    "tags": []
   },
   "outputs": [
    {
     "data": {
      "text/plain": [
       "<AxesSubplot:>"
      ]
     },
     "execution_count": 9,
     "metadata": {},
     "output_type": "execute_result"
    },
    {
     "data": {
      "image/png": "[encoded data removed]",
      "text/plain": [
       "<Figure size 432x288 with 1 Axes>"
      ]
     },
     "metadata": {
      "needs_background": "light"
     },
     "output_type": "display_data"
    }
   ],
   "source": [
    "train_set.label.hist()"
   ]
  },
  {
   "cell_type": "code",
   "execution_count": 10,
   "id": "7af61990",
   "metadata": {
    "execution": {
     "iopub.execute_input": "2022-07-03T20:07:37.692003Z",
     "iopub.status.busy": "2022-07-03T20:07:37.691675Z",
     "iopub.status.idle": "2022-07-03T20:07:37.829954Z",
     "shell.execute_reply": "2022-07-03T20:07:37.828776Z"
    },
    "papermill": {
     "duration": 0.170803,
     "end_time": "2022-07-03T20:07:37.832732",
     "exception": false,
     "start_time": "2022-07-03T20:07:37.661929",
     "status": "completed"
    },
    "tags": []
   },
   "outputs": [
    {
     "data": {
      "text/plain": [
       "<AxesSubplot:>"
      ]
     },
     "execution_count": 10,
     "metadata": {},
     "output_type": "execute_result"
    },
    {
     "data": {
      "image/png": "[encoded data removed]",
      "text/plain": [
       "<Figure size 432x288 with 1 Axes>"
      ]
     },
     "metadata": {
      "needs_background": "light"
     },
     "output_type": "display_data"
    }
   ],
   "source": [
    "val_set.label.hist()\n",
    "#примерно одинаковое распределение"
   ]
  },
  {
   "cell_type": "code",
   "execution_count": 11,
   "id": "838a86b2",
   "metadata": {
    "execution": {
     "iopub.execute_input": "2022-07-03T20:07:37.896405Z",
     "iopub.status.busy": "2022-07-03T20:07:37.896111Z",
     "iopub.status.idle": "2022-07-03T20:07:38.068146Z",
     "shell.execute_reply": "2022-07-03T20:07:38.067149Z"
    },
    "papermill": {
     "duration": 0.207036,
     "end_time": "2022-07-03T20:07:38.070701",
     "exception": false,
     "start_time": "2022-07-03T20:07:37.863665",
     "status": "completed"
    },
    "tags": []
   },
   "outputs": [],
   "source": [
    "#создаём X(train_set) и Y(train_labels)\n",
    "train_labels = train_set['label'].copy()\n",
    "train_labels = train_labels.to_numpy()\n",
    "train_set.drop('label', axis = 1, inplace = True)\n",
    "val_labels = val_set['label'].copy()\n",
    "val_labels = val_labels.to_numpy()\n",
    "val_set.drop('label', axis = 1, inplace = True)"
   ]
  },
  {
   "cell_type": "code",
   "execution_count": 12,
   "id": "f55dbeaa",
   "metadata": {
    "execution": {
     "iopub.execute_input": "2022-07-03T20:07:38.131023Z",
     "iopub.status.busy": "2022-07-03T20:07:38.130260Z",
     "iopub.status.idle": "2022-07-03T20:07:38.383858Z",
     "shell.execute_reply": "2022-07-03T20:07:38.383138Z"
    },
    "papermill": {
     "duration": 0.286259,
     "end_time": "2022-07-03T20:07:38.386193",
     "exception": false,
     "start_time": "2022-07-03T20:07:38.099934",
     "status": "completed"
    },
    "tags": []
   },
   "outputs": [],
   "source": [
    "# стандартизацируем данные, приводим их в значения от 0 до 1 \n",
    "train_set = train_set.to_numpy() / 255\n",
    "val_set = val_set.to_numpy() / 255\n",
    "test_set = test.to_numpy() / 255\n",
    "\n",
    "# из вектора в картинку\n",
    "image_shape = (28, 28, 1)\n",
    "train_set = np.reshape(train_set, (train_set.shape[0], *image_shape))\n",
    "val_set = np.reshape(val_set, (val_set.shape[0], *image_shape))\n",
    "test_set = np.reshape(test_set, (test.shape[0], *image_shape))"
   ]
  },
  {
   "cell_type": "code",
   "execution_count": 13,
   "id": "5fff4971",
   "metadata": {
    "execution": {
     "iopub.execute_input": "2022-07-03T20:07:38.446043Z",
     "iopub.status.busy": "2022-07-03T20:07:38.445291Z",
     "iopub.status.idle": "2022-07-03T20:07:38.580589Z",
     "shell.execute_reply": "2022-07-03T20:07:38.579927Z"
    },
    "papermill": {
     "duration": 0.167684,
     "end_time": "2022-07-03T20:07:38.582778",
     "exception": false,
     "start_time": "2022-07-03T20:07:38.415094",
     "status": "completed"
    },
    "tags": []
   },
   "outputs": [
    {
     "data": {
      "image/png": "[encoded data removed]",
      "text/plain": [
       "<Figure size 432x288 with 1 Axes>"
      ]
     },
     "metadata": {
      "needs_background": "light"
     },
     "output_type": "display_data"
    }
   ],
   "source": [
    "plt.imshow(train_set[0], cmap = 'gray', vmin = 0, vmax = 1)\n",
    "plt.show()"
   ]
  },
  {
   "cell_type": "markdown",
   "id": "cb9a60cd",
   "metadata": {
    "papermill": {
     "duration": 0.029285,
     "end_time": "2022-07-03T20:07:38.642013",
     "exception": false,
     "start_time": "2022-07-03T20:07:38.612728",
     "status": "completed"
    },
    "tags": []
   },
   "source": [
    "**2: Создаём и оцениваем модель**"
   ]
  },
  {
   "cell_type": "code",
   "execution_count": 14,
   "id": "a58877b4",
   "metadata": {
    "execution": {
     "iopub.execute_input": "2022-07-03T20:07:38.703706Z",
     "iopub.status.busy": "2022-07-03T20:07:38.703349Z",
     "iopub.status.idle": "2022-07-03T20:07:40.113077Z",
     "shell.execute_reply": "2022-07-03T20:07:40.111341Z"
    },
    "papermill": {
     "duration": 1.443119,
     "end_time": "2022-07-03T20:07:40.115421",
     "exception": false,
     "start_time": "2022-07-03T20:07:38.672302",
     "status": "completed"
    },
    "tags": []
   },
   "outputs": [
    {
     "name": "stdout",
     "output_type": "stream",
     "text": [
      "Model: \"sequential\"\n",
      "_________________________________________________________________\n",
      "Layer (type)                 Output Shape              Param #   \n",
      "=================================================================\n",
      "conv2d (Conv2D)              (None, 28, 28, 64)        3200      \n",
      "_________________________________________________________________\n",
      "max_pooling2d (MaxPooling2D) (None, 14, 14, 64)        0         \n",
      "_________________________________________________________________\n",
      "conv2d_1 (Conv2D)            (None, 14, 14, 128)       73856     \n",
      "_________________________________________________________________\n",
      "conv2d_2 (Conv2D)            (None, 14, 14, 128)       147584    \n",
      "_________________________________________________________________\n",
      "max_pooling2d_1 (MaxPooling2 (None, 7, 7, 128)         0         \n",
      "_________________________________________________________________\n",
      "conv2d_3 (Conv2D)            (None, 7, 7, 256)         295168    \n",
      "_________________________________________________________________\n",
      "conv2d_4 (Conv2D)            (None, 7, 7, 256)         590080    \n",
      "_________________________________________________________________\n",
      "max_pooling2d_2 (MaxPooling2 (None, 3, 3, 256)         0         \n",
      "_________________________________________________________________\n",
      "flatten (Flatten)            (None, 2304)              0         \n",
      "_________________________________________________________________\n",
      "dense (Dense)                (None, 128)               295040    \n",
      "_________________________________________________________________\n",
      "dropout (Dropout)            (None, 128)               0         \n",
      "_________________________________________________________________\n",
      "dense_1 (Dense)              (None, 64)                8256      \n",
      "_________________________________________________________________\n",
      "dropout_1 (Dropout)          (None, 64)                0         \n",
      "_________________________________________________________________\n",
      "dense_2 (Dense)              (None, 10)                650       \n",
      "=================================================================\n",
      "Total params: 1,413,834\n",
      "Trainable params: 1,413,834\n",
      "Non-trainable params: 0\n",
      "_________________________________________________________________\n"
     ]
    },
    {
     "name": "stderr",
     "output_type": "stream",
     "text": [
      "2022-07-03 20:07:39.936165: I tensorflow/core/common_runtime/process_util.cc:146] Creating new thread pool with default inter op setting: 2. Tune using inter_op_parallelism_threads for best performance.\n"
     ]
    }
   ],
   "source": [
    "# Пробывал это модель на Fashion MNISTе (датасет чёрно-белых фото одежды), работала хорошо\n",
    "cnn_model = keras.models.Sequential()\n",
    "cnn_model.add(keras.layers.Conv2D(64, 7, activation = 'relu', padding = 'same', \n",
    "                                  input_shape = image_shape))\n",
    "cnn_model.add(keras.layers.MaxPooling2D(2))\n",
    "cnn_model.add(keras.layers.Conv2D(128, 3, activation = 'relu', padding = 'same'))\n",
    "cnn_model.add(keras.layers.Conv2D(128, 3, activation = 'relu', padding = 'same'))\n",
    "cnn_model.add(keras.layers.MaxPooling2D(2))\n",
    "cnn_model.add(keras.layers.Conv2D(256, 3, activation = 'relu', padding = 'same'))\n",
    "cnn_model.add(keras.layers.Conv2D(256, 3, activation = 'relu', padding = 'same'))\n",
    "cnn_model.add(keras.layers.MaxPooling2D(2))\n",
    "cnn_model.add(keras.layers.Flatten())\n",
    "cnn_model.add(keras.layers.Dense(128, activation = 'relu'))\n",
    "cnn_model.add(keras.layers.Dropout(0.5))\n",
    "cnn_model.add(keras.layers.Dense(64, activation = 'relu'))\n",
    "cnn_model.add(keras.layers.Dropout(0.5))\n",
    "cnn_model.add(keras.layers.Dense(10, activation = 'softmax'))\n",
    "\n",
    "cnn_model.summary()"
   ]
  },
  {
   "cell_type": "code",
   "execution_count": 15,
   "id": "61bdcf23",
   "metadata": {
    "execution": {
     "iopub.execute_input": "2022-07-03T20:07:40.179993Z",
     "iopub.status.busy": "2022-07-03T20:07:40.179479Z",
     "iopub.status.idle": "2022-07-03T20:07:40.193789Z",
     "shell.execute_reply": "2022-07-03T20:07:40.192905Z"
    },
    "papermill": {
     "duration": 0.050264,
     "end_time": "2022-07-03T20:07:40.196211",
     "exception": false,
     "start_time": "2022-07-03T20:07:40.145947",
     "status": "completed"
    },
    "tags": []
   },
   "outputs": [],
   "source": [
    "cnn_model.compile(loss = 'sparse_categorical_crossentropy', \n",
    "                  optimizer = tf.keras.optimizers.Adam(1e-3), \n",
    "                  metrics = ['accuracy'])"
   ]
  },
  {
   "cell_type": "code",
   "execution_count": 16,
   "id": "c54a9e75",
   "metadata": {
    "execution": {
     "iopub.execute_input": "2022-07-03T20:07:40.259140Z",
     "iopub.status.busy": "2022-07-03T20:07:40.258775Z",
     "iopub.status.idle": "2022-07-03T20:24:03.293593Z",
     "shell.execute_reply": "2022-07-03T20:24:03.292516Z"
    },
    "papermill": {
     "duration": 983.070219,
     "end_time": "2022-07-03T20:24:03.296782",
     "exception": false,
     "start_time": "2022-07-03T20:07:40.226563",
     "status": "completed"
    },
    "tags": []
   },
   "outputs": [
    {
     "name": "stderr",
     "output_type": "stream",
     "text": [
      "2022-07-03 20:07:40.523979: I tensorflow/compiler/mlir/mlir_graph_optimization_pass.cc:185] None of the MLIR Optimization Passes are enabled (registered 2)\n"
     ]
    },
    {
     "name": "stdout",
     "output_type": "stream",
     "text": [
      "Epoch 1/5\n",
      "350/350 [==============================] - 187s 533ms/step - loss: 0.6912 - accuracy: 0.7717 - val_loss: 0.0856 - val_accuracy: 0.9799\n",
      "Epoch 2/5\n",
      "350/350 [==============================] - 187s 534ms/step - loss: 0.1822 - accuracy: 0.9512 - val_loss: 0.0827 - val_accuracy: 0.9802\n",
      "Epoch 3/5\n",
      "350/350 [==============================] - 187s 535ms/step - loss: 0.1199 - accuracy: 0.9705 - val_loss: 0.0601 - val_accuracy: 0.9888\n",
      "Epoch 4/5\n",
      "350/350 [==============================] - 186s 533ms/step - loss: 0.1021 - accuracy: 0.9759 - val_loss: 0.0485 - val_accuracy: 0.9900\n",
      "Epoch 5/5\n",
      "350/350 [==============================] - 188s 538ms/step - loss: 0.0743 - accuracy: 0.9822 - val_loss: 0.0479 - val_accuracy: 0.9882\n"
     ]
    }
   ],
   "source": [
    "history = cnn_model.fit(train_set, train_labels, batch_size = 96, \n",
    "                        epochs = 5, validation_data = (val_set, val_labels))"
   ]
  },
  {
   "cell_type": "code",
   "execution_count": 17,
   "id": "0fcc509a",
   "metadata": {
    "execution": {
     "iopub.execute_input": "2022-07-03T20:24:04.659535Z",
     "iopub.status.busy": "2022-07-03T20:24:04.659036Z",
     "iopub.status.idle": "2022-07-03T20:24:19.777786Z",
     "shell.execute_reply": "2022-07-03T20:24:19.776714Z"
    },
    "papermill": {
     "duration": 15.799618,
     "end_time": "2022-07-03T20:24:19.780754",
     "exception": false,
     "start_time": "2022-07-03T20:24:03.981136",
     "status": "completed"
    },
    "tags": []
   },
   "outputs": [
    {
     "data": {
      "text/plain": [
       "array([[825,   0,   0,   0,   0,   0,   0,   0,   1,   0],\n",
       "       [  0, 911,   1,   0,   2,   0,   0,   2,   0,   0],\n",
       "       [  0,   2, 807,   0,   0,   0,   1,   2,   2,   0],\n",
       "       [  0,   0,   3, 880,   0,   4,   0,   2,   5,   1],\n",
       "       [  1,   3,   1,   0, 795,   0,   2,   3,   1,  13],\n",
       "       [  1,   0,   0,   1,   0, 724,   2,   0,   2,   0],\n",
       "       [  1,   0,   0,   0,   0,   0, 863,   0,   1,   0],\n",
       "       [  0,   1,  14,   1,   3,   0,   0, 894,   1,   3],\n",
       "       [  0,   0,   1,   0,   0,   1,   3,   0, 787,   2],\n",
       "       [  1,   0,   0,   0,   1,   2,   0,   1,   4, 815]])"
      ]
     },
     "execution_count": 17,
     "metadata": {},
     "output_type": "execute_result"
    }
   ],
   "source": [
    "#посмотрим на матрицу несоответствий \n",
    "y_val_proba = cnn_model.predict(val_set)\n",
    "y_val_proba = np.argmax(y_val_proba, axis = 1)\n",
    "conf_matrix = confusion_matrix(val_labels, y_val_proba)\n",
    "conf_matrix"
   ]
  },
  {
   "cell_type": "code",
   "execution_count": 18,
   "id": "9cfc2e44",
   "metadata": {
    "execution": {
     "iopub.execute_input": "2022-07-03T20:24:21.232810Z",
     "iopub.status.busy": "2022-07-03T20:24:21.232236Z",
     "iopub.status.idle": "2022-07-03T20:24:21.775737Z",
     "shell.execute_reply": "2022-07-03T20:24:21.774923Z"
    },
    "papermill": {
     "duration": 1.318171,
     "end_time": "2022-07-03T20:24:21.778285",
     "exception": false,
     "start_time": "2022-07-03T20:24:20.460114",
     "status": "completed"
    },
    "tags": []
   },
   "outputs": [
    {
     "data": {
      "text/plain": [
       "<AxesSubplot:>"
      ]
     },
     "execution_count": 18,
     "metadata": {},
     "output_type": "execute_result"
    },
    {
     "data": {
      "image/png": "[encoded data removed]",
      "text/plain": [
       "<Figure size 720x504 with 2 Axes>"
      ]
     },
     "metadata": {
      "needs_background": "light"
     },
     "output_type": "display_data"
    }
   ],
   "source": [
    "df_cm = pd.DataFrame(conf_matrix, index = [i for i in \"0123456789\"],\n",
    "                  columns = [i for i in \"0123456789\"])\n",
    "\n",
    "plt.figure(figsize = (10,7))\n",
    "sn.heatmap(df_cm, annot=True)"
   ]
  },
  {
   "cell_type": "code",
   "execution_count": 19,
   "id": "abbe6c03",
   "metadata": {
    "execution": {
     "iopub.execute_input": "2022-07-03T20:24:23.156787Z",
     "iopub.status.busy": "2022-07-03T20:24:23.156168Z",
     "iopub.status.idle": "2022-07-03T20:25:15.447985Z",
     "shell.execute_reply": "2022-07-03T20:25:15.446725Z"
    },
    "papermill": {
     "duration": 52.995913,
     "end_time": "2022-07-03T20:25:15.450942",
     "exception": false,
     "start_time": "2022-07-03T20:24:22.455029",
     "status": "completed"
    },
    "tags": []
   },
   "outputs": [],
   "source": [
    "test_pred = cnn_model.predict(test_set)\n",
    "test_pred = np.argmax(test_pred, axis = 1)"
   ]
  },
  {
   "cell_type": "code",
   "execution_count": 20,
   "id": "76124dc7",
   "metadata": {
    "execution": {
     "iopub.execute_input": "2022-07-03T20:25:16.838742Z",
     "iopub.status.busy": "2022-07-03T20:25:16.838149Z",
     "iopub.status.idle": "2022-07-03T20:25:17.020232Z",
     "shell.execute_reply": "2022-07-03T20:25:17.019190Z"
    },
    "papermill": {
     "duration": 0.874772,
     "end_time": "2022-07-03T20:25:17.022754",
     "exception": false,
     "start_time": "2022-07-03T20:25:16.147982",
     "status": "completed"
    },
    "tags": []
   },
   "outputs": [
    {
     "data": {
      "image/png": "[encoded data removed]",
      "text/plain": [
       "<Figure size 432x288 with 1 Axes>"
      ]
     },
     "metadata": {
      "needs_background": "light"
     },
     "output_type": "display_data"
    }
   ],
   "source": [
    "plt.imshow(test_set[0], cmap = 'gray', vmin = 0, vmax = 1)\n",
    "plt.show()"
   ]
  },
  {
   "cell_type": "code",
   "execution_count": 21,
   "id": "9827856d",
   "metadata": {
    "execution": {
     "iopub.execute_input": "2022-07-03T20:25:18.397434Z",
     "iopub.status.busy": "2022-07-03T20:25:18.397080Z",
     "iopub.status.idle": "2022-07-03T20:25:18.404608Z",
     "shell.execute_reply": "2022-07-03T20:25:18.403426Z"
    },
    "papermill": {
     "duration": 0.692646,
     "end_time": "2022-07-03T20:25:18.406900",
     "exception": false,
     "start_time": "2022-07-03T20:25:17.714254",
     "status": "completed"
    },
    "tags": []
   },
   "outputs": [
    {
     "data": {
      "text/plain": [
       "2"
      ]
     },
     "execution_count": 21,
     "metadata": {},
     "output_type": "execute_result"
    }
   ],
   "source": [
    "test_pred[0]"
   ]
  },
  {
   "cell_type": "code",
   "execution_count": 22,
   "id": "91a135c7",
   "metadata": {
    "execution": {
     "iopub.execute_input": "2022-07-03T20:25:19.828540Z",
     "iopub.status.busy": "2022-07-03T20:25:19.828214Z",
     "iopub.status.idle": "2022-07-03T20:25:19.887824Z",
     "shell.execute_reply": "2022-07-03T20:25:19.887139Z"
    },
    "papermill": {
     "duration": 0.785185,
     "end_time": "2022-07-03T20:25:19.890626",
     "exception": false,
     "start_time": "2022-07-03T20:25:19.105441",
     "status": "completed"
    },
    "tags": []
   },
   "outputs": [
    {
     "name": "stdout",
     "output_type": "stream",
     "text": [
      "   ImageId  Label\n",
      "0        1      2\n",
      "1        2      0\n",
      "2        3      9\n",
      "3        4      0\n",
      "4        5      3\n"
     ]
    }
   ],
   "source": [
    "sub = pd.DataFrame({'ImageId' : range(1, len(test_pred) + 1),'Label' : test_pred})\n",
    "sub.to_csv('submission.csv',  index = False)\n",
    "print(sub.head())"
   ]
  }
 ],
 "metadata": {
  "kernelspec": {
   "display_name": "Python 3",
   "language": "python",
   "name": "python3"
  },
  "language_info": {
   "codemirror_mode": {
    "name": "ipython",
    "version": 3
   },
   "file_extension": ".py",
   "mimetype": "text/x-python",
   "name": "python",
   "nbconvert_exporter": "python",
   "pygments_lexer": "ipython3",
   "version": "3.7.12"
  },
  "papermill": {
   "default_parameters": {},
   "duration": 1091.036664,
   "end_time": "2022-07-03T20:25:23.703858",
   "environment_variables": {},
   "exception": null,
   "input_path": "__notebook__.ipynb",
   "output_path": "__notebook__.ipynb",
   "parameters": {},
   "start_time": "2022-07-03T20:07:12.667194",
   "version": "2.3.4"
  }
 },
 "nbformat": 4,
 "nbformat_minor": 5
}
