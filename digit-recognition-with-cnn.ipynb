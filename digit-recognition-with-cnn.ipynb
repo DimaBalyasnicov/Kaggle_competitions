{
 "cells": [
  {
   "cell_type": "code",
   "execution_count": 1,
   "id": "6eaf7d5f",
   "metadata": {
    "_cell_guid": "b1076dfc-b9ad-4769-8c92-a6c4dae69d19",
    "_uuid": "8f2839f25d086af736a60e9eeb907d3b93b6e0e5",
    "execution": {
     "iopub.execute_input": "2022-06-24T17:55:46.938393Z",
     "iopub.status.busy": "2022-06-24T17:55:46.937369Z",
     "iopub.status.idle": "2022-06-24T17:55:54.104747Z",
     "shell.execute_reply": "2022-06-24T17:55:54.103671Z"
    },
    "papermill": {
     "duration": 7.196646,
     "end_time": "2022-06-24T17:55:54.107294",
     "exception": false,
     "start_time": "2022-06-24T17:55:46.910648",
     "status": "completed"
    },
    "tags": []
   },
   "outputs": [
    {
     "name": "stdout",
     "output_type": "stream",
     "text": [
      "/kaggle/input/digit-recognizer/sample_submission.csv\n",
      "/kaggle/input/digit-recognizer/train.csv\n",
      "/kaggle/input/digit-recognizer/test.csv\n"
     ]
    }
   ],
   "source": [
    "import numpy as np \n",
    "import pandas as pd \n",
    "from sklearn.model_selection import train_test_split\n",
    "import matplotlib.pyplot as plt\n",
    "import os\n",
    "import tensorflow as tf\n",
    "from tensorflow import keras\n",
    "from sklearn.metrics import confusion_matrix\n",
    "import seaborn as sn\n",
    "\n",
    "#nevermind that, just kaggle thing\n",
    "for dirname, _, filenames in os.walk('/kaggle/input'):\n",
    "    for filename in filenames:\n",
    "        print(os.path.join(dirname, filename))\n"
   ]
  },
  {
   "cell_type": "markdown",
   "id": "f8a29a77",
   "metadata": {
    "papermill": {
     "duration": 0.023999,
     "end_time": "2022-06-24T17:55:54.157974",
     "exception": false,
     "start_time": "2022-06-24T17:55:54.133975",
     "status": "completed"
    },
    "tags": []
   },
   "source": [
    "**Section 1: Data Exploration and Preprocessing**"
   ]
  },
  {
   "cell_type": "code",
   "execution_count": 2,
   "id": "458f69ff",
   "metadata": {
    "execution": {
     "iopub.execute_input": "2022-06-24T17:55:54.208059Z",
     "iopub.status.busy": "2022-06-24T17:55:54.207739Z",
     "iopub.status.idle": "2022-06-24T17:56:00.000117Z",
     "shell.execute_reply": "2022-06-24T17:55:59.999170Z"
    },
    "papermill": {
     "duration": 5.82062,
     "end_time": "2022-06-24T17:56:00.002809",
     "exception": false,
     "start_time": "2022-06-24T17:55:54.182189",
     "status": "completed"
    },
    "tags": []
   },
   "outputs": [],
   "source": [
    "train = pd.read_csv('/kaggle/input/digit-recognizer/train.csv') \n",
    "test = pd.read_csv('/kaggle/input/digit-recognizer/test.csv')"
   ]
  },
  {
   "cell_type": "code",
   "execution_count": 3,
   "id": "96ebda9d",
   "metadata": {
    "execution": {
     "iopub.execute_input": "2022-06-24T17:56:00.054871Z",
     "iopub.status.busy": "2022-06-24T17:56:00.053913Z",
     "iopub.status.idle": "2022-06-24T17:56:00.059556Z",
     "shell.execute_reply": "2022-06-24T17:56:00.058580Z"
    },
    "papermill": {
     "duration": 0.032809,
     "end_time": "2022-06-24T17:56:00.061861",
     "exception": false,
     "start_time": "2022-06-24T17:56:00.029052",
     "status": "completed"
    },
    "tags": []
   },
   "outputs": [
    {
     "name": "stdout",
     "output_type": "stream",
     "text": [
      "(42000, 785)\n",
      "(28000, 784)\n"
     ]
    }
   ],
   "source": [
    "print(train.shape)\n",
    "print(test.shape)"
   ]
  },
  {
   "cell_type": "code",
   "execution_count": 4,
   "id": "939be9b2",
   "metadata": {
    "execution": {
     "iopub.execute_input": "2022-06-24T17:56:00.112936Z",
     "iopub.status.busy": "2022-06-24T17:56:00.112621Z",
     "iopub.status.idle": "2022-06-24T17:56:00.141247Z",
     "shell.execute_reply": "2022-06-24T17:56:00.140319Z"
    },
    "papermill": {
     "duration": 0.056702,
     "end_time": "2022-06-24T17:56:00.143482",
     "exception": false,
     "start_time": "2022-06-24T17:56:00.086780",
     "status": "completed"
    },
    "tags": []
   },
   "outputs": [
    {
     "data": {
      "text/html": [
       "<div>\n",
       "<style scoped>\n",
       "    .dataframe tbody tr th:only-of-type {\n",
       "        vertical-align: middle;\n",
       "    }\n",
       "\n",
       "    .dataframe tbody tr th {\n",
       "        vertical-align: top;\n",
       "    }\n",
       "\n",
       "    .dataframe thead th {\n",
       "        text-align: right;\n",
       "    }\n",
       "</style>\n",
       "<table border=\"1\" class=\"dataframe\">\n",
       "  <thead>\n",
       "    <tr style=\"text-align: right;\">\n",
       "      <th></th>\n",
       "      <th>label</th>\n",
       "      <th>pixel0</th>\n",
       "      <th>pixel1</th>\n",
       "      <th>pixel2</th>\n",
       "      <th>pixel3</th>\n",
       "      <th>pixel4</th>\n",
       "      <th>pixel5</th>\n",
       "      <th>pixel6</th>\n",
       "      <th>pixel7</th>\n",
       "      <th>pixel8</th>\n",
       "      <th>...</th>\n",
       "      <th>pixel774</th>\n",
       "      <th>pixel775</th>\n",
       "      <th>pixel776</th>\n",
       "      <th>pixel777</th>\n",
       "      <th>pixel778</th>\n",
       "      <th>pixel779</th>\n",
       "      <th>pixel780</th>\n",
       "      <th>pixel781</th>\n",
       "      <th>pixel782</th>\n",
       "      <th>pixel783</th>\n",
       "    </tr>\n",
       "  </thead>\n",
       "  <tbody>\n",
       "    <tr>\n",
       "      <th>0</th>\n",
       "      <td>1</td>\n",
       "      <td>0</td>\n",
       "      <td>0</td>\n",
       "      <td>0</td>\n",
       "      <td>0</td>\n",
       "      <td>0</td>\n",
       "      <td>0</td>\n",
       "      <td>0</td>\n",
       "      <td>0</td>\n",
       "      <td>0</td>\n",
       "      <td>...</td>\n",
       "      <td>0</td>\n",
       "      <td>0</td>\n",
       "      <td>0</td>\n",
       "      <td>0</td>\n",
       "      <td>0</td>\n",
       "      <td>0</td>\n",
       "      <td>0</td>\n",
       "      <td>0</td>\n",
       "      <td>0</td>\n",
       "      <td>0</td>\n",
       "    </tr>\n",
       "    <tr>\n",
       "      <th>1</th>\n",
       "      <td>0</td>\n",
       "      <td>0</td>\n",
       "      <td>0</td>\n",
       "      <td>0</td>\n",
       "      <td>0</td>\n",
       "      <td>0</td>\n",
       "      <td>0</td>\n",
       "      <td>0</td>\n",
       "      <td>0</td>\n",
       "      <td>0</td>\n",
       "      <td>...</td>\n",
       "      <td>0</td>\n",
       "      <td>0</td>\n",
       "      <td>0</td>\n",
       "      <td>0</td>\n",
       "      <td>0</td>\n",
       "      <td>0</td>\n",
       "      <td>0</td>\n",
       "      <td>0</td>\n",
       "      <td>0</td>\n",
       "      <td>0</td>\n",
       "    </tr>\n",
       "    <tr>\n",
       "      <th>2</th>\n",
       "      <td>1</td>\n",
       "      <td>0</td>\n",
       "      <td>0</td>\n",
       "      <td>0</td>\n",
       "      <td>0</td>\n",
       "      <td>0</td>\n",
       "      <td>0</td>\n",
       "      <td>0</td>\n",
       "      <td>0</td>\n",
       "      <td>0</td>\n",
       "      <td>...</td>\n",
       "      <td>0</td>\n",
       "      <td>0</td>\n",
       "      <td>0</td>\n",
       "      <td>0</td>\n",
       "      <td>0</td>\n",
       "      <td>0</td>\n",
       "      <td>0</td>\n",
       "      <td>0</td>\n",
       "      <td>0</td>\n",
       "      <td>0</td>\n",
       "    </tr>\n",
       "    <tr>\n",
       "      <th>3</th>\n",
       "      <td>4</td>\n",
       "      <td>0</td>\n",
       "      <td>0</td>\n",
       "      <td>0</td>\n",
       "      <td>0</td>\n",
       "      <td>0</td>\n",
       "      <td>0</td>\n",
       "      <td>0</td>\n",
       "      <td>0</td>\n",
       "      <td>0</td>\n",
       "      <td>...</td>\n",
       "      <td>0</td>\n",
       "      <td>0</td>\n",
       "      <td>0</td>\n",
       "      <td>0</td>\n",
       "      <td>0</td>\n",
       "      <td>0</td>\n",
       "      <td>0</td>\n",
       "      <td>0</td>\n",
       "      <td>0</td>\n",
       "      <td>0</td>\n",
       "    </tr>\n",
       "    <tr>\n",
       "      <th>4</th>\n",
       "      <td>0</td>\n",
       "      <td>0</td>\n",
       "      <td>0</td>\n",
       "      <td>0</td>\n",
       "      <td>0</td>\n",
       "      <td>0</td>\n",
       "      <td>0</td>\n",
       "      <td>0</td>\n",
       "      <td>0</td>\n",
       "      <td>0</td>\n",
       "      <td>...</td>\n",
       "      <td>0</td>\n",
       "      <td>0</td>\n",
       "      <td>0</td>\n",
       "      <td>0</td>\n",
       "      <td>0</td>\n",
       "      <td>0</td>\n",
       "      <td>0</td>\n",
       "      <td>0</td>\n",
       "      <td>0</td>\n",
       "      <td>0</td>\n",
       "    </tr>\n",
       "  </tbody>\n",
       "</table>\n",
       "<p>5 rows × 785 columns</p>\n",
       "</div>"
      ],
      "text/plain": [
       "   label  pixel0  pixel1  pixel2  pixel3  pixel4  pixel5  pixel6  pixel7  \\\n",
       "0      1       0       0       0       0       0       0       0       0   \n",
       "1      0       0       0       0       0       0       0       0       0   \n",
       "2      1       0       0       0       0       0       0       0       0   \n",
       "3      4       0       0       0       0       0       0       0       0   \n",
       "4      0       0       0       0       0       0       0       0       0   \n",
       "\n",
       "   pixel8  ...  pixel774  pixel775  pixel776  pixel777  pixel778  pixel779  \\\n",
       "0       0  ...         0         0         0         0         0         0   \n",
       "1       0  ...         0         0         0         0         0         0   \n",
       "2       0  ...         0         0         0         0         0         0   \n",
       "3       0  ...         0         0         0         0         0         0   \n",
       "4       0  ...         0         0         0         0         0         0   \n",
       "\n",
       "   pixel780  pixel781  pixel782  pixel783  \n",
       "0         0         0         0         0  \n",
       "1         0         0         0         0  \n",
       "2         0         0         0         0  \n",
       "3         0         0         0         0  \n",
       "4         0         0         0         0  \n",
       "\n",
       "[5 rows x 785 columns]"
      ]
     },
     "execution_count": 4,
     "metadata": {},
     "output_type": "execute_result"
    }
   ],
   "source": [
    "train.head(5)"
   ]
  },
  {
   "cell_type": "code",
   "execution_count": 5,
   "id": "7cc4888c",
   "metadata": {
    "execution": {
     "iopub.execute_input": "2022-06-24T17:56:00.195025Z",
     "iopub.status.busy": "2022-06-24T17:56:00.194390Z",
     "iopub.status.idle": "2022-06-24T17:56:00.207145Z",
     "shell.execute_reply": "2022-06-24T17:56:00.206315Z"
    },
    "papermill": {
     "duration": 0.041205,
     "end_time": "2022-06-24T17:56:00.209214",
     "exception": false,
     "start_time": "2022-06-24T17:56:00.168009",
     "status": "completed"
    },
    "tags": []
   },
   "outputs": [
    {
     "data": {
      "text/plain": [
       "array([1, 0, 4, 7, 3, 5, 8, 9, 2, 6])"
      ]
     },
     "execution_count": 5,
     "metadata": {},
     "output_type": "execute_result"
    }
   ],
   "source": [
    "train['label'].unique()"
   ]
  },
  {
   "cell_type": "code",
   "execution_count": 6,
   "id": "167194af",
   "metadata": {
    "execution": {
     "iopub.execute_input": "2022-06-24T17:56:00.261970Z",
     "iopub.status.busy": "2022-06-24T17:56:00.261141Z",
     "iopub.status.idle": "2022-06-24T17:56:00.345156Z",
     "shell.execute_reply": "2022-06-24T17:56:00.343702Z"
    },
    "papermill": {
     "duration": 0.113211,
     "end_time": "2022-06-24T17:56:00.348401",
     "exception": false,
     "start_time": "2022-06-24T17:56:00.235190",
     "status": "completed"
    },
    "tags": []
   },
   "outputs": [
    {
     "name": "stdout",
     "output_type": "stream",
     "text": [
      "0\n",
      "0\n"
     ]
    }
   ],
   "source": [
    "#check for NaN(Null) values\n",
    "train_nans = 0\n",
    "test_nans = 0\n",
    "for i in train.isna().sum():\n",
    "    if i > 0:\n",
    "        train_nans += 1\n",
    "for i in test.isna().sum():\n",
    "    if i > 0:\n",
    "        test_nans += 1\n",
    "print(train_nans)\n",
    "print(test_nans)\n",
    "#nice"
   ]
  },
  {
   "cell_type": "code",
   "execution_count": 7,
   "id": "e7a918a4",
   "metadata": {
    "execution": {
     "iopub.execute_input": "2022-06-24T17:56:00.401745Z",
     "iopub.status.busy": "2022-06-24T17:56:00.401059Z",
     "iopub.status.idle": "2022-06-24T17:56:00.644296Z",
     "shell.execute_reply": "2022-06-24T17:56:00.643193Z"
    },
    "papermill": {
     "duration": 0.272363,
     "end_time": "2022-06-24T17:56:00.646959",
     "exception": false,
     "start_time": "2022-06-24T17:56:00.374596",
     "status": "completed"
    },
    "tags": []
   },
   "outputs": [],
   "source": [
    "#create\n",
    "train_set, val_set = train_test_split(train, test_size = 0.2, random_state  = 49)"
   ]
  },
  {
   "cell_type": "code",
   "execution_count": 8,
   "id": "2cecc6a1",
   "metadata": {
    "execution": {
     "iopub.execute_input": "2022-06-24T17:56:00.703994Z",
     "iopub.status.busy": "2022-06-24T17:56:00.703688Z",
     "iopub.status.idle": "2022-06-24T17:56:00.953960Z",
     "shell.execute_reply": "2022-06-24T17:56:00.953100Z"
    },
    "papermill": {
     "duration": 0.282014,
     "end_time": "2022-06-24T17:56:00.956353",
     "exception": false,
     "start_time": "2022-06-24T17:56:00.674339",
     "status": "completed"
    },
    "tags": []
   },
   "outputs": [
    {
     "data": {
      "text/plain": [
       "<AxesSubplot:>"
      ]
     },
     "execution_count": 8,
     "metadata": {},
     "output_type": "execute_result"
    },
    {
     "data": {
      "image/png": "[encoded data removed]",
      "text/plain": [
       "<Figure size 432x288 with 1 Axes>"
      ]
     },
     "metadata": {
      "needs_background": "light"
     },
     "output_type": "display_data"
    }
   ],
   "source": [
    "train_set.label.hist()"
   ]
  },
  {
   "cell_type": "code",
   "execution_count": 9,
   "id": "62f1d081",
   "metadata": {
    "execution": {
     "iopub.execute_input": "2022-06-24T17:56:01.011436Z",
     "iopub.status.busy": "2022-06-24T17:56:01.010969Z",
     "iopub.status.idle": "2022-06-24T17:56:01.197870Z",
     "shell.execute_reply": "2022-06-24T17:56:01.196930Z"
    },
    "papermill": {
     "duration": 0.217256,
     "end_time": "2022-06-24T17:56:01.200216",
     "exception": false,
     "start_time": "2022-06-24T17:56:00.982960",
     "status": "completed"
    },
    "tags": []
   },
   "outputs": [
    {
     "data": {
      "text/plain": [
       "<AxesSubplot:>"
      ]
     },
     "execution_count": 9,
     "metadata": {},
     "output_type": "execute_result"
    },
    {
     "data": {
      "image/png": "[encoded data removed]",
      "text/plain": [
       "<Figure size 432x288 with 1 Axes>"
      ]
     },
     "metadata": {
      "needs_background": "light"
     },
     "output_type": "display_data"
    }
   ],
   "source": [
    "val_set.label.hist()\n",
    "#the ration seems legit"
   ]
  },
  {
   "cell_type": "code",
   "execution_count": 10,
   "id": "d1ac82b5",
   "metadata": {
    "execution": {
     "iopub.execute_input": "2022-06-24T17:56:01.260194Z",
     "iopub.status.busy": "2022-06-24T17:56:01.259262Z",
     "iopub.status.idle": "2022-06-24T17:56:01.348790Z",
     "shell.execute_reply": "2022-06-24T17:56:01.347759Z"
    },
    "papermill": {
     "duration": 0.1221,
     "end_time": "2022-06-24T17:56:01.351310",
     "exception": false,
     "start_time": "2022-06-24T17:56:01.229210",
     "status": "completed"
    },
    "tags": []
   },
   "outputs": [],
   "source": [
    "#create X(train_set) and Y(train_labels)\n",
    "train_labels = train_set['label'].copy()\n",
    "train_labels = train_labels.to_numpy()\n",
    "train_set.drop('label', axis = 1, inplace = True)\n",
    "val_labels = val_set['label'].copy()\n",
    "val_labels = val_labels.to_numpy()\n",
    "val_set.drop('label', axis = 1, inplace = True)"
   ]
  },
  {
   "cell_type": "code",
   "execution_count": 11,
   "id": "c750d6ab",
   "metadata": {
    "execution": {
     "iopub.execute_input": "2022-06-24T17:56:01.411539Z",
     "iopub.status.busy": "2022-06-24T17:56:01.410650Z",
     "iopub.status.idle": "2022-06-24T17:56:01.590394Z",
     "shell.execute_reply": "2022-06-24T17:56:01.589530Z"
    },
    "papermill": {
     "duration": 0.212771,
     "end_time": "2022-06-24T17:56:01.592780",
     "exception": false,
     "start_time": "2022-06-24T17:56:01.380009",
     "status": "completed"
    },
    "tags": []
   },
   "outputs": [],
   "source": [
    "#divide by density to standardize\n",
    "train_set = train_set.to_numpy() / 255\n",
    "val_set = val_set.to_numpy() / 255\n",
    "test_set = test.to_numpy() / 255\n",
    "\n",
    "#make a 1D array into image\n",
    "image_shape = (28, 28, 1)\n",
    "train_set = np.reshape(train_set, (train_set.shape[0], *image_shape))\n",
    "val_set = np.reshape(val_set, (val_set.shape[0], *image_shape))\n",
    "test_set = np.reshape(test_set, (test.shape[0], *image_shape))"
   ]
  },
  {
   "cell_type": "code",
   "execution_count": 12,
   "id": "66f53f5c",
   "metadata": {
    "execution": {
     "iopub.execute_input": "2022-06-24T17:56:01.650715Z",
     "iopub.status.busy": "2022-06-24T17:56:01.649728Z",
     "iopub.status.idle": "2022-06-24T17:56:01.831944Z",
     "shell.execute_reply": "2022-06-24T17:56:01.831184Z"
    },
    "papermill": {
     "duration": 0.213656,
     "end_time": "2022-06-24T17:56:01.833982",
     "exception": false,
     "start_time": "2022-06-24T17:56:01.620326",
     "status": "completed"
    },
    "tags": []
   },
   "outputs": [
    {
     "data": {
      "image/png": "[encoded data removed]",
      "text/plain": [
       "<Figure size 432x288 with 1 Axes>"
      ]
     },
     "metadata": {
      "needs_background": "light"
     },
     "output_type": "display_data"
    }
   ],
   "source": [
    "plt.imshow(train_set[0], cmap = 'gray', vmin = 0, vmax = 1)\n",
    "plt.show()"
   ]
  },
  {
   "cell_type": "markdown",
   "id": "485ad276",
   "metadata": {
    "papermill": {
     "duration": 0.027863,
     "end_time": "2022-06-24T17:56:01.890572",
     "exception": false,
     "start_time": "2022-06-24T17:56:01.862709",
     "status": "completed"
    },
    "tags": []
   },
   "source": [
    "**Section 2: Creating and Evaluating a Model**"
   ]
  },
  {
   "cell_type": "code",
   "execution_count": 13,
   "id": "fd3b4178",
   "metadata": {
    "execution": {
     "iopub.execute_input": "2022-06-24T17:56:01.951070Z",
     "iopub.status.busy": "2022-06-24T17:56:01.950518Z",
     "iopub.status.idle": "2022-06-24T17:56:03.518204Z",
     "shell.execute_reply": "2022-06-24T17:56:03.516755Z"
    },
    "papermill": {
     "duration": 1.601652,
     "end_time": "2022-06-24T17:56:03.520459",
     "exception": false,
     "start_time": "2022-06-24T17:56:01.918807",
     "status": "completed"
    },
    "tags": []
   },
   "outputs": [
    {
     "name": "stdout",
     "output_type": "stream",
     "text": [
      "Model: \"sequential\"\n",
      "_________________________________________________________________\n",
      "Layer (type)                 Output Shape              Param #   \n",
      "=================================================================\n",
      "conv2d (Conv2D)              (None, 28, 28, 64)        3200      \n",
      "_________________________________________________________________\n",
      "max_pooling2d (MaxPooling2D) (None, 14, 14, 64)        0         \n",
      "_________________________________________________________________\n",
      "conv2d_1 (Conv2D)            (None, 14, 14, 128)       73856     \n",
      "_________________________________________________________________\n",
      "conv2d_2 (Conv2D)            (None, 14, 14, 128)       147584    \n",
      "_________________________________________________________________\n",
      "max_pooling2d_1 (MaxPooling2 (None, 7, 7, 128)         0         \n",
      "_________________________________________________________________\n",
      "conv2d_3 (Conv2D)            (None, 7, 7, 256)         295168    \n",
      "_________________________________________________________________\n",
      "conv2d_4 (Conv2D)            (None, 7, 7, 256)         590080    \n",
      "_________________________________________________________________\n",
      "max_pooling2d_2 (MaxPooling2 (None, 3, 3, 256)         0         \n",
      "_________________________________________________________________\n",
      "flatten (Flatten)            (None, 2304)              0         \n",
      "_________________________________________________________________\n",
      "dense (Dense)                (None, 128)               295040    \n",
      "_________________________________________________________________\n",
      "dropout (Dropout)            (None, 128)               0         \n",
      "_________________________________________________________________\n",
      "dense_1 (Dense)              (None, 64)                8256      \n",
      "_________________________________________________________________\n",
      "dropout_1 (Dropout)          (None, 64)                0         \n",
      "_________________________________________________________________\n",
      "dense_2 (Dense)              (None, 10)                650       \n",
      "=================================================================\n",
      "Total params: 1,413,834\n",
      "Trainable params: 1,413,834\n",
      "Non-trainable params: 0\n",
      "_________________________________________________________________\n"
     ]
    },
    {
     "name": "stderr",
     "output_type": "stream",
     "text": [
      "2022-06-24 17:56:03.332448: I tensorflow/core/common_runtime/process_util.cc:146] Creating new thread pool with default inter op setting: 2. Tune using inter_op_parallelism_threads for best performance.\n"
     ]
    }
   ],
   "source": [
    "#used it before on Fashing MNIST, which worked well, and it worked fine for this\n",
    "cnn_model = keras.models.Sequential()\n",
    "cnn_model.add(keras.layers.Conv2D(64, 7, activation = 'relu', padding = 'same', \n",
    "                                  input_shape = image_shape))\n",
    "cnn_model.add(keras.layers.MaxPooling2D(2))\n",
    "cnn_model.add(keras.layers.Conv2D(128, 3, activation = 'relu', padding = 'same'))\n",
    "cnn_model.add(keras.layers.Conv2D(128, 3, activation = 'relu', padding = 'same'))\n",
    "cnn_model.add(keras.layers.MaxPooling2D(2))\n",
    "cnn_model.add(keras.layers.Conv2D(256, 3, activation = 'relu', padding = 'same'))\n",
    "cnn_model.add(keras.layers.Conv2D(256, 3, activation = 'relu', padding = 'same'))\n",
    "cnn_model.add(keras.layers.MaxPooling2D(2))\n",
    "cnn_model.add(keras.layers.Flatten())\n",
    "cnn_model.add(keras.layers.Dense(128, activation = 'relu'))\n",
    "cnn_model.add(keras.layers.Dropout(0.5))\n",
    "cnn_model.add(keras.layers.Dense(64, activation = 'relu'))\n",
    "cnn_model.add(keras.layers.Dropout(0.5))\n",
    "cnn_model.add(keras.layers.Dense(10, activation = 'softmax'))\n",
    "\n",
    "cnn_model.summary()"
   ]
  },
  {
   "cell_type": "code",
   "execution_count": 14,
   "id": "a08f45d1",
   "metadata": {
    "execution": {
     "iopub.execute_input": "2022-06-24T17:56:03.581676Z",
     "iopub.status.busy": "2022-06-24T17:56:03.581329Z",
     "iopub.status.idle": "2022-06-24T17:56:03.597324Z",
     "shell.execute_reply": "2022-06-24T17:56:03.596204Z"
    },
    "papermill": {
     "duration": 0.049911,
     "end_time": "2022-06-24T17:56:03.600200",
     "exception": false,
     "start_time": "2022-06-24T17:56:03.550289",
     "status": "completed"
    },
    "tags": []
   },
   "outputs": [],
   "source": [
    "cnn_model.compile(loss = 'sparse_categorical_crossentropy', \n",
    "                  optimizer = tf.keras.optimizers.Adam(1e-3), \n",
    "                  metrics = ['accuracy'])"
   ]
  },
  {
   "cell_type": "code",
   "execution_count": 15,
   "id": "64c95358",
   "metadata": {
    "execution": {
     "iopub.execute_input": "2022-06-24T17:56:03.661588Z",
     "iopub.status.busy": "2022-06-24T17:56:03.661274Z",
     "iopub.status.idle": "2022-06-24T18:11:08.396239Z",
     "shell.execute_reply": "2022-06-24T18:11:08.395054Z"
    },
    "papermill": {
     "duration": 904.769003,
     "end_time": "2022-06-24T18:11:08.399169",
     "exception": false,
     "start_time": "2022-06-24T17:56:03.630166",
     "status": "completed"
    },
    "tags": []
   },
   "outputs": [
    {
     "name": "stderr",
     "output_type": "stream",
     "text": [
      "2022-06-24 17:56:03.919232: I tensorflow/compiler/mlir/mlir_graph_optimization_pass.cc:185] None of the MLIR Optimization Passes are enabled (registered 2)\n"
     ]
    },
    {
     "name": "stdout",
     "output_type": "stream",
     "text": [
      "Epoch 1/5\n",
      "350/350 [==============================] - 181s 514ms/step - loss: 0.6847 - accuracy: 0.7689 - val_loss: 0.0877 - val_accuracy: 0.9793\n",
      "Epoch 2/5\n",
      "350/350 [==============================] - 181s 517ms/step - loss: 0.1681 - accuracy: 0.9565 - val_loss: 0.0581 - val_accuracy: 0.9836\n",
      "Epoch 3/5\n",
      "350/350 [==============================] - 180s 516ms/step - loss: 0.1165 - accuracy: 0.9708 - val_loss: 0.0560 - val_accuracy: 0.9873\n",
      "Epoch 4/5\n",
      "350/350 [==============================] - 181s 518ms/step - loss: 0.0957 - accuracy: 0.9766 - val_loss: 0.0564 - val_accuracy: 0.9877\n",
      "Epoch 5/5\n",
      "350/350 [==============================] - 181s 517ms/step - loss: 0.0723 - accuracy: 0.9826 - val_loss: 0.0476 - val_accuracy: 0.9890\n"
     ]
    }
   ],
   "source": [
    "history = cnn_model.fit(train_set, train_labels, batch_size = 96, \n",
    "                        epochs = 5, validation_data = (val_set, val_labels))"
   ]
  },
  {
   "cell_type": "code",
   "execution_count": 16,
   "id": "d9b86e54",
   "metadata": {
    "execution": {
     "iopub.execute_input": "2022-06-24T18:11:09.755895Z",
     "iopub.status.busy": "2022-06-24T18:11:09.755250Z",
     "iopub.status.idle": "2022-06-24T18:11:25.065382Z",
     "shell.execute_reply": "2022-06-24T18:11:25.064682Z"
    },
    "papermill": {
     "duration": 15.995257,
     "end_time": "2022-06-24T18:11:25.067387",
     "exception": false,
     "start_time": "2022-06-24T18:11:09.072130",
     "status": "completed"
    },
    "tags": []
   },
   "outputs": [
    {
     "data": {
      "text/plain": [
       "array([[825,   0,   1,   0,   0,   0,   0,   0,   0,   0],\n",
       "       [  0, 915,   0,   0,   0,   0,   0,   0,   0,   1],\n",
       "       [  0,   0, 810,   2,   0,   0,   0,   1,   1,   0],\n",
       "       [  0,   0,   2, 878,   0,  10,   0,   3,   0,   2],\n",
       "       [  0,   2,   2,   0, 812,   0,   1,   0,   0,   2],\n",
       "       [  1,   0,   0,   1,   0, 723,   2,   0,   1,   2],\n",
       "       [  1,   0,   0,   0,   0,   0, 864,   0,   0,   0],\n",
       "       [  0,   2,   3,   1,   2,   0,   0, 902,   0,   7],\n",
       "       [  2,   0,   4,   1,   4,   3,   1,   0, 764,  15],\n",
       "       [  0,   0,   0,   0,   6,   1,   0,   1,   1, 815]])"
      ]
     },
     "execution_count": 16,
     "metadata": {},
     "output_type": "execute_result"
    }
   ],
   "source": [
    "#lets look at confusion matrix to see how well the model performs on validation set\n",
    "y_val_proba = cnn_model.predict(val_set)\n",
    "y_val_proba = np.argmax(y_val_proba, axis = 1)\n",
    "conf_matrix = confusion_matrix(val_labels, y_val_proba)\n",
    "conf_matrix"
   ]
  },
  {
   "cell_type": "code",
   "execution_count": 17,
   "id": "20163886",
   "metadata": {
    "execution": {
     "iopub.execute_input": "2022-06-24T18:11:26.513213Z",
     "iopub.status.busy": "2022-06-24T18:11:26.512521Z",
     "iopub.status.idle": "2022-06-24T18:11:27.298356Z",
     "shell.execute_reply": "2022-06-24T18:11:27.297393Z"
    },
    "papermill": {
     "duration": 1.461305,
     "end_time": "2022-06-24T18:11:27.301020",
     "exception": false,
     "start_time": "2022-06-24T18:11:25.839715",
     "status": "completed"
    },
    "tags": []
   },
   "outputs": [
    {
     "data": {
      "text/plain": [
       "<AxesSubplot:>"
      ]
     },
     "execution_count": 17,
     "metadata": {},
     "output_type": "execute_result"
    },
    {
     "data": {
      "image/png": "[encoded data removed]",
      "text/plain": [
       "<Figure size 720x504 with 2 Axes>"
      ]
     },
     "metadata": {
      "needs_background": "light"
     },
     "output_type": "display_data"
    }
   ],
   "source": [
    "df_cm = pd.DataFrame(conf_matrix, index = [i for i in \"0123456789\"],\n",
    "                  columns = [i for i in \"0123456789\"])\n",
    "\n",
    "plt.figure(figsize = (10,7))\n",
    "sn.heatmap(df_cm, annot=True)"
   ]
  },
  {
   "cell_type": "code",
   "execution_count": 18,
   "id": "0fbac6ed",
   "metadata": {
    "execution": {
     "iopub.execute_input": "2022-06-24T18:11:28.648827Z",
     "iopub.status.busy": "2022-06-24T18:11:28.648219Z",
     "iopub.status.idle": "2022-06-24T18:12:17.044685Z",
     "shell.execute_reply": "2022-06-24T18:12:17.043545Z"
    },
    "papermill": {
     "duration": 49.070816,
     "end_time": "2022-06-24T18:12:17.047306",
     "exception": false,
     "start_time": "2022-06-24T18:11:27.976490",
     "status": "completed"
    },
    "tags": []
   },
   "outputs": [],
   "source": [
    "test_pred = cnn_model.predict(test_set)\n",
    "test_pred = np.argmax(test_pred, axis = 1)"
   ]
  },
  {
   "cell_type": "code",
   "execution_count": 19,
   "id": "dcdd23b8",
   "metadata": {
    "execution": {
     "iopub.execute_input": "2022-06-24T18:12:18.465787Z",
     "iopub.status.busy": "2022-06-24T18:12:18.465359Z",
     "iopub.status.idle": "2022-06-24T18:12:18.649543Z",
     "shell.execute_reply": "2022-06-24T18:12:18.648610Z"
    },
    "papermill": {
     "duration": 0.918176,
     "end_time": "2022-06-24T18:12:18.652298",
     "exception": false,
     "start_time": "2022-06-24T18:12:17.734122",
     "status": "completed"
    },
    "tags": []
   },
   "outputs": [
    {
     "data": {
      "image/png": "[encoded data removed]",
      "text/plain": [
       "<Figure size 432x288 with 1 Axes>"
      ]
     },
     "metadata": {
      "needs_background": "light"
     },
     "output_type": "display_data"
    }
   ],
   "source": [
    "plt.imshow(test_set[0], cmap = 'gray', vmin = 0, vmax = 1)\n",
    "plt.show()"
   ]
  },
  {
   "cell_type": "code",
   "execution_count": 20,
   "id": "cc8ef815",
   "metadata": {
    "execution": {
     "iopub.execute_input": "2022-06-24T18:12:20.027505Z",
     "iopub.status.busy": "2022-06-24T18:12:20.027167Z",
     "iopub.status.idle": "2022-06-24T18:12:20.032911Z",
     "shell.execute_reply": "2022-06-24T18:12:20.032070Z"
    },
    "papermill": {
     "duration": 0.686142,
     "end_time": "2022-06-24T18:12:20.035406",
     "exception": false,
     "start_time": "2022-06-24T18:12:19.349264",
     "status": "completed"
    },
    "tags": []
   },
   "outputs": [
    {
     "data": {
      "text/plain": [
       "2"
      ]
     },
     "execution_count": 20,
     "metadata": {},
     "output_type": "execute_result"
    }
   ],
   "source": [
    "#seems legit\n",
    "test_pred[0]"
   ]
  },
  {
   "cell_type": "code",
   "execution_count": 21,
   "id": "9b2fd2de",
   "metadata": {
    "execution": {
     "iopub.execute_input": "2022-06-24T18:12:21.394889Z",
     "iopub.status.busy": "2022-06-24T18:12:21.394527Z",
     "iopub.status.idle": "2022-06-24T18:12:21.451142Z",
     "shell.execute_reply": "2022-06-24T18:12:21.450356Z"
    },
    "papermill": {
     "duration": 0.739543,
     "end_time": "2022-06-24T18:12:21.453420",
     "exception": false,
     "start_time": "2022-06-24T18:12:20.713877",
     "status": "completed"
    },
    "tags": []
   },
   "outputs": [
    {
     "name": "stdout",
     "output_type": "stream",
     "text": [
      "   ImageId  Label\n",
      "0        1      2\n",
      "1        2      0\n",
      "2        3      9\n",
      "3        4      0\n",
      "4        5      3\n"
     ]
    }
   ],
   "source": [
    "sub = pd.DataFrame({'ImageId' : range(1, len(test_pred) + 1),'Label' : test_pred})\n",
    "sub.to_csv('submission.csv',  index = False)\n",
    "print(sub.head())"
   ]
  }
 ],
 "metadata": {
  "kernelspec": {
   "display_name": "Python 3",
   "language": "python",
   "name": "python3"
  },
  "language_info": {
   "codemirror_mode": {
    "name": "ipython",
    "version": 3
   },
   "file_extension": ".py",
   "mimetype": "text/x-python",
   "name": "python",
   "nbconvert_exporter": "python",
   "pygments_lexer": "ipython3",
   "version": "3.7.12"
  },
  "papermill": {
   "default_parameters": {},
   "duration": 1008.991701,
   "end_time": "2022-06-24T18:12:25.160737",
   "environment_variables": {},
   "exception": null,
   "input_path": "__notebook__.ipynb",
   "output_path": "__notebook__.ipynb",
   "parameters": {},
   "start_time": "2022-06-24T17:55:36.169036",
   "version": "2.3.4"
  }
 },
 "nbformat": 4,
 "nbformat_minor": 5
}
