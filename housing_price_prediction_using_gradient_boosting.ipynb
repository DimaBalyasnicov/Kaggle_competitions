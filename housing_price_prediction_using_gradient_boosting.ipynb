{
 "cells": [
  {
   "cell_type": "code",
   "execution_count": 1,
   "id": "b64a2da3",
   "metadata": {
    "_cell_guid": "b1076dfc-b9ad-4769-8c92-a6c4dae69d19",
    "_uuid": "8f2839f25d086af736a60e9eeb907d3b93b6e0e5",
    "execution": {
     "iopub.execute_input": "2022-07-14T19:36:05.675766Z",
     "iopub.status.busy": "2022-07-14T19:36:05.675239Z",
     "iopub.status.idle": "2022-07-14T19:36:07.093208Z",
     "shell.execute_reply": "2022-07-14T19:36:07.092282Z"
    },
    "papermill": {
     "duration": 1.449848,
     "end_time": "2022-07-14T19:36:07.095447",
     "exception": false,
     "start_time": "2022-07-14T19:36:05.645599",
     "status": "completed"
    },
    "tags": []
   },
   "outputs": [
    {
     "name": "stdout",
     "output_type": "stream",
     "text": [
      "/kaggle/input/house-prices-advanced-regression-techniques/sample_submission.csv\n",
      "/kaggle/input/house-prices-advanced-regression-techniques/data_description.txt\n",
      "/kaggle/input/house-prices-advanced-regression-techniques/train.csv\n",
      "/kaggle/input/house-prices-advanced-regression-techniques/test.csv\n"
     ]
    }
   ],
   "source": [
    "import numpy as np \n",
    "import pandas as pd\n",
    "import matplotlib.pyplot as plt\n",
    "from sklearn.preprocessing import StandardScaler\n",
    "from sklearn.preprocessing import OneHotEncoder\n",
    "from sklearn.compose import ColumnTransformer\n",
    "from sklearn.linear_model import SGDRegressor \n",
    "from sklearn.ensemble import GradientBoostingRegressor\n",
    "from sklearn.svm import SVR\n",
    "from sklearn.model_selection import GridSearchCV\n",
    "from sklearn.model_selection import cross_val_score\n",
    "\n",
    "import os\n",
    "for dirname, _, filenames in os.walk('/kaggle/input'):\n",
    "    for filename in filenames:\n",
    "        print(os.path.join(dirname, filename))\n"
   ]
  },
  {
   "cell_type": "markdown",
   "id": "a43584f7",
   "metadata": {
    "papermill": {
     "duration": 0.025927,
     "end_time": "2022-07-14T19:36:07.149852",
     "exception": false,
     "start_time": "2022-07-14T19:36:07.123925",
     "status": "completed"
    },
    "tags": []
   },
   "source": [
    "**1: EDA**\n",
    "\n",
    "P. S. Большая часть кода данной секции отсутсвует, чтобы сделать всё более компактным и более \"читабельным\""
   ]
  },
  {
   "cell_type": "code",
   "execution_count": 2,
   "id": "81355fa3",
   "metadata": {
    "execution": {
     "iopub.execute_input": "2022-07-14T19:36:07.203943Z",
     "iopub.status.busy": "2022-07-14T19:36:07.203660Z",
     "iopub.status.idle": "2022-07-14T19:36:07.272445Z",
     "shell.execute_reply": "2022-07-14T19:36:07.271545Z"
    },
    "papermill": {
     "duration": 0.098549,
     "end_time": "2022-07-14T19:36:07.274728",
     "exception": false,
     "start_time": "2022-07-14T19:36:07.176179",
     "status": "completed"
    },
    "tags": []
   },
   "outputs": [],
   "source": [
    "train = pd.read_csv('/kaggle/input/house-prices-advanced-regression-techniques/train.csv')\n",
    "test = pd.read_csv('/kaggle/input/house-prices-advanced-regression-techniques/test.csv')"
   ]
  },
  {
   "cell_type": "code",
   "execution_count": 3,
   "id": "d628e308",
   "metadata": {
    "execution": {
     "iopub.execute_input": "2022-07-14T19:36:07.329817Z",
     "iopub.status.busy": "2022-07-14T19:36:07.329509Z",
     "iopub.status.idle": "2022-07-14T19:36:07.362644Z",
     "shell.execute_reply": "2022-07-14T19:36:07.361994Z"
    },
    "papermill": {
     "duration": 0.063152,
     "end_time": "2022-07-14T19:36:07.365075",
     "exception": false,
     "start_time": "2022-07-14T19:36:07.301923",
     "status": "completed"
    },
    "tags": []
   },
   "outputs": [
    {
     "name": "stdout",
     "output_type": "stream",
     "text": [
      "<class 'pandas.core.frame.DataFrame'>\n",
      "RangeIndex: 1460 entries, 0 to 1459\n",
      "Data columns (total 81 columns):\n",
      " #   Column         Non-Null Count  Dtype  \n",
      "---  ------         --------------  -----  \n",
      " 0   Id             1460 non-null   int64  \n",
      " 1   MSSubClass     1460 non-null   int64  \n",
      " 2   MSZoning       1460 non-null   object \n",
      " 3   LotFrontage    1201 non-null   float64\n",
      " 4   LotArea        1460 non-null   int64  \n",
      " 5   Street         1460 non-null   object \n",
      " 6   Alley          91 non-null     object \n",
      " 7   LotShape       1460 non-null   object \n",
      " 8   LandContour    1460 non-null   object \n",
      " 9   Utilities      1460 non-null   object \n",
      " 10  LotConfig      1460 non-null   object \n",
      " 11  LandSlope      1460 non-null   object \n",
      " 12  Neighborhood   1460 non-null   object \n",
      " 13  Condition1     1460 non-null   object \n",
      " 14  Condition2     1460 non-null   object \n",
      " 15  BldgType       1460 non-null   object \n",
      " 16  HouseStyle     1460 non-null   object \n",
      " 17  OverallQual    1460 non-null   int64  \n",
      " 18  OverallCond    1460 non-null   int64  \n",
      " 19  YearBuilt      1460 non-null   int64  \n",
      " 20  YearRemodAdd   1460 non-null   int64  \n",
      " 21  RoofStyle      1460 non-null   object \n",
      " 22  RoofMatl       1460 non-null   object \n",
      " 23  Exterior1st    1460 non-null   object \n",
      " 24  Exterior2nd    1460 non-null   object \n",
      " 25  MasVnrType     1452 non-null   object \n",
      " 26  MasVnrArea     1452 non-null   float64\n",
      " 27  ExterQual      1460 non-null   object \n",
      " 28  ExterCond      1460 non-null   object \n",
      " 29  Foundation     1460 non-null   object \n",
      " 30  BsmtQual       1423 non-null   object \n",
      " 31  BsmtCond       1423 non-null   object \n",
      " 32  BsmtExposure   1422 non-null   object \n",
      " 33  BsmtFinType1   1423 non-null   object \n",
      " 34  BsmtFinSF1     1460 non-null   int64  \n",
      " 35  BsmtFinType2   1422 non-null   object \n",
      " 36  BsmtFinSF2     1460 non-null   int64  \n",
      " 37  BsmtUnfSF      1460 non-null   int64  \n",
      " 38  TotalBsmtSF    1460 non-null   int64  \n",
      " 39  Heating        1460 non-null   object \n",
      " 40  HeatingQC      1460 non-null   object \n",
      " 41  CentralAir     1460 non-null   object \n",
      " 42  Electrical     1459 non-null   object \n",
      " 43  1stFlrSF       1460 non-null   int64  \n",
      " 44  2ndFlrSF       1460 non-null   int64  \n",
      " 45  LowQualFinSF   1460 non-null   int64  \n",
      " 46  GrLivArea      1460 non-null   int64  \n",
      " 47  BsmtFullBath   1460 non-null   int64  \n",
      " 48  BsmtHalfBath   1460 non-null   int64  \n",
      " 49  FullBath       1460 non-null   int64  \n",
      " 50  HalfBath       1460 non-null   int64  \n",
      " 51  BedroomAbvGr   1460 non-null   int64  \n",
      " 52  KitchenAbvGr   1460 non-null   int64  \n",
      " 53  KitchenQual    1460 non-null   object \n",
      " 54  TotRmsAbvGrd   1460 non-null   int64  \n",
      " 55  Functional     1460 non-null   object \n",
      " 56  Fireplaces     1460 non-null   int64  \n",
      " 57  FireplaceQu    770 non-null    object \n",
      " 58  GarageType     1379 non-null   object \n",
      " 59  GarageYrBlt    1379 non-null   float64\n",
      " 60  GarageFinish   1379 non-null   object \n",
      " 61  GarageCars     1460 non-null   int64  \n",
      " 62  GarageArea     1460 non-null   int64  \n",
      " 63  GarageQual     1379 non-null   object \n",
      " 64  GarageCond     1379 non-null   object \n",
      " 65  PavedDrive     1460 non-null   object \n",
      " 66  WoodDeckSF     1460 non-null   int64  \n",
      " 67  OpenPorchSF    1460 non-null   int64  \n",
      " 68  EnclosedPorch  1460 non-null   int64  \n",
      " 69  3SsnPorch      1460 non-null   int64  \n",
      " 70  ScreenPorch    1460 non-null   int64  \n",
      " 71  PoolArea       1460 non-null   int64  \n",
      " 72  PoolQC         7 non-null      object \n",
      " 73  Fence          281 non-null    object \n",
      " 74  MiscFeature    54 non-null     object \n",
      " 75  MiscVal        1460 non-null   int64  \n",
      " 76  MoSold         1460 non-null   int64  \n",
      " 77  YrSold         1460 non-null   int64  \n",
      " 78  SaleType       1460 non-null   object \n",
      " 79  SaleCondition  1460 non-null   object \n",
      " 80  SalePrice      1460 non-null   int64  \n",
      "dtypes: float64(3), int64(35), object(43)\n",
      "memory usage: 924.0+ KB\n"
     ]
    }
   ],
   "source": [
    "train.info()"
   ]
  },
  {
   "cell_type": "code",
   "execution_count": 4,
   "id": "55fff0d9",
   "metadata": {
    "execution": {
     "iopub.execute_input": "2022-07-14T19:36:07.423276Z",
     "iopub.status.busy": "2022-07-14T19:36:07.422697Z",
     "iopub.status.idle": "2022-07-14T19:36:07.426689Z",
     "shell.execute_reply": "2022-07-14T19:36:07.426085Z"
    },
    "papermill": {
     "duration": 0.034443,
     "end_time": "2022-07-14T19:36:07.428470",
     "exception": false,
     "start_time": "2022-07-14T19:36:07.394027",
     "status": "completed"
    },
    "tags": []
   },
   "outputs": [],
   "source": [
    "test_ids = test['Id']"
   ]
  },
  {
   "cell_type": "code",
   "execution_count": 5,
   "id": "b3a17e4b",
   "metadata": {
    "execution": {
     "iopub.execute_input": "2022-07-14T19:36:07.483803Z",
     "iopub.status.busy": "2022-07-14T19:36:07.483516Z",
     "iopub.status.idle": "2022-07-14T19:36:07.512632Z",
     "shell.execute_reply": "2022-07-14T19:36:07.511541Z"
    },
    "papermill": {
     "duration": 0.059498,
     "end_time": "2022-07-14T19:36:07.514963",
     "exception": false,
     "start_time": "2022-07-14T19:36:07.455465",
     "status": "completed"
    },
    "tags": []
   },
   "outputs": [
    {
     "name": "stdout",
     "output_type": "stream",
     "text": [
      "LotFrontage:259\n",
      "Alley:1369\n",
      "MasVnrType:8\n",
      "MasVnrArea:8\n",
      "BsmtQual:37\n",
      "BsmtCond:37\n",
      "BsmtExposure:38\n",
      "BsmtFinType1:37\n",
      "BsmtFinType2:38\n",
      "Electrical:1\n",
      "FireplaceQu:690\n",
      "GarageType:81\n",
      "GarageYrBlt:81\n",
      "GarageFinish:81\n",
      "GarageQual:81\n",
      "GarageCond:81\n",
      "PoolQC:1453\n",
      "Fence:1179\n",
      "MiscFeature:1406\n"
     ]
    }
   ],
   "source": [
    "#просмотрим пропуски\n",
    "for col in train.columns:\n",
    "    if train[col].isna().sum() != 0:\n",
    "        print(col + ':' + str(train[col].isna().sum()))"
   ]
  },
  {
   "cell_type": "code",
   "execution_count": 6,
   "id": "e86d9214",
   "metadata": {
    "execution": {
     "iopub.execute_input": "2022-07-14T19:36:07.571427Z",
     "iopub.status.busy": "2022-07-14T19:36:07.571022Z",
     "iopub.status.idle": "2022-07-14T19:36:07.600779Z",
     "shell.execute_reply": "2022-07-14T19:36:07.600020Z"
    },
    "papermill": {
     "duration": 0.060438,
     "end_time": "2022-07-14T19:36:07.602678",
     "exception": false,
     "start_time": "2022-07-14T19:36:07.542240",
     "status": "completed"
    },
    "tags": []
   },
   "outputs": [
    {
     "data": {
      "text/html": [
       "<div>\n",
       "<style scoped>\n",
       "    .dataframe tbody tr th:only-of-type {\n",
       "        vertical-align: middle;\n",
       "    }\n",
       "\n",
       "    .dataframe tbody tr th {\n",
       "        vertical-align: top;\n",
       "    }\n",
       "\n",
       "    .dataframe thead th {\n",
       "        text-align: right;\n",
       "    }\n",
       "</style>\n",
       "<table border=\"1\" class=\"dataframe\">\n",
       "  <thead>\n",
       "    <tr style=\"text-align: right;\">\n",
       "      <th></th>\n",
       "      <th>Id</th>\n",
       "      <th>MSSubClass</th>\n",
       "      <th>MSZoning</th>\n",
       "      <th>LotFrontage</th>\n",
       "      <th>LotArea</th>\n",
       "      <th>Street</th>\n",
       "      <th>Alley</th>\n",
       "      <th>LotShape</th>\n",
       "      <th>LandContour</th>\n",
       "      <th>Utilities</th>\n",
       "      <th>...</th>\n",
       "      <th>PoolArea</th>\n",
       "      <th>PoolQC</th>\n",
       "      <th>Fence</th>\n",
       "      <th>MiscFeature</th>\n",
       "      <th>MiscVal</th>\n",
       "      <th>MoSold</th>\n",
       "      <th>YrSold</th>\n",
       "      <th>SaleType</th>\n",
       "      <th>SaleCondition</th>\n",
       "      <th>SalePrice</th>\n",
       "    </tr>\n",
       "  </thead>\n",
       "  <tbody>\n",
       "    <tr>\n",
       "      <th>0</th>\n",
       "      <td>1</td>\n",
       "      <td>60</td>\n",
       "      <td>RL</td>\n",
       "      <td>65.0</td>\n",
       "      <td>8450</td>\n",
       "      <td>Pave</td>\n",
       "      <td>NaN</td>\n",
       "      <td>Reg</td>\n",
       "      <td>Lvl</td>\n",
       "      <td>AllPub</td>\n",
       "      <td>...</td>\n",
       "      <td>0</td>\n",
       "      <td>NaN</td>\n",
       "      <td>NaN</td>\n",
       "      <td>NaN</td>\n",
       "      <td>0</td>\n",
       "      <td>2</td>\n",
       "      <td>2008</td>\n",
       "      <td>WD</td>\n",
       "      <td>Normal</td>\n",
       "      <td>208500</td>\n",
       "    </tr>\n",
       "    <tr>\n",
       "      <th>1</th>\n",
       "      <td>2</td>\n",
       "      <td>20</td>\n",
       "      <td>RL</td>\n",
       "      <td>80.0</td>\n",
       "      <td>9600</td>\n",
       "      <td>Pave</td>\n",
       "      <td>NaN</td>\n",
       "      <td>Reg</td>\n",
       "      <td>Lvl</td>\n",
       "      <td>AllPub</td>\n",
       "      <td>...</td>\n",
       "      <td>0</td>\n",
       "      <td>NaN</td>\n",
       "      <td>NaN</td>\n",
       "      <td>NaN</td>\n",
       "      <td>0</td>\n",
       "      <td>5</td>\n",
       "      <td>2007</td>\n",
       "      <td>WD</td>\n",
       "      <td>Normal</td>\n",
       "      <td>181500</td>\n",
       "    </tr>\n",
       "    <tr>\n",
       "      <th>2</th>\n",
       "      <td>3</td>\n",
       "      <td>60</td>\n",
       "      <td>RL</td>\n",
       "      <td>68.0</td>\n",
       "      <td>11250</td>\n",
       "      <td>Pave</td>\n",
       "      <td>NaN</td>\n",
       "      <td>IR1</td>\n",
       "      <td>Lvl</td>\n",
       "      <td>AllPub</td>\n",
       "      <td>...</td>\n",
       "      <td>0</td>\n",
       "      <td>NaN</td>\n",
       "      <td>NaN</td>\n",
       "      <td>NaN</td>\n",
       "      <td>0</td>\n",
       "      <td>9</td>\n",
       "      <td>2008</td>\n",
       "      <td>WD</td>\n",
       "      <td>Normal</td>\n",
       "      <td>223500</td>\n",
       "    </tr>\n",
       "    <tr>\n",
       "      <th>3</th>\n",
       "      <td>4</td>\n",
       "      <td>70</td>\n",
       "      <td>RL</td>\n",
       "      <td>60.0</td>\n",
       "      <td>9550</td>\n",
       "      <td>Pave</td>\n",
       "      <td>NaN</td>\n",
       "      <td>IR1</td>\n",
       "      <td>Lvl</td>\n",
       "      <td>AllPub</td>\n",
       "      <td>...</td>\n",
       "      <td>0</td>\n",
       "      <td>NaN</td>\n",
       "      <td>NaN</td>\n",
       "      <td>NaN</td>\n",
       "      <td>0</td>\n",
       "      <td>2</td>\n",
       "      <td>2006</td>\n",
       "      <td>WD</td>\n",
       "      <td>Abnorml</td>\n",
       "      <td>140000</td>\n",
       "    </tr>\n",
       "    <tr>\n",
       "      <th>4</th>\n",
       "      <td>5</td>\n",
       "      <td>60</td>\n",
       "      <td>RL</td>\n",
       "      <td>84.0</td>\n",
       "      <td>14260</td>\n",
       "      <td>Pave</td>\n",
       "      <td>NaN</td>\n",
       "      <td>IR1</td>\n",
       "      <td>Lvl</td>\n",
       "      <td>AllPub</td>\n",
       "      <td>...</td>\n",
       "      <td>0</td>\n",
       "      <td>NaN</td>\n",
       "      <td>NaN</td>\n",
       "      <td>NaN</td>\n",
       "      <td>0</td>\n",
       "      <td>12</td>\n",
       "      <td>2008</td>\n",
       "      <td>WD</td>\n",
       "      <td>Normal</td>\n",
       "      <td>250000</td>\n",
       "    </tr>\n",
       "    <tr>\n",
       "      <th>5</th>\n",
       "      <td>6</td>\n",
       "      <td>50</td>\n",
       "      <td>RL</td>\n",
       "      <td>85.0</td>\n",
       "      <td>14115</td>\n",
       "      <td>Pave</td>\n",
       "      <td>NaN</td>\n",
       "      <td>IR1</td>\n",
       "      <td>Lvl</td>\n",
       "      <td>AllPub</td>\n",
       "      <td>...</td>\n",
       "      <td>0</td>\n",
       "      <td>NaN</td>\n",
       "      <td>MnPrv</td>\n",
       "      <td>Shed</td>\n",
       "      <td>700</td>\n",
       "      <td>10</td>\n",
       "      <td>2009</td>\n",
       "      <td>WD</td>\n",
       "      <td>Normal</td>\n",
       "      <td>143000</td>\n",
       "    </tr>\n",
       "    <tr>\n",
       "      <th>6</th>\n",
       "      <td>7</td>\n",
       "      <td>20</td>\n",
       "      <td>RL</td>\n",
       "      <td>75.0</td>\n",
       "      <td>10084</td>\n",
       "      <td>Pave</td>\n",
       "      <td>NaN</td>\n",
       "      <td>Reg</td>\n",
       "      <td>Lvl</td>\n",
       "      <td>AllPub</td>\n",
       "      <td>...</td>\n",
       "      <td>0</td>\n",
       "      <td>NaN</td>\n",
       "      <td>NaN</td>\n",
       "      <td>NaN</td>\n",
       "      <td>0</td>\n",
       "      <td>8</td>\n",
       "      <td>2007</td>\n",
       "      <td>WD</td>\n",
       "      <td>Normal</td>\n",
       "      <td>307000</td>\n",
       "    </tr>\n",
       "  </tbody>\n",
       "</table>\n",
       "<p>7 rows × 81 columns</p>\n",
       "</div>"
      ],
      "text/plain": [
       "   Id  MSSubClass MSZoning  LotFrontage  LotArea Street Alley LotShape  \\\n",
       "0   1          60       RL         65.0     8450   Pave   NaN      Reg   \n",
       "1   2          20       RL         80.0     9600   Pave   NaN      Reg   \n",
       "2   3          60       RL         68.0    11250   Pave   NaN      IR1   \n",
       "3   4          70       RL         60.0     9550   Pave   NaN      IR1   \n",
       "4   5          60       RL         84.0    14260   Pave   NaN      IR1   \n",
       "5   6          50       RL         85.0    14115   Pave   NaN      IR1   \n",
       "6   7          20       RL         75.0    10084   Pave   NaN      Reg   \n",
       "\n",
       "  LandContour Utilities  ... PoolArea PoolQC  Fence MiscFeature MiscVal  \\\n",
       "0         Lvl    AllPub  ...        0    NaN    NaN         NaN       0   \n",
       "1         Lvl    AllPub  ...        0    NaN    NaN         NaN       0   \n",
       "2         Lvl    AllPub  ...        0    NaN    NaN         NaN       0   \n",
       "3         Lvl    AllPub  ...        0    NaN    NaN         NaN       0   \n",
       "4         Lvl    AllPub  ...        0    NaN    NaN         NaN       0   \n",
       "5         Lvl    AllPub  ...        0    NaN  MnPrv        Shed     700   \n",
       "6         Lvl    AllPub  ...        0    NaN    NaN         NaN       0   \n",
       "\n",
       "  MoSold YrSold  SaleType  SaleCondition  SalePrice  \n",
       "0      2   2008        WD         Normal     208500  \n",
       "1      5   2007        WD         Normal     181500  \n",
       "2      9   2008        WD         Normal     223500  \n",
       "3      2   2006        WD        Abnorml     140000  \n",
       "4     12   2008        WD         Normal     250000  \n",
       "5     10   2009        WD         Normal     143000  \n",
       "6      8   2007        WD         Normal     307000  \n",
       "\n",
       "[7 rows x 81 columns]"
      ]
     },
     "execution_count": 6,
     "metadata": {},
     "output_type": "execute_result"
    }
   ],
   "source": [
    "train.head(7)"
   ]
  },
  {
   "cell_type": "code",
   "execution_count": 7,
   "id": "dd554208",
   "metadata": {
    "execution": {
     "iopub.execute_input": "2022-07-14T19:36:07.660184Z",
     "iopub.status.busy": "2022-07-14T19:36:07.659865Z",
     "iopub.status.idle": "2022-07-14T19:36:07.672367Z",
     "shell.execute_reply": "2022-07-14T19:36:07.671535Z"
    },
    "papermill": {
     "duration": 0.043543,
     "end_time": "2022-07-14T19:36:07.674227",
     "exception": false,
     "start_time": "2022-07-14T19:36:07.630684",
     "status": "completed"
    },
    "tags": []
   },
   "outputs": [
    {
     "data": {
      "text/plain": [
       "count      1460.000000\n",
       "mean     180921.195890\n",
       "std       79442.502883\n",
       "min       34900.000000\n",
       "25%      129975.000000\n",
       "50%      163000.000000\n",
       "75%      214000.000000\n",
       "max      755000.000000\n",
       "Name: SalePrice, dtype: float64"
      ]
     },
     "execution_count": 7,
     "metadata": {},
     "output_type": "execute_result"
    }
   ],
   "source": [
    "train['SalePrice'].describe()"
   ]
  },
  {
   "cell_type": "code",
   "execution_count": 8,
   "id": "6af9620e",
   "metadata": {
    "execution": {
     "iopub.execute_input": "2022-07-14T19:36:07.732159Z",
     "iopub.status.busy": "2022-07-14T19:36:07.731633Z",
     "iopub.status.idle": "2022-07-14T19:36:07.738805Z",
     "shell.execute_reply": "2022-07-14T19:36:07.738110Z"
    },
    "papermill": {
     "duration": 0.038387,
     "end_time": "2022-07-14T19:36:07.740609",
     "exception": false,
     "start_time": "2022-07-14T19:36:07.702222",
     "status": "completed"
    },
    "tags": []
   },
   "outputs": [
    {
     "data": {
      "text/plain": [
       "TA    649\n",
       "Gd    618\n",
       "Ex    121\n",
       "Fa     35\n",
       "Name: BsmtQual, dtype: int64"
      ]
     },
     "execution_count": 8,
     "metadata": {},
     "output_type": "execute_result"
    }
   ],
   "source": [
    "# в основном на данном этапе каждую из фич я изучал следующими двумя способами, \n",
    "#иногда прибегая к другим средствам, вроде таблиц кореляций, графиков и т.д.\n",
    "train['BsmtQual'].value_counts()"
   ]
  },
  {
   "cell_type": "code",
   "execution_count": 9,
   "id": "33ab63c1",
   "metadata": {
    "execution": {
     "iopub.execute_input": "2022-07-14T19:36:07.799946Z",
     "iopub.status.busy": "2022-07-14T19:36:07.799375Z",
     "iopub.status.idle": "2022-07-14T19:36:07.837158Z",
     "shell.execute_reply": "2022-07-14T19:36:07.836366Z"
    },
    "papermill": {
     "duration": 0.070242,
     "end_time": "2022-07-14T19:36:07.839171",
     "exception": false,
     "start_time": "2022-07-14T19:36:07.768929",
     "status": "completed"
    },
    "tags": []
   },
   "outputs": [
    {
     "data": {
      "text/html": [
       "<div>\n",
       "<style scoped>\n",
       "    .dataframe tbody tr th:only-of-type {\n",
       "        vertical-align: middle;\n",
       "    }\n",
       "\n",
       "    .dataframe tbody tr th {\n",
       "        vertical-align: top;\n",
       "    }\n",
       "\n",
       "    .dataframe thead tr th {\n",
       "        text-align: left;\n",
       "    }\n",
       "\n",
       "    .dataframe thead tr:last-of-type th {\n",
       "        text-align: right;\n",
       "    }\n",
       "</style>\n",
       "<table border=\"1\" class=\"dataframe\">\n",
       "  <thead>\n",
       "    <tr>\n",
       "      <th></th>\n",
       "      <th colspan=\"8\" halign=\"left\">SalePrice</th>\n",
       "    </tr>\n",
       "    <tr>\n",
       "      <th></th>\n",
       "      <th>count</th>\n",
       "      <th>mean</th>\n",
       "      <th>std</th>\n",
       "      <th>min</th>\n",
       "      <th>25%</th>\n",
       "      <th>50%</th>\n",
       "      <th>75%</th>\n",
       "      <th>max</th>\n",
       "    </tr>\n",
       "    <tr>\n",
       "      <th>BsmtQual</th>\n",
       "      <th></th>\n",
       "      <th></th>\n",
       "      <th></th>\n",
       "      <th></th>\n",
       "      <th></th>\n",
       "      <th></th>\n",
       "      <th></th>\n",
       "      <th></th>\n",
       "    </tr>\n",
       "  </thead>\n",
       "  <tbody>\n",
       "    <tr>\n",
       "      <th>Ex</th>\n",
       "      <td>121.0</td>\n",
       "      <td>327041.041322</td>\n",
       "      <td>113563.237392</td>\n",
       "      <td>123500.0</td>\n",
       "      <td>255500.0</td>\n",
       "      <td>318000.0</td>\n",
       "      <td>378500.0</td>\n",
       "      <td>755000.0</td>\n",
       "    </tr>\n",
       "    <tr>\n",
       "      <th>Fa</th>\n",
       "      <td>35.0</td>\n",
       "      <td>115692.028571</td>\n",
       "      <td>34469.667278</td>\n",
       "      <td>61000.0</td>\n",
       "      <td>91400.0</td>\n",
       "      <td>112000.0</td>\n",
       "      <td>133500.0</td>\n",
       "      <td>206900.0</td>\n",
       "    </tr>\n",
       "    <tr>\n",
       "      <th>Gd</th>\n",
       "      <td>618.0</td>\n",
       "      <td>202688.478964</td>\n",
       "      <td>58092.364284</td>\n",
       "      <td>75500.0</td>\n",
       "      <td>165100.0</td>\n",
       "      <td>192070.0</td>\n",
       "      <td>234000.0</td>\n",
       "      <td>538000.0</td>\n",
       "    </tr>\n",
       "    <tr>\n",
       "      <th>TA</th>\n",
       "      <td>649.0</td>\n",
       "      <td>140759.818182</td>\n",
       "      <td>43483.265311</td>\n",
       "      <td>34900.0</td>\n",
       "      <td>117000.0</td>\n",
       "      <td>135500.0</td>\n",
       "      <td>158000.0</td>\n",
       "      <td>475000.0</td>\n",
       "    </tr>\n",
       "  </tbody>\n",
       "</table>\n",
       "</div>"
      ],
      "text/plain": [
       "         SalePrice                                                    \\\n",
       "             count           mean            std       min       25%   \n",
       "BsmtQual                                                               \n",
       "Ex           121.0  327041.041322  113563.237392  123500.0  255500.0   \n",
       "Fa            35.0  115692.028571   34469.667278   61000.0   91400.0   \n",
       "Gd           618.0  202688.478964   58092.364284   75500.0  165100.0   \n",
       "TA           649.0  140759.818182   43483.265311   34900.0  117000.0   \n",
       "\n",
       "                                        \n",
       "               50%       75%       max  \n",
       "BsmtQual                                \n",
       "Ex        318000.0  378500.0  755000.0  \n",
       "Fa        112000.0  133500.0  206900.0  \n",
       "Gd        192070.0  234000.0  538000.0  \n",
       "TA        135500.0  158000.0  475000.0  "
      ]
     },
     "execution_count": 9,
     "metadata": {},
     "output_type": "execute_result"
    }
   ],
   "source": [
    "train[['BsmtQual', 'SalePrice']].groupby(by = 'BsmtQual').describe()"
   ]
  },
  {
   "cell_type": "code",
   "execution_count": 10,
   "id": "b059d18d",
   "metadata": {
    "execution": {
     "iopub.execute_input": "2022-07-14T19:36:07.898155Z",
     "iopub.status.busy": "2022-07-14T19:36:07.897640Z",
     "iopub.status.idle": "2022-07-14T19:36:07.906032Z",
     "shell.execute_reply": "2022-07-14T19:36:07.905445Z"
    },
    "papermill": {
     "duration": 0.040323,
     "end_time": "2022-07-14T19:36:07.908025",
     "exception": false,
     "start_time": "2022-07-14T19:36:07.867702",
     "status": "completed"
    },
    "tags": []
   },
   "outputs": [],
   "source": [
    "cols_to_drop = ['Id', 'MiscFeature', 'PoolArea', 'Fireplaces', 'Alley', 'GarageYrBlt',\n",
    "                'WoodDeckSF', 'GarageCars', 'OpenPorchSF', 'EnclosedPorch',\n",
    "                '3SsnPorch', 'ScreenPorch', 'GarageQual', 'Street',\n",
    "                'LotShape', 'Utilities', 'LotConfig', 'LandSlope', 'Condition2', 'OverallCond',\n",
    "                'YearBuilt', 'YearRemodAdd', 'RoofMatl', 'ExterQual', 'MasVnrArea',\n",
    "                'BsmtFinSF2', 'BsmtFinType2', 'BsmtFinType1', 'BsmtQual', 'BsmtUnfSF', \n",
    "                'Heating', 'BsmtHalfBath'] \n",
    "# 32 (из 79) фич я решил убрать по причине того что некоторые повторяли друг друга (например OverallQual and OverallCond),\n",
    "# другие недостаточно представлены (Utilities из 4 возможных лэйблов указанных в описании данных на странице соревнования, \n",
    "# только 2 представлены в train данных) или просто малоинформативны.\n",
    "train.drop(cols_to_drop, axis = 1, inplace = True)\n",
    "test.drop(cols_to_drop, axis = 1, inplace = True)"
   ]
  },
  {
   "cell_type": "code",
   "execution_count": 11,
   "id": "cb35091b",
   "metadata": {
    "execution": {
     "iopub.execute_input": "2022-07-14T19:36:07.967987Z",
     "iopub.status.busy": "2022-07-14T19:36:07.967411Z",
     "iopub.status.idle": "2022-07-14T19:36:07.981973Z",
     "shell.execute_reply": "2022-07-14T19:36:07.981410Z"
    },
    "papermill": {
     "duration": 0.047534,
     "end_time": "2022-07-14T19:36:07.983976",
     "exception": false,
     "start_time": "2022-07-14T19:36:07.936442",
     "status": "completed"
    },
    "tags": []
   },
   "outputs": [],
   "source": [
    "#для некотых фич допустим лэбл \"NA\" вместо NaN значений, согласно описанию данных\n",
    "cat_feature_with_none_label = ['PoolQC', 'Fence', 'GarageCond', 'GarageType', 'FireplaceQu',\n",
    "                               'BsmtExposure', 'BsmtCond','MasVnrType', 'GarageFinish']\n",
    "\n",
    "for i in cat_feature_with_none_label:\n",
    "    train[i].fillna('NA', inplace = True)\n",
    "    test[i].fillna('NA', inplace = True)\n",
    "\n",
    "#заполняем пропущенные значения в других случаях\n",
    "train['Electrical'].fillna(test['Electrical'].mode()[0], inplace=True)\n",
    "l_frontage_v = round(train['LotFrontage'].mean(), 1)\n",
    "train['LotFrontage'].fillna(l_frontage_v, inplace = True)\n",
    "test['LotFrontage'].fillna(l_frontage_v, inplace = True)"
   ]
  },
  {
   "cell_type": "code",
   "execution_count": 12,
   "id": "f3b1fffb",
   "metadata": {
    "execution": {
     "iopub.execute_input": "2022-07-14T19:36:08.043241Z",
     "iopub.status.busy": "2022-07-14T19:36:08.042732Z",
     "iopub.status.idle": "2022-07-14T19:36:08.067268Z",
     "shell.execute_reply": "2022-07-14T19:36:08.066590Z"
    },
    "papermill": {
     "duration": 0.056811,
     "end_time": "2022-07-14T19:36:08.069398",
     "exception": false,
     "start_time": "2022-07-14T19:36:08.012587",
     "status": "completed"
    },
    "tags": []
   },
   "outputs": [],
   "source": [
    "for i in test.columns:\n",
    "    if test[i].dtype == float:\n",
    "        cur_median = round(test[i].mean(), 1)\n",
    "        test[i].fillna(cur_median, inplace = True)\n",
    "    if test[i].dtype == object:\n",
    "        test[i].fillna(test[i].mode()[0], inplace=True)\n"
   ]
  },
  {
   "cell_type": "code",
   "execution_count": 13,
   "id": "52d7bc0d",
   "metadata": {
    "execution": {
     "iopub.execute_input": "2022-07-14T19:36:08.130388Z",
     "iopub.status.busy": "2022-07-14T19:36:08.130101Z",
     "iopub.status.idle": "2022-07-14T19:36:14.524885Z",
     "shell.execute_reply": "2022-07-14T19:36:14.524034Z"
    },
    "papermill": {
     "duration": 6.427088,
     "end_time": "2022-07-14T19:36:14.526807",
     "exception": false,
     "start_time": "2022-07-14T19:36:08.099719",
     "status": "completed"
    },
    "tags": []
   },
   "outputs": [
    {
     "name": "stdout",
     "output_type": "stream",
     "text": [
      "MSSubClass\n"
     ]
    },
    {
     "data": {
      "image/png": "[encoded data removed]",
      "text/plain": [
       "<Figure size 1440x1080 with 1 Axes>"
      ]
     },
     "metadata": {
      "needs_background": "light"
     },
     "output_type": "display_data"
    },
    {
     "name": "stdout",
     "output_type": "stream",
     "text": [
      "LotFrontage\n"
     ]
    },
    {
     "data": {
      "image/png": "[encoded data removed]",
      "text/plain": [
       "<Figure size 1440x1080 with 1 Axes>"
      ]
     },
     "metadata": {
      "needs_background": "light"
     },
     "output_type": "display_data"
    },
    {
     "name": "stdout",
     "output_type": "stream",
     "text": [
      "LotArea\n"
     ]
    },
    {
     "data": {
      "image/png": "[encoded data removed]",
      "text/plain": [
       "<Figure size 1440x1080 with 1 Axes>"
      ]
     },
     "metadata": {
      "needs_background": "light"
     },
     "output_type": "display_data"
    },
    {
     "name": "stdout",
     "output_type": "stream",
     "text": [
      "OverallQual\n"
     ]
    },
    {
     "data": {
      "image/png": "[encoded data removed]",
      "text/plain": [
       "<Figure size 1440x1080 with 1 Axes>"
      ]
     },
     "metadata": {
      "needs_background": "light"
     },
     "output_type": "display_data"
    },
    {
     "name": "stdout",
     "output_type": "stream",
     "text": [
      "BsmtFinSF1\n"
     ]
    },
    {
     "data": {
      "image/png": "[encoded data removed]",
      "text/plain": [
       "<Figure size 1440x1080 with 1 Axes>"
      ]
     },
     "metadata": {
      "needs_background": "light"
     },
     "output_type": "display_data"
    },
    {
     "name": "stdout",
     "output_type": "stream",
     "text": [
      "TotalBsmtSF\n"
     ]
    },
    {
     "data": {
      "image/png": "[encoded data removed]",
      "text/plain": [
       "<Figure size 1440x1080 with 1 Axes>"
      ]
     },
     "metadata": {
      "needs_background": "light"
     },
     "output_type": "display_data"
    },
    {
     "name": "stdout",
     "output_type": "stream",
     "text": [
      "1stFlrSF\n"
     ]
    },
    {
     "data": {
      "image/png": "[encoded data removed]",
      "text/plain": [
       "<Figure size 1440x1080 with 1 Axes>"
      ]
     },
     "metadata": {
      "needs_background": "light"
     },
     "output_type": "display_data"
    },
    {
     "name": "stdout",
     "output_type": "stream",
     "text": [
      "2ndFlrSF\n"
     ]
    },
    {
     "data": {
      "image/png": "[encoded data removed]",
      "text/plain": [
       "<Figure size 1440x1080 with 1 Axes>"
      ]
     },
     "metadata": {
      "needs_background": "light"
     },
     "output_type": "display_data"
    },
    {
     "name": "stdout",
     "output_type": "stream",
     "text": [
      "LowQualFinSF\n"
     ]
    },
    {
     "data": {
      "image/png": "[encoded data removed]",
      "text/plain": [
       "<Figure size 1440x1080 with 1 Axes>"
      ]
     },
     "metadata": {
      "needs_background": "light"
     },
     "output_type": "display_data"
    },
    {
     "name": "stdout",
     "output_type": "stream",
     "text": [
      "GrLivArea\n"
     ]
    },
    {
     "data": {
      "image/png": "[encoded data removed]",
      "text/plain": [
       "<Figure size 1440x1080 with 1 Axes>"
      ]
     },
     "metadata": {
      "needs_background": "light"
     },
     "output_type": "display_data"
    },
    {
     "name": "stdout",
     "output_type": "stream",
     "text": [
      "BsmtFullBath\n"
     ]
    },
    {
     "data": {
      "image/png": "[encoded data removed]",
      "text/plain": [
       "<Figure size 1440x1080 with 1 Axes>"
      ]
     },
     "metadata": {
      "needs_background": "light"
     },
     "output_type": "display_data"
    },
    {
     "name": "stdout",
     "output_type": "stream",
     "text": [
      "FullBath\n"
     ]
    },
    {
     "data": {
      "image/png": "[encoded data removed]",
      "text/plain": [
       "<Figure size 1440x1080 with 1 Axes>"
      ]
     },
     "metadata": {
      "needs_background": "light"
     },
     "output_type": "display_data"
    },
    {
     "name": "stdout",
     "output_type": "stream",
     "text": [
      "HalfBath\n"
     ]
    },
    {
     "data": {
      "image/png": "[encoded data removed]",
      "text/plain": [
       "<Figure size 1440x1080 with 1 Axes>"
      ]
     },
     "metadata": {
      "needs_background": "light"
     },
     "output_type": "display_data"
    },
    {
     "name": "stdout",
     "output_type": "stream",
     "text": [
      "BedroomAbvGr\n"
     ]
    },
    {
     "data": {
      "image/png": "[encoded data removed]",
      "text/plain": [
       "<Figure size 1440x1080 with 1 Axes>"
      ]
     },
     "metadata": {
      "needs_background": "light"
     },
     "output_type": "display_data"
    },
    {
     "name": "stdout",
     "output_type": "stream",
     "text": [
      "KitchenAbvGr\n"
     ]
    },
    {
     "data": {
      "image/png": "[encoded data removed]",
      "text/plain": [
       "<Figure size 1440x1080 with 1 Axes>"
      ]
     },
     "metadata": {
      "needs_background": "light"
     },
     "output_type": "display_data"
    },
    {
     "name": "stdout",
     "output_type": "stream",
     "text": [
      "TotRmsAbvGrd\n"
     ]
    },
    {
     "data": {
      "image/png": "[encoded data removed]",
      "text/plain": [
       "<Figure size 1440x1080 with 1 Axes>"
      ]
     },
     "metadata": {
      "needs_background": "light"
     },
     "output_type": "display_data"
    },
    {
     "name": "stdout",
     "output_type": "stream",
     "text": [
      "GarageArea\n"
     ]
    },
    {
     "data": {
      "image/png": "[encoded data removed]",
      "text/plain": [
       "<Figure size 1440x1080 with 1 Axes>"
      ]
     },
     "metadata": {
      "needs_background": "light"
     },
     "output_type": "display_data"
    },
    {
     "name": "stdout",
     "output_type": "stream",
     "text": [
      "MiscVal\n"
     ]
    },
    {
     "data": {
      "image/png": "[encoded data removed]",
      "text/plain": [
       "<Figure size 1440x1080 with 1 Axes>"
      ]
     },
     "metadata": {
      "needs_background": "light"
     },
     "output_type": "display_data"
    },
    {
     "name": "stdout",
     "output_type": "stream",
     "text": [
      "MoSold\n"
     ]
    },
    {
     "data": {
      "image/png": "[encoded data removed]",
      "text/plain": [
       "<Figure size 1440x1080 with 1 Axes>"
      ]
     },
     "metadata": {
      "needs_background": "light"
     },
     "output_type": "display_data"
    },
    {
     "name": "stdout",
     "output_type": "stream",
     "text": [
      "YrSold\n"
     ]
    },
    {
     "data": {
      "image/png": "[encoded data removed]",
      "text/plain": [
       "<Figure size 1440x1080 with 1 Axes>"
      ]
     },
     "metadata": {
      "needs_background": "light"
     },
     "output_type": "display_data"
    },
    {
     "name": "stdout",
     "output_type": "stream",
     "text": [
      "SalePrice\n"
     ]
    },
    {
     "data": {
      "image/png": "[encoded data removed]",
      "text/plain": [
       "<Figure size 1440x1080 with 1 Axes>"
      ]
     },
     "metadata": {
      "needs_background": "light"
     },
     "output_type": "display_data"
    }
   ],
   "source": [
    "#поищем выбросы в оставшихся данных\n",
    "for i in train.columns:\n",
    "    if train[i].dtype == float or train[i].dtype == int:\n",
    "        print(i)\n",
    "        train[i].hist(bins = 50, figsize = (20, 15))\n",
    "        plt.show()"
   ]
  },
  {
   "cell_type": "code",
   "execution_count": 14,
   "id": "12575e2b",
   "metadata": {
    "execution": {
     "iopub.execute_input": "2022-07-14T19:36:14.631068Z",
     "iopub.status.busy": "2022-07-14T19:36:14.630380Z",
     "iopub.status.idle": "2022-07-14T19:36:14.649858Z",
     "shell.execute_reply": "2022-07-14T19:36:14.649027Z"
    },
    "papermill": {
     "duration": 0.073634,
     "end_time": "2022-07-14T19:36:14.651943",
     "exception": false,
     "start_time": "2022-07-14T19:36:14.578309",
     "status": "completed"
    },
    "tags": []
   },
   "outputs": [],
   "source": [
    "train.drop(train[train['MiscVal'] > 2500].index.tolist(), inplace = True) \n",
    "train.drop(train[train['SalePrice'] > 600000].index.tolist(), inplace = True) \n",
    "train.drop(train[train['TotalBsmtSF'] > 4000].index.tolist(), inplace = True) \n",
    "train.drop(train[train['GrLivArea'] > 4000].index.tolist(), inplace = True) \n",
    "train.drop(train[train['LotArea'] > 100000].index.tolist(), inplace = True) \n",
    "train.drop(train[train['LotFrontage'] > 300].index.tolist(), inplace = True) \n",
    "train.drop(train[train['BsmtFinSF1'] > 3000].index.tolist(), inplace = True) "
   ]
  },
  {
   "cell_type": "code",
   "execution_count": 15,
   "id": "51f19095",
   "metadata": {
    "execution": {
     "iopub.execute_input": "2022-07-14T19:36:14.755508Z",
     "iopub.status.busy": "2022-07-14T19:36:14.755020Z",
     "iopub.status.idle": "2022-07-14T19:36:15.049479Z",
     "shell.execute_reply": "2022-07-14T19:36:15.048267Z"
    },
    "papermill": {
     "duration": 0.348631,
     "end_time": "2022-07-14T19:36:15.051791",
     "exception": false,
     "start_time": "2022-07-14T19:36:14.703160",
     "status": "completed"
    },
    "tags": []
   },
   "outputs": [
    {
     "data": {
      "image/png": "[encoded data removed]",
      "text/plain": [
       "<Figure size 1440x1080 with 1 Axes>"
      ]
     },
     "metadata": {
      "needs_background": "light"
     },
     "output_type": "display_data"
    }
   ],
   "source": [
    "# площадь первого и второго этажа хорошие фич по отдельности, но не у всех домов есть второй этаж, \n",
    "# лучше оказалась вместо них использовать общую площадь и отдельно бинарную фичу для индикации наличия второго этажа.\n",
    "train['overall_sf'] = train['1stFlrSF'] + train['2ndFlrSF']\n",
    "train['overall_sf'].hist(bins = 50, figsize = (20, 15))\n",
    "plt.show()"
   ]
  },
  {
   "cell_type": "code",
   "execution_count": 16,
   "id": "172d660b",
   "metadata": {
    "execution": {
     "iopub.execute_input": "2022-07-14T19:36:15.158966Z",
     "iopub.status.busy": "2022-07-14T19:36:15.158694Z",
     "iopub.status.idle": "2022-07-14T19:36:15.171351Z",
     "shell.execute_reply": "2022-07-14T19:36:15.170572Z"
    },
    "papermill": {
     "duration": 0.068575,
     "end_time": "2022-07-14T19:36:15.173151",
     "exception": false,
     "start_time": "2022-07-14T19:36:15.104576",
     "status": "completed"
    },
    "tags": []
   },
   "outputs": [
    {
     "data": {
      "text/plain": [
       "SalePrice       1.000000\n",
       "OverallQual     0.804918\n",
       "overall_sf      0.727164\n",
       "GrLivArea       0.717418\n",
       "TotalBsmtSF     0.644206\n",
       "GarageArea      0.638149\n",
       "1stFlrSF        0.616627\n",
       "FullBath        0.557095\n",
       "TotRmsAbvGrd    0.532670\n",
       "BsmtFinSF1      0.381994\n",
       "LotArea         0.357645\n",
       "LotFrontage     0.338192\n",
       "2ndFlrSF        0.294408\n",
       "HalfBath        0.284762\n",
       "BsmtFullBath    0.229646\n",
       "BedroomAbvGr    0.160687\n",
       "MoSold          0.063289\n",
       "MiscVal        -0.023401\n",
       "LowQualFinSF   -0.024401\n",
       "YrSold         -0.024582\n",
       "MSSubClass     -0.083591\n",
       "KitchenAbvGr   -0.137257\n",
       "Name: SalePrice, dtype: float64"
      ]
     },
     "execution_count": 16,
     "metadata": {},
     "output_type": "execute_result"
    }
   ],
   "source": [
    "train.drop(train[train['overall_sf'] > 3300].index.tolist(), inplace = True) #убираем выбросы\n",
    "corr_matrix = train.corr()\n",
    "corr_matrix['SalePrice'].sort_values(ascending = False)"
   ]
  },
  {
   "cell_type": "code",
   "execution_count": 17,
   "id": "9dd47d00",
   "metadata": {
    "execution": {
     "iopub.execute_input": "2022-07-14T19:36:15.282880Z",
     "iopub.status.busy": "2022-07-14T19:36:15.282358Z",
     "iopub.status.idle": "2022-07-14T19:36:15.297111Z",
     "shell.execute_reply": "2022-07-14T19:36:15.296476Z"
    },
    "papermill": {
     "duration": 0.071239,
     "end_time": "2022-07-14T19:36:15.299135",
     "exception": false,
     "start_time": "2022-07-14T19:36:15.227896",
     "status": "completed"
    },
    "tags": []
   },
   "outputs": [],
   "source": [
    "train['one_or_two_floors'] = 0\n",
    "train.loc[train['2ndFlrSF'] > 0, ['one_or_two_floors']] = 1\n",
    "\n",
    "test['overall_sf'] = test['1stFlrSF'] + test['2ndFlrSF']\n",
    "test['one_or_two_floors'] = 0\n",
    "test.loc[test['2ndFlrSF'] > 0, ['one_or_two_floors']] = 1\n",
    "\n",
    "train.drop(['1stFlrSF', '2ndFlrSF'], axis = 1, inplace = True)\n",
    "test.drop(['1stFlrSF', '2ndFlrSF'], axis = 1, inplace = True)"
   ]
  },
  {
   "cell_type": "markdown",
   "id": "a84369d4",
   "metadata": {
    "papermill": {
     "duration": 0.05191,
     "end_time": "2022-07-14T19:36:15.402842",
     "exception": false,
     "start_time": "2022-07-14T19:36:15.350932",
     "status": "completed"
    },
    "tags": []
   },
   "source": [
    "Заметка: это всё можно обернуть в CustomTransformer, но так как Kaggle это one-and-done история, мне это показалось лишним"
   ]
  },
  {
   "cell_type": "markdown",
   "id": "2c4570d7",
   "metadata": {
    "papermill": {
     "duration": 0.051726,
     "end_time": "2022-07-14T19:36:15.506890",
     "exception": false,
     "start_time": "2022-07-14T19:36:15.455164",
     "status": "completed"
    },
    "tags": []
   },
   "source": [
    "**2: Preprocessing**"
   ]
  },
  {
   "cell_type": "code",
   "execution_count": 18,
   "id": "2b7de47a",
   "metadata": {
    "execution": {
     "iopub.execute_input": "2022-07-14T19:36:15.612888Z",
     "iopub.status.busy": "2022-07-14T19:36:15.612595Z",
     "iopub.status.idle": "2022-07-14T19:36:15.618078Z",
     "shell.execute_reply": "2022-07-14T19:36:15.617526Z"
    },
    "papermill": {
     "duration": 0.060746,
     "end_time": "2022-07-14T19:36:15.619603",
     "exception": false,
     "start_time": "2022-07-14T19:36:15.558857",
     "status": "completed"
    },
    "tags": []
   },
   "outputs": [],
   "source": [
    "train_labels = train['SalePrice'].copy()\n",
    "train_set = train.drop('SalePrice', axis = 1)"
   ]
  },
  {
   "cell_type": "code",
   "execution_count": 19,
   "id": "6429aa73",
   "metadata": {
    "execution": {
     "iopub.execute_input": "2022-07-14T19:36:15.724844Z",
     "iopub.status.busy": "2022-07-14T19:36:15.724530Z",
     "iopub.status.idle": "2022-07-14T19:36:15.732112Z",
     "shell.execute_reply": "2022-07-14T19:36:15.731425Z"
    },
    "papermill": {
     "duration": 0.062652,
     "end_time": "2022-07-14T19:36:15.734087",
     "exception": false,
     "start_time": "2022-07-14T19:36:15.671435",
     "status": "completed"
    },
    "tags": []
   },
   "outputs": [],
   "source": [
    "num_features = []\n",
    "cat_features = []\n",
    "for i in train_set.columns:\n",
    "    if train_set[i].dtype == object:\n",
    "        cat_features.append(i)\n",
    "    else:\n",
    "        num_features.append(i)"
   ]
  },
  {
   "cell_type": "code",
   "execution_count": 20,
   "id": "ff53aa8e",
   "metadata": {
    "execution": {
     "iopub.execute_input": "2022-07-14T19:36:15.841717Z",
     "iopub.status.busy": "2022-07-14T19:36:15.841237Z",
     "iopub.status.idle": "2022-07-14T19:36:15.891974Z",
     "shell.execute_reply": "2022-07-14T19:36:15.890912Z"
    },
    "papermill": {
     "duration": 0.106091,
     "end_time": "2022-07-14T19:36:15.894207",
     "exception": false,
     "start_time": "2022-07-14T19:36:15.788116",
     "status": "completed"
    },
    "tags": []
   },
   "outputs": [],
   "source": [
    "prep_pipeline = ColumnTransformer([\n",
    "    ('num_f', StandardScaler(), num_features),\n",
    "    ('cat_f', OneHotEncoder(), cat_features),\n",
    "])\n",
    "\n",
    "train_preped = prep_pipeline.fit_transform(train_set)\n",
    "test_preped = prep_pipeline.transform(test)"
   ]
  },
  {
   "cell_type": "markdown",
   "id": "0dda7bd3",
   "metadata": {
    "papermill": {
     "duration": 0.051934,
     "end_time": "2022-07-14T19:36:15.997961",
     "exception": false,
     "start_time": "2022-07-14T19:36:15.946027",
     "status": "completed"
    },
    "tags": []
   },
   "source": [
    "**3: Обучаем модели**"
   ]
  },
  {
   "cell_type": "code",
   "execution_count": 21,
   "id": "9be846f0",
   "metadata": {
    "execution": {
     "iopub.execute_input": "2022-07-14T19:36:16.105116Z",
     "iopub.status.busy": "2022-07-14T19:36:16.104576Z",
     "iopub.status.idle": "2022-07-14T19:36:16.203515Z",
     "shell.execute_reply": "2022-07-14T19:36:16.202647Z"
    },
    "papermill": {
     "duration": 0.155418,
     "end_time": "2022-07-14T19:36:16.205563",
     "exception": false,
     "start_time": "2022-07-14T19:36:16.050145",
     "status": "completed"
    },
    "tags": []
   },
   "outputs": [
    {
     "name": "stdout",
     "output_type": "stream",
     "text": [
      "[23497.64787087 22480.60389709 26413.99007983 22066.83730902\n",
      " 24856.43554246]\n",
      "23863.102939851775\n",
      "1597.821397248831\n"
     ]
    }
   ],
   "source": [
    "#попробуем несколько моделей, посмотрим что лучше\n",
    "sgd_reg = SGDRegressor()\n",
    "\n",
    "scores = cross_val_score(sgd_reg, train_preped, train_labels, \n",
    "               scoring = 'neg_mean_squared_error', cv = 5)\n",
    "\n",
    "sgd_reg_scores = np.sqrt(-scores)\n",
    "print(sgd_reg_scores)\n",
    "print(sgd_reg_scores.mean())\n",
    "print(sgd_reg_scores.std())"
   ]
  },
  {
   "cell_type": "code",
   "execution_count": 22,
   "id": "413cfe7c",
   "metadata": {
    "execution": {
     "iopub.execute_input": "2022-07-14T19:36:16.312666Z",
     "iopub.status.busy": "2022-07-14T19:36:16.312220Z",
     "iopub.status.idle": "2022-07-14T19:36:18.073096Z",
     "shell.execute_reply": "2022-07-14T19:36:18.072131Z"
    },
    "papermill": {
     "duration": 1.8163,
     "end_time": "2022-07-14T19:36:18.075105",
     "exception": false,
     "start_time": "2022-07-14T19:36:16.258805",
     "status": "completed"
    },
    "tags": []
   },
   "outputs": [
    {
     "name": "stdout",
     "output_type": "stream",
     "text": [
      "[77141.36615239 82822.36799778 82459.22557752 67051.70793932\n",
      " 71518.24789824]\n",
      "76198.58311304988\n",
      "6156.782817239555\n"
     ]
    }
   ],
   "source": [
    "sv_reg = SVR()\n",
    "\n",
    "scores = cross_val_score(sv_reg, train_preped, train_labels, \n",
    "               scoring = 'neg_mean_squared_error', cv = 5)\n",
    "\n",
    "sv_reg_scores = np.sqrt(-scores)\n",
    "print(sv_reg_scores)\n",
    "print(sv_reg_scores.mean())\n",
    "print(sv_reg_scores.std())\n"
   ]
  },
  {
   "cell_type": "code",
   "execution_count": 23,
   "id": "77e1d1c9",
   "metadata": {
    "execution": {
     "iopub.execute_input": "2022-07-14T19:36:18.182240Z",
     "iopub.status.busy": "2022-07-14T19:36:18.181978Z",
     "iopub.status.idle": "2022-07-14T19:36:19.875432Z",
     "shell.execute_reply": "2022-07-14T19:36:19.874567Z"
    },
    "papermill": {
     "duration": 1.749254,
     "end_time": "2022-07-14T19:36:19.877443",
     "exception": false,
     "start_time": "2022-07-14T19:36:18.128189",
     "status": "completed"
    },
    "tags": []
   },
   "outputs": [
    {
     "name": "stdout",
     "output_type": "stream",
     "text": [
      "[76899.77798396 82564.83458176 82210.76643293 66818.56297094\n",
      " 71305.15394045]\n",
      "75959.81918200772\n",
      "6145.121091426448\n"
     ]
    }
   ],
   "source": [
    "sv_reg_poly_kernel = SVR(kernel = 'poly', degree = 2, coef0 = 1)\n",
    "\n",
    "scores = cross_val_score(sv_reg_poly_kernel, train_preped, train_labels, \n",
    "               scoring = 'neg_mean_squared_error', cv = 5)\n",
    "\n",
    "sv_reg_poly_scores = np.sqrt(-scores)\n",
    "print(sv_reg_poly_scores)\n",
    "print(sv_reg_poly_scores.mean())\n",
    "print(sv_reg_poly_scores.std())"
   ]
  },
  {
   "cell_type": "code",
   "execution_count": 24,
   "id": "7662b4a5",
   "metadata": {
    "execution": {
     "iopub.execute_input": "2022-07-14T19:36:19.984995Z",
     "iopub.status.busy": "2022-07-14T19:36:19.984482Z",
     "iopub.status.idle": "2022-07-14T19:36:22.760504Z",
     "shell.execute_reply": "2022-07-14T19:36:22.759532Z"
    },
    "papermill": {
     "duration": 2.833065,
     "end_time": "2022-07-14T19:36:22.763108",
     "exception": false,
     "start_time": "2022-07-14T19:36:19.930043",
     "status": "completed"
    },
    "tags": []
   },
   "outputs": [
    {
     "name": "stdout",
     "output_type": "stream",
     "text": [
      "[23416.07745883 23135.14654793 25418.78654374 20369.03013811\n",
      " 24631.7060908 ]\n",
      "23394.149355880603\n",
      "1723.3462793396304\n"
     ]
    }
   ],
   "source": [
    "gb_reg = GradientBoostingRegressor()\n",
    "\n",
    "scores = cross_val_score(gb_reg, train_preped, train_labels, \n",
    "               scoring = 'neg_mean_squared_error', cv = 5)\n",
    "\n",
    "gb_reg_scores = np.sqrt(-scores)\n",
    "print(gb_reg_scores)\n",
    "print(gb_reg_scores.mean())\n",
    "print(gb_reg_scores.std())"
   ]
  },
  {
   "cell_type": "code",
   "execution_count": 25,
   "id": "79c02249",
   "metadata": {
    "execution": {
     "iopub.execute_input": "2022-07-14T19:36:22.873176Z",
     "iopub.status.busy": "2022-07-14T19:36:22.872888Z",
     "iopub.status.idle": "2022-07-14T19:38:35.739567Z",
     "shell.execute_reply": "2022-07-14T19:38:35.738591Z"
    },
    "papermill": {
     "duration": 132.976238,
     "end_time": "2022-07-14T19:38:35.794230",
     "exception": false,
     "start_time": "2022-07-14T19:36:22.817992",
     "status": "completed"
    },
    "tags": []
   },
   "outputs": [
    {
     "data": {
      "text/plain": [
       "GridSearchCV(cv=5, estimator=GradientBoostingRegressor(),\n",
       "             param_grid={'learning_rate': [0.8, 0.1, 0.3],\n",
       "                         'max_depth': [3, 4, 5],\n",
       "                         'n_estimators': [100, 125, 150]},\n",
       "             return_train_score=True, scoring='neg_mean_squared_error')"
      ]
     },
     "execution_count": 25,
     "metadata": {},
     "output_type": "execute_result"
    }
   ],
   "source": [
    "# как неожиданно, что Gradien Boosting и Gradient Descent Regressor, оказались лучшими\n",
    "# посмотрим как различные параметны будут на них влиять \n",
    "sgd_reg = SGDRegressor()\n",
    "gb_reg = GradientBoostingRegressor()\n",
    "\n",
    "param_grid_sgd  = {\n",
    "    'penalty' : ['elasticnet'], \n",
    "    'l1_ratio' : [0, 0.3, 0.5, 0.7, 1]\n",
    "}\n",
    "\n",
    "param_grid_gb = {\n",
    "    'learning_rate' : [0.8, 0.1, 0.3,],\n",
    "    'n_estimators' : [100, 125, 150],\n",
    "    'max_depth' : [3, 4, 5]\n",
    "}\n",
    "\n",
    "grid_search_sgd = GridSearchCV(sgd_reg, param_grid_sgd, cv = 5,\n",
    "                              scoring = 'neg_mean_squared_error',\n",
    "                              return_train_score = True)\n",
    "\n",
    "grid_search_sgd.fit(train_preped, train_labels)\n",
    "\n",
    "grid_search_gb = GridSearchCV(gb_reg, param_grid_gb, cv = 5,\n",
    "                             scoring = 'neg_mean_squared_error',\n",
    "                             return_train_score = True)\n",
    "\n",
    "grid_search_gb.fit(train_preped, train_labels)"
   ]
  },
  {
   "cell_type": "code",
   "execution_count": 26,
   "id": "bd37010b",
   "metadata": {
    "execution": {
     "iopub.execute_input": "2022-07-14T19:38:35.902170Z",
     "iopub.status.busy": "2022-07-14T19:38:35.901848Z",
     "iopub.status.idle": "2022-07-14T19:38:35.906521Z",
     "shell.execute_reply": "2022-07-14T19:38:35.905918Z"
    },
    "papermill": {
     "duration": 0.060803,
     "end_time": "2022-07-14T19:38:35.908128",
     "exception": false,
     "start_time": "2022-07-14T19:38:35.847325",
     "status": "completed"
    },
    "tags": []
   },
   "outputs": [
    {
     "data": {
      "text/plain": [
       "{'learning_rate': 0.1, 'max_depth': 3, 'n_estimators': 150}"
      ]
     },
     "execution_count": 26,
     "metadata": {},
     "output_type": "execute_result"
    }
   ],
   "source": [
    "grid_search_gb.best_params_"
   ]
  },
  {
   "cell_type": "code",
   "execution_count": 27,
   "id": "e0e87605",
   "metadata": {
    "execution": {
     "iopub.execute_input": "2022-07-14T19:38:36.017875Z",
     "iopub.status.busy": "2022-07-14T19:38:36.017143Z",
     "iopub.status.idle": "2022-07-14T19:38:36.022069Z",
     "shell.execute_reply": "2022-07-14T19:38:36.021227Z"
    },
    "papermill": {
     "duration": 0.061618,
     "end_time": "2022-07-14T19:38:36.023889",
     "exception": false,
     "start_time": "2022-07-14T19:38:35.962271",
     "status": "completed"
    },
    "tags": []
   },
   "outputs": [
    {
     "data": {
      "text/plain": [
       "{'l1_ratio': 1, 'penalty': 'elasticnet'}"
      ]
     },
     "execution_count": 27,
     "metadata": {},
     "output_type": "execute_result"
    }
   ],
   "source": [
    "grid_search_sgd.best_params_"
   ]
  },
  {
   "cell_type": "code",
   "execution_count": 28,
   "id": "16481702",
   "metadata": {
    "execution": {
     "iopub.execute_input": "2022-07-14T19:38:36.134542Z",
     "iopub.status.busy": "2022-07-14T19:38:36.134234Z",
     "iopub.status.idle": "2022-07-14T19:38:36.146962Z",
     "shell.execute_reply": "2022-07-14T19:38:36.144583Z"
    },
    "papermill": {
     "duration": 0.07043,
     "end_time": "2022-07-14T19:38:36.149214",
     "exception": false,
     "start_time": "2022-07-14T19:38:36.078784",
     "status": "completed"
    },
    "tags": []
   },
   "outputs": [
    {
     "name": "stdout",
     "output_type": "stream",
     "text": [
      "30507.122221574664 {'learning_rate': 0.8, 'max_depth': 3, 'n_estimators': 100}\n",
      "30539.9159590028 {'learning_rate': 0.8, 'max_depth': 3, 'n_estimators': 125}\n",
      "30932.7842448973 {'learning_rate': 0.8, 'max_depth': 3, 'n_estimators': 150}\n",
      "33283.923174089075 {'learning_rate': 0.8, 'max_depth': 4, 'n_estimators': 100}\n",
      "33567.14681704028 {'learning_rate': 0.8, 'max_depth': 4, 'n_estimators': 125}\n",
      "33185.58388800619 {'learning_rate': 0.8, 'max_depth': 4, 'n_estimators': 150}\n",
      "34662.05552404758 {'learning_rate': 0.8, 'max_depth': 5, 'n_estimators': 100}\n",
      "34480.250559168846 {'learning_rate': 0.8, 'max_depth': 5, 'n_estimators': 125}\n",
      "34119.0658559562 {'learning_rate': 0.8, 'max_depth': 5, 'n_estimators': 150}\n",
      "23427.406557748836 {'learning_rate': 0.1, 'max_depth': 3, 'n_estimators': 100}\n",
      "23117.645001003748 {'learning_rate': 0.1, 'max_depth': 3, 'n_estimators': 125}\n",
      "23100.963019894094 {'learning_rate': 0.1, 'max_depth': 3, 'n_estimators': 150}\n",
      "23911.529446416058 {'learning_rate': 0.1, 'max_depth': 4, 'n_estimators': 100}\n",
      "23730.342743876914 {'learning_rate': 0.1, 'max_depth': 4, 'n_estimators': 125}\n",
      "23670.827867016276 {'learning_rate': 0.1, 'max_depth': 4, 'n_estimators': 150}\n",
      "24598.76149488206 {'learning_rate': 0.1, 'max_depth': 5, 'n_estimators': 100}\n",
      "24493.010452181687 {'learning_rate': 0.1, 'max_depth': 5, 'n_estimators': 125}\n",
      "24483.85085239945 {'learning_rate': 0.1, 'max_depth': 5, 'n_estimators': 150}\n",
      "24536.768080898284 {'learning_rate': 0.3, 'max_depth': 3, 'n_estimators': 100}\n",
      "24510.01151365092 {'learning_rate': 0.3, 'max_depth': 3, 'n_estimators': 125}\n",
      "24470.611139590354 {'learning_rate': 0.3, 'max_depth': 3, 'n_estimators': 150}\n",
      "25171.390366137603 {'learning_rate': 0.3, 'max_depth': 4, 'n_estimators': 100}\n",
      "25285.743032678303 {'learning_rate': 0.3, 'max_depth': 4, 'n_estimators': 125}\n",
      "25440.621389635075 {'learning_rate': 0.3, 'max_depth': 4, 'n_estimators': 150}\n",
      "25616.774875383933 {'learning_rate': 0.3, 'max_depth': 5, 'n_estimators': 100}\n",
      "25691.476299395898 {'learning_rate': 0.3, 'max_depth': 5, 'n_estimators': 125}\n",
      "25804.135620368746 {'learning_rate': 0.3, 'max_depth': 5, 'n_estimators': 150}\n"
     ]
    }
   ],
   "source": [
    "cvres_gb = grid_search_gb.cv_results_\n",
    "for mean_score, params in zip(cvres_gb[\"mean_test_score\"], cvres_gb[\"params\"]):\n",
    "    print(np.sqrt(-mean_score), params)"
   ]
  },
  {
   "cell_type": "code",
   "execution_count": 29,
   "id": "5e0b4188",
   "metadata": {
    "execution": {
     "iopub.execute_input": "2022-07-14T19:38:36.260674Z",
     "iopub.status.busy": "2022-07-14T19:38:36.260061Z",
     "iopub.status.idle": "2022-07-14T19:38:36.266180Z",
     "shell.execute_reply": "2022-07-14T19:38:36.265156Z"
    },
    "papermill": {
     "duration": 0.063527,
     "end_time": "2022-07-14T19:38:36.268160",
     "exception": false,
     "start_time": "2022-07-14T19:38:36.204633",
     "status": "completed"
    },
    "tags": []
   },
   "outputs": [
    {
     "name": "stdout",
     "output_type": "stream",
     "text": [
      "24020.666374904682 {'l1_ratio': 0, 'penalty': 'elasticnet'}\n",
      "24049.65589939876 {'l1_ratio': 0.3, 'penalty': 'elasticnet'}\n",
      "24062.575560649635 {'l1_ratio': 0.5, 'penalty': 'elasticnet'}\n",
      "24192.540862528094 {'l1_ratio': 0.7, 'penalty': 'elasticnet'}\n",
      "23977.90088108981 {'l1_ratio': 1, 'penalty': 'elasticnet'}\n"
     ]
    }
   ],
   "source": [
    "cvres_sgd = grid_search_sgd.cv_results_\n",
    "for mean_score, params in zip(cvres_sgd[\"mean_test_score\"], cvres_sgd[\"params\"]):\n",
    "    print(np.sqrt(-mean_score), params)"
   ]
  },
  {
   "cell_type": "markdown",
   "id": "d4ad1e33",
   "metadata": {
    "papermill": {
     "duration": 0.055057,
     "end_time": "2022-07-14T19:38:36.377815",
     "exception": false,
     "start_time": "2022-07-14T19:38:36.322758",
     "status": "completed"
    },
    "tags": []
   },
   "source": [
    "Заметка: ошибка около 24000, что в половину меньше std (79000), неплохо"
   ]
  },
  {
   "cell_type": "code",
   "execution_count": 30,
   "id": "68008ca5",
   "metadata": {
    "execution": {
     "iopub.execute_input": "2022-07-14T19:38:36.488271Z",
     "iopub.status.busy": "2022-07-14T19:38:36.487991Z",
     "iopub.status.idle": "2022-07-14T19:38:37.757074Z",
     "shell.execute_reply": "2022-07-14T19:38:37.756191Z"
    },
    "papermill": {
     "duration": 1.326762,
     "end_time": "2022-07-14T19:38:37.758957",
     "exception": false,
     "start_time": "2022-07-14T19:38:36.432195",
     "status": "completed"
    },
    "tags": []
   },
   "outputs": [
    {
     "data": {
      "text/plain": [
       "GradientBoostingRegressor(n_estimators=200)"
      ]
     },
     "execution_count": 30,
     "metadata": {},
     "output_type": "execute_result"
    }
   ],
   "source": [
    "#и финальная модель\n",
    "final_gb_reg = GradientBoostingRegressor(n_estimators = 200)\n",
    "final_gb_reg.fit(train_preped, train_labels)"
   ]
  },
  {
   "cell_type": "code",
   "execution_count": 31,
   "id": "7e3160b1",
   "metadata": {
    "execution": {
     "iopub.execute_input": "2022-07-14T19:38:37.871170Z",
     "iopub.status.busy": "2022-07-14T19:38:37.870907Z",
     "iopub.status.idle": "2022-07-14T19:38:37.884743Z",
     "shell.execute_reply": "2022-07-14T19:38:37.883752Z"
    },
    "papermill": {
     "duration": 0.072787,
     "end_time": "2022-07-14T19:38:37.887292",
     "exception": false,
     "start_time": "2022-07-14T19:38:37.814505",
     "status": "completed"
    },
    "tags": []
   },
   "outputs": [],
   "source": [
    "test_predictions = final_gb_reg.predict(test_preped)"
   ]
  },
  {
   "cell_type": "code",
   "execution_count": 32,
   "id": "8d9f44ee",
   "metadata": {
    "execution": {
     "iopub.execute_input": "2022-07-14T19:38:38.001689Z",
     "iopub.status.busy": "2022-07-14T19:38:38.001409Z",
     "iopub.status.idle": "2022-07-14T19:38:38.014462Z",
     "shell.execute_reply": "2022-07-14T19:38:38.013737Z"
    },
    "papermill": {
     "duration": 0.073968,
     "end_time": "2022-07-14T19:38:38.016542",
     "exception": false,
     "start_time": "2022-07-14T19:38:37.942574",
     "status": "completed"
    },
    "tags": []
   },
   "outputs": [
    {
     "name": "stdout",
     "output_type": "stream",
     "text": [
      "     Id      SalePrice\n",
      "0  1461  136586.643162\n",
      "1  1462  161586.964714\n",
      "2  1463  172719.575607\n",
      "3  1464  186404.302066\n",
      "4  1465  194370.523965\n"
     ]
    }
   ],
   "source": [
    "#результаты в read.me\n",
    "output = pd.DataFrame({'Id': test_ids, 'SalePrice': test_predictions})\n",
    "output.to_csv('submission.csv', index=False)\n",
    "print(output.head())"
   ]
  }
 ],
 "metadata": {
  "kernelspec": {
   "display_name": "Python 3",
   "language": "python",
   "name": "python3"
  },
  "language_info": {
   "codemirror_mode": {
    "name": "ipython",
    "version": 3
   },
   "file_extension": ".py",
   "mimetype": "text/x-python",
   "name": "python",
   "nbconvert_exporter": "python",
   "pygments_lexer": "ipython3",
   "version": "3.7.12"
  },
  "papermill": {
   "default_parameters": {},
   "duration": 162.089037,
   "end_time": "2022-07-14T19:38:38.793449",
   "environment_variables": {},
   "exception": null,
   "input_path": "__notebook__.ipynb",
   "output_path": "__notebook__.ipynb",
   "parameters": {},
   "start_time": "2022-07-14T19:35:56.704412",
   "version": "2.3.4"
  }
 },
 "nbformat": 4,
 "nbformat_minor": 5
}
