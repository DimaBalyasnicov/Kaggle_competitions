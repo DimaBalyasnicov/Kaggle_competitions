{
 "cells": [
  {
   "cell_type": "code",
   "execution_count": 1,
   "id": "4129cf61",
   "metadata": {
    "_cell_guid": "b1076dfc-b9ad-4769-8c92-a6c4dae69d19",
    "_uuid": "8f2839f25d086af736a60e9eeb907d3b93b6e0e5",
    "execution": {
     "iopub.execute_input": "2022-07-03T20:39:10.846756Z",
     "iopub.status.busy": "2022-07-03T20:39:10.846109Z",
     "iopub.status.idle": "2022-07-03T20:39:18.398208Z",
     "shell.execute_reply": "2022-07-03T20:39:18.397469Z"
    },
    "papermill": {
     "duration": 7.579593,
     "end_time": "2022-07-03T20:39:18.401290",
     "exception": false,
     "start_time": "2022-07-03T20:39:10.821697",
     "status": "completed"
    },
    "tags": []
   },
   "outputs": [
    {
     "name": "stdout",
     "output_type": "stream",
     "text": [
      "/kaggle/input/nlp-getting-started/sample_submission.csv\n",
      "/kaggle/input/nlp-getting-started/train.csv\n",
      "/kaggle/input/nlp-getting-started/test.csv\n"
     ]
    }
   ],
   "source": [
    "import nltk\n",
    "import string\n",
    "import numpy as np \n",
    "import pandas as pd\n",
    "from sklearn.model_selection import train_test_split\n",
    "from nltk.corpus import stopwords\n",
    "from nltk.tokenize import word_tokenize\n",
    "import matplotlib.pyplot as plt\n",
    "import tensorflow as tf\n",
    "from tensorflow import keras\n",
    "import os\n",
    "from sklearn.metrics import roc_curve, roc_auc_score\n",
    "from nltk.corpus import words\n",
    "from collections import Counter\n",
    "from keras.preprocessing.text import Tokenizer\n",
    "from keras.preprocessing.sequence import pad_sequences\n",
    "\n",
    "for dirname, _, filenames in os.walk('/kaggle/input'):\n",
    "    for filename in filenames:\n",
    "        print(os.path.join(dirname, filename))"
   ]
  },
  {
   "cell_type": "markdown",
   "id": "84b72721",
   "metadata": {
    "papermill": {
     "duration": 0.019921,
     "end_time": "2022-07-03T20:39:18.443114",
     "exception": false,
     "start_time": "2022-07-03T20:39:18.423193",
     "status": "completed"
    },
    "tags": []
   },
   "source": [
    "**Заметка**\n",
    "Мой метод очистки стоп-слов и прочего мусора из текста немного грубый, по сути через \"фильт\" проходят только грамматически правильные слова из-за чего некоторые информативные слова (например аббревиатуры, слэнг и др.) не проходят, но зато удаляется абсолютно весь шум. В целом модель работает на уровне других похожих моделей из соревнования, уступая Bert'ам, разумеется. Но зато словарь в памяти в половину меньше (~7 000 vs ~15 000).\n",
    "\n"
   ]
  },
  {
   "cell_type": "markdown",
   "id": "a38624fb",
   "metadata": {
    "papermill": {
     "duration": 0.020014,
     "end_time": "2022-07-03T20:39:18.483472",
     "exception": false,
     "start_time": "2022-07-03T20:39:18.463458",
     "status": "completed"
    },
    "tags": []
   },
   "source": [
    "**1: Pre-processing**"
   ]
  },
  {
   "cell_type": "code",
   "execution_count": 2,
   "id": "6c5462ad",
   "metadata": {
    "execution": {
     "iopub.execute_input": "2022-07-03T20:39:18.525227Z",
     "iopub.status.busy": "2022-07-03T20:39:18.524966Z",
     "iopub.status.idle": "2022-07-03T20:39:18.605347Z",
     "shell.execute_reply": "2022-07-03T20:39:18.604491Z"
    },
    "papermill": {
     "duration": 0.104086,
     "end_time": "2022-07-03T20:39:18.607676",
     "exception": false,
     "start_time": "2022-07-03T20:39:18.503590",
     "status": "completed"
    },
    "tags": []
   },
   "outputs": [],
   "source": [
    "train = pd.read_csv('/kaggle/input/nlp-getting-started/train.csv') \n",
    "test = pd.read_csv('/kaggle/input/nlp-getting-started/test.csv')\n",
    "test_ids = test['id'].copy()"
   ]
  },
  {
   "cell_type": "code",
   "execution_count": 3,
   "id": "67025cab",
   "metadata": {
    "execution": {
     "iopub.execute_input": "2022-07-03T20:39:18.652983Z",
     "iopub.status.busy": "2022-07-03T20:39:18.652044Z",
     "iopub.status.idle": "2022-07-03T20:39:18.671418Z",
     "shell.execute_reply": "2022-07-03T20:39:18.670546Z"
    },
    "papermill": {
     "duration": 0.04383,
     "end_time": "2022-07-03T20:39:18.673285",
     "exception": false,
     "start_time": "2022-07-03T20:39:18.629455",
     "status": "completed"
    },
    "tags": []
   },
   "outputs": [
    {
     "data": {
      "text/html": [
       "<div>\n",
       "<style scoped>\n",
       "    .dataframe tbody tr th:only-of-type {\n",
       "        vertical-align: middle;\n",
       "    }\n",
       "\n",
       "    .dataframe tbody tr th {\n",
       "        vertical-align: top;\n",
       "    }\n",
       "\n",
       "    .dataframe thead th {\n",
       "        text-align: right;\n",
       "    }\n",
       "</style>\n",
       "<table border=\"1\" class=\"dataframe\">\n",
       "  <thead>\n",
       "    <tr style=\"text-align: right;\">\n",
       "      <th></th>\n",
       "      <th>id</th>\n",
       "      <th>keyword</th>\n",
       "      <th>location</th>\n",
       "      <th>text</th>\n",
       "      <th>target</th>\n",
       "    </tr>\n",
       "  </thead>\n",
       "  <tbody>\n",
       "    <tr>\n",
       "      <th>0</th>\n",
       "      <td>1</td>\n",
       "      <td>NaN</td>\n",
       "      <td>NaN</td>\n",
       "      <td>Our Deeds are the Reason of this #earthquake M...</td>\n",
       "      <td>1</td>\n",
       "    </tr>\n",
       "    <tr>\n",
       "      <th>1</th>\n",
       "      <td>4</td>\n",
       "      <td>NaN</td>\n",
       "      <td>NaN</td>\n",
       "      <td>Forest fire near La Ronge Sask. Canada</td>\n",
       "      <td>1</td>\n",
       "    </tr>\n",
       "    <tr>\n",
       "      <th>2</th>\n",
       "      <td>5</td>\n",
       "      <td>NaN</td>\n",
       "      <td>NaN</td>\n",
       "      <td>All residents asked to 'shelter in place' are ...</td>\n",
       "      <td>1</td>\n",
       "    </tr>\n",
       "    <tr>\n",
       "      <th>3</th>\n",
       "      <td>6</td>\n",
       "      <td>NaN</td>\n",
       "      <td>NaN</td>\n",
       "      <td>13,000 people receive #wildfires evacuation or...</td>\n",
       "      <td>1</td>\n",
       "    </tr>\n",
       "    <tr>\n",
       "      <th>4</th>\n",
       "      <td>7</td>\n",
       "      <td>NaN</td>\n",
       "      <td>NaN</td>\n",
       "      <td>Just got sent this photo from Ruby #Alaska as ...</td>\n",
       "      <td>1</td>\n",
       "    </tr>\n",
       "  </tbody>\n",
       "</table>\n",
       "</div>"
      ],
      "text/plain": [
       "   id keyword location                                               text  \\\n",
       "0   1     NaN      NaN  Our Deeds are the Reason of this #earthquake M...   \n",
       "1   4     NaN      NaN             Forest fire near La Ronge Sask. Canada   \n",
       "2   5     NaN      NaN  All residents asked to 'shelter in place' are ...   \n",
       "3   6     NaN      NaN  13,000 people receive #wildfires evacuation or...   \n",
       "4   7     NaN      NaN  Just got sent this photo from Ruby #Alaska as ...   \n",
       "\n",
       "   target  \n",
       "0       1  \n",
       "1       1  \n",
       "2       1  \n",
       "3       1  \n",
       "4       1  "
      ]
     },
     "execution_count": 3,
     "metadata": {},
     "output_type": "execute_result"
    }
   ],
   "source": [
    "train.head()"
   ]
  },
  {
   "cell_type": "code",
   "execution_count": 4,
   "id": "f03f5a28",
   "metadata": {
    "execution": {
     "iopub.execute_input": "2022-07-03T20:39:18.717711Z",
     "iopub.status.busy": "2022-07-03T20:39:18.717214Z",
     "iopub.status.idle": "2022-07-03T20:39:18.740076Z",
     "shell.execute_reply": "2022-07-03T20:39:18.739431Z"
    },
    "papermill": {
     "duration": 0.047708,
     "end_time": "2022-07-03T20:39:18.742232",
     "exception": false,
     "start_time": "2022-07-03T20:39:18.694524",
     "status": "completed"
    },
    "tags": []
   },
   "outputs": [
    {
     "name": "stdout",
     "output_type": "stream",
     "text": [
      "<class 'pandas.core.frame.DataFrame'>\n",
      "RangeIndex: 7613 entries, 0 to 7612\n",
      "Data columns (total 5 columns):\n",
      " #   Column    Non-Null Count  Dtype \n",
      "---  ------    --------------  ----- \n",
      " 0   id        7613 non-null   int64 \n",
      " 1   keyword   7552 non-null   object\n",
      " 2   location  5080 non-null   object\n",
      " 3   text      7613 non-null   object\n",
      " 4   target    7613 non-null   int64 \n",
      "dtypes: int64(2), object(3)\n",
      "memory usage: 297.5+ KB\n"
     ]
    }
   ],
   "source": [
    "train.info()"
   ]
  },
  {
   "cell_type": "code",
   "execution_count": 5,
   "id": "330954f1",
   "metadata": {
    "execution": {
     "iopub.execute_input": "2022-07-03T20:39:18.786611Z",
     "iopub.status.busy": "2022-07-03T20:39:18.786087Z",
     "iopub.status.idle": "2022-07-03T20:39:18.795744Z",
     "shell.execute_reply": "2022-07-03T20:39:18.795053Z"
    },
    "papermill": {
     "duration": 0.033935,
     "end_time": "2022-07-03T20:39:18.797568",
     "exception": false,
     "start_time": "2022-07-03T20:39:18.763633",
     "status": "completed"
    },
    "tags": []
   },
   "outputs": [
    {
     "data": {
      "text/plain": [
       "id             0\n",
       "keyword       61\n",
       "location    2533\n",
       "text           0\n",
       "target         0\n",
       "dtype: int64"
      ]
     },
     "execution_count": 5,
     "metadata": {},
     "output_type": "execute_result"
    }
   ],
   "source": [
    "train.isna().sum()"
   ]
  },
  {
   "cell_type": "code",
   "execution_count": 6,
   "id": "a7c04f00",
   "metadata": {
    "execution": {
     "iopub.execute_input": "2022-07-03T20:39:18.844484Z",
     "iopub.status.busy": "2022-07-03T20:39:18.843934Z",
     "iopub.status.idle": "2022-07-03T20:39:18.852801Z",
     "shell.execute_reply": "2022-07-03T20:39:18.852216Z"
    },
    "papermill": {
     "duration": 0.035004,
     "end_time": "2022-07-03T20:39:18.855284",
     "exception": false,
     "start_time": "2022-07-03T20:39:18.820280",
     "status": "completed"
    },
    "tags": []
   },
   "outputs": [
    {
     "name": "stdout",
     "output_type": "stream",
     "text": [
      "0    3474\n",
      "1    2616\n",
      "Name: target, dtype: int64\n",
      "0    868\n",
      "1    655\n",
      "Name: target, dtype: int64\n"
     ]
    }
   ],
   "source": [
    "train_set, val_set = train_test_split(train, test_size = 0.2)\n",
    "\n",
    "print(train_set['target'].value_counts())\n",
    "print(val_set['target'].value_counts())"
   ]
  },
  {
   "cell_type": "code",
   "execution_count": 7,
   "id": "b0d4209a",
   "metadata": {
    "execution": {
     "iopub.execute_input": "2022-07-03T20:39:18.906555Z",
     "iopub.status.busy": "2022-07-03T20:39:18.905816Z",
     "iopub.status.idle": "2022-07-03T20:39:18.923951Z",
     "shell.execute_reply": "2022-07-03T20:39:18.923306Z"
    },
    "papermill": {
     "duration": 0.048674,
     "end_time": "2022-07-03T20:39:18.926102",
     "exception": false,
     "start_time": "2022-07-03T20:39:18.877428",
     "status": "completed"
    },
    "tags": []
   },
   "outputs": [],
   "source": [
    "# location как фича довольно бесполезная в данной задаче, а вот keyword, добавим в основной текст\n",
    "# сперва заменим NaN токеном \"http\", так как потом его уберём вместе со всеми остальными стоп словами\n",
    "train_set['keyword'].fillna('http', inplace = True)\n",
    "val_set['keyword'].fillna('http', inplace = True)\n",
    "test['keyword'].fillna('http', inplace = True)\n",
    "\n",
    "\n",
    "train_set['all_words'] = train_set['text'] + ' ' + train_set['keyword']\n",
    "val_set['all_words'] = val_set['text'] + ' ' + val_set['keyword']\n",
    "test['all_words'] = test['text'] + ' ' + test['keyword']\n"
   ]
  },
  {
   "cell_type": "code",
   "execution_count": 8,
   "id": "dbb97fc7",
   "metadata": {
    "execution": {
     "iopub.execute_input": "2022-07-03T20:39:18.971899Z",
     "iopub.status.busy": "2022-07-03T20:39:18.971469Z",
     "iopub.status.idle": "2022-07-03T20:39:18.978679Z",
     "shell.execute_reply": "2022-07-03T20:39:18.978087Z"
    },
    "papermill": {
     "duration": 0.032506,
     "end_time": "2022-07-03T20:39:18.980675",
     "exception": false,
     "start_time": "2022-07-03T20:39:18.948169",
     "status": "completed"
    },
    "tags": []
   },
   "outputs": [],
   "source": [
    "val_labels = val_set['target'].copy()\n",
    "val_labels = val_labels.to_numpy()\n",
    "val_set = val_set['all_words'].copy()\n",
    "train_labels = train_set['target'].copy()\n",
    "train_labels = train_labels.to_numpy()\n",
    "train_set = train_set['all_words'].copy()\n",
    "test = test['all_words'].copy()"
   ]
  },
  {
   "cell_type": "code",
   "execution_count": 9,
   "id": "7e5e112c",
   "metadata": {
    "execution": {
     "iopub.execute_input": "2022-07-03T20:39:19.026589Z",
     "iopub.status.busy": "2022-07-03T20:39:19.026174Z",
     "iopub.status.idle": "2022-07-03T20:39:19.194813Z",
     "shell.execute_reply": "2022-07-03T20:39:19.193936Z"
    },
    "papermill": {
     "duration": 0.194438,
     "end_time": "2022-07-03T20:39:19.197059",
     "exception": false,
     "start_time": "2022-07-03T20:39:19.002621",
     "status": "completed"
    },
    "tags": []
   },
   "outputs": [],
   "source": [
    "# этап очистки\n",
    "word_set = set(words.words())\n",
    "word_set.add('forrest')\n",
    "stop_words = stopwords.words('english')\n",
    "some_more_stop_words = ['http', 'https', 'cant', 'oh', 'b', 'rt','yeah', 'dont', 'bc', \n",
    "                        'cause', 'hello', 'wow', 'yo', 'mr', 'miss', 'ah', 'abc', 'aw', \n",
    "                        'aka', 'ahh', 'att', 'aa', 'aan', 'aa', 'aar', 'ay', 'and', 'aia', \n",
    "                        'akx','but', 'bye', 'com', 'ee', 'yay', 'yr', 'yh', 'ya', 'yet', \n",
    "                        'yyj', 'yyc', 'yup', 'ye', 'yea', 'yep', 'ohh', 'ovo', 'ok', 'ooh', \n",
    "                        'of', 'if', 'im', 'jez']\n",
    "\n",
    "# доп стоп-слова добавил, когда увидел, что некоторые попали в итоговый словарь.\n",
    "stop_words.extend(some_more_stop_words)\n",
    "stop_words = set(stop_words)\n",
    "\n",
    "def custom_text_cleaner(test_sent):\n",
    "    tokens = word_tokenize(test_sent)\n",
    "    new_tokens = []\n",
    "    \n",
    "    for token in tokens:\n",
    "        \n",
    "        extra_in_word_bool = False\n",
    "        \n",
    "        if token not in word_set:\n",
    "            if token.casefold() not in word_set:\n",
    "                continue\n",
    "        \n",
    "        if token.casefold() in stop_words:\n",
    "            continue\n",
    "            \n",
    "        \n",
    "        new_tokens.append(token.casefold())\n",
    "            \n",
    "    return ' '.join(new_tokens)\n",
    "\n",
    "\n",
    "def count_words(series):\n",
    "    counts = Counter()\n",
    "    for tweet in series.values:\n",
    "        for word in tweet.split():\n",
    "            counts[word] += 1\n",
    "    return counts"
   ]
  },
  {
   "cell_type": "code",
   "execution_count": 10,
   "id": "2358269d",
   "metadata": {
    "execution": {
     "iopub.execute_input": "2022-07-03T20:39:19.243703Z",
     "iopub.status.busy": "2022-07-03T20:39:19.243433Z",
     "iopub.status.idle": "2022-07-03T20:39:23.197768Z",
     "shell.execute_reply": "2022-07-03T20:39:23.196829Z"
    },
    "papermill": {
     "duration": 3.980111,
     "end_time": "2022-07-03T20:39:23.200300",
     "exception": false,
     "start_time": "2022-07-03T20:39:19.220189",
     "status": "completed"
    },
    "tags": []
   },
   "outputs": [],
   "source": [
    "train_tweets = train_set.apply(custom_text_cleaner)\n",
    "val_tweets = val_set.apply(custom_text_cleaner)\n",
    "test_tweets = test.apply(custom_text_cleaner)\n",
    "\n",
    "\n",
    "feature_number = len(max(train_tweets, key=len).split())\n",
    "vocab_counted = count_words(train_tweets) + count_words(val_tweets)\n",
    "num_words_in_vocab = len(vocab_counted)"
   ]
  },
  {
   "cell_type": "code",
   "execution_count": 11,
   "id": "492bec7d",
   "metadata": {
    "execution": {
     "iopub.execute_input": "2022-07-03T20:39:23.246589Z",
     "iopub.status.busy": "2022-07-03T20:39:23.246162Z",
     "iopub.status.idle": "2022-07-03T20:39:23.553845Z",
     "shell.execute_reply": "2022-07-03T20:39:23.553068Z"
    },
    "papermill": {
     "duration": 0.33321,
     "end_time": "2022-07-03T20:39:23.556135",
     "exception": false,
     "start_time": "2022-07-03T20:39:23.222925",
     "status": "completed"
    },
    "tags": []
   },
   "outputs": [],
   "source": [
    "# этап токенизации\n",
    "tokenizer = Tokenizer(num_words = num_words_in_vocab)\n",
    "tokenizer.fit_on_texts(train_tweets)\n",
    "word_index = tokenizer.word_index\n",
    "train_sequences = tokenizer.texts_to_sequences(train_tweets)\n",
    "train_padded = pad_sequences(train_sequences, maxlen = feature_number, padding = 'pre')\n",
    "val_sequences = tokenizer.texts_to_sequences(val_tweets)\n",
    "val_padded = pad_sequences(val_sequences, maxlen = feature_number, padding = 'pre')\n",
    "test_sequences = tokenizer.texts_to_sequences(test_tweets)\n",
    "test_padded = pad_sequences(test_sequences, maxlen = feature_number, padding = 'pre')"
   ]
  },
  {
   "cell_type": "markdown",
   "id": "4b78db96",
   "metadata": {
    "papermill": {
     "duration": 0.021742,
     "end_time": "2022-07-03T20:39:23.600146",
     "exception": false,
     "start_time": "2022-07-03T20:39:23.578404",
     "status": "completed"
    },
    "tags": []
   },
   "source": [
    "**2: Создаём модель**"
   ]
  },
  {
   "cell_type": "code",
   "execution_count": 12,
   "id": "32aff3c5",
   "metadata": {
    "execution": {
     "iopub.execute_input": "2022-07-03T20:39:23.646363Z",
     "iopub.status.busy": "2022-07-03T20:39:23.645919Z",
     "iopub.status.idle": "2022-07-03T20:39:26.134781Z",
     "shell.execute_reply": "2022-07-03T20:39:26.133358Z"
    },
    "papermill": {
     "duration": 2.515698,
     "end_time": "2022-07-03T20:39:26.137803",
     "exception": false,
     "start_time": "2022-07-03T20:39:23.622105",
     "status": "completed"
    },
    "tags": []
   },
   "outputs": [
    {
     "name": "stderr",
     "output_type": "stream",
     "text": [
      "2022-07-03 20:39:24.161345: I tensorflow/core/common_runtime/process_util.cc:146] Creating new thread pool with default inter op setting: 2. Tune using inter_op_parallelism_threads for best performance.\n"
     ]
    },
    {
     "name": "stdout",
     "output_type": "stream",
     "text": [
      "Model: \"sequential\"\n",
      "_________________________________________________________________\n",
      "Layer (type)                 Output Shape              Param #   \n",
      "=================================================================\n",
      "embedding (Embedding)        (None, 21, 64)            429440    \n",
      "_________________________________________________________________\n",
      "lstm (LSTM)                  (None, 21, 128)           98816     \n",
      "_________________________________________________________________\n",
      "lstm_1 (LSTM)                (None, 32)                20608     \n",
      "_________________________________________________________________\n",
      "dense (Dense)                (None, 1)                 33        \n",
      "=================================================================\n",
      "Total params: 548,897\n",
      "Trainable params: 548,897\n",
      "Non-trainable params: 0\n",
      "_________________________________________________________________\n"
     ]
    }
   ],
   "source": [
    "sequential_nn_model = keras.models.Sequential()\n",
    "sequential_nn_model.add(keras.layers.Embedding(num_words_in_vocab, 64, \n",
    "                                               input_length = feature_number, \n",
    "                                               mask_zero = True))\n",
    "sequential_nn_model.add(keras.layers.LSTM(128, dropout = 0.3, return_sequences = True))\n",
    "sequential_nn_model.add(keras.layers.LSTM(32, dropout = 0.1))\n",
    "sequential_nn_model.add(keras.layers.Dense(1, activation = 'sigmoid'))\n",
    "\n",
    "sequential_nn_model.summary()"
   ]
  },
  {
   "cell_type": "code",
   "execution_count": 13,
   "id": "8525e7d1",
   "metadata": {
    "execution": {
     "iopub.execute_input": "2022-07-03T20:39:26.186195Z",
     "iopub.status.busy": "2022-07-03T20:39:26.185412Z",
     "iopub.status.idle": "2022-07-03T20:40:43.798216Z",
     "shell.execute_reply": "2022-07-03T20:40:43.797289Z"
    },
    "papermill": {
     "duration": 77.63954,
     "end_time": "2022-07-03T20:40:43.800524",
     "exception": false,
     "start_time": "2022-07-03T20:39:26.160984",
     "status": "completed"
    },
    "tags": []
   },
   "outputs": [
    {
     "name": "stdout",
     "output_type": "stream",
     "text": [
      "Epoch 1/5\n"
     ]
    },
    {
     "name": "stderr",
     "output_type": "stream",
     "text": [
      "2022-07-03 20:39:26.255390: I tensorflow/compiler/mlir/mlir_graph_optimization_pass.cc:185] None of the MLIR Optimization Passes are enabled (registered 2)\n"
     ]
    },
    {
     "name": "stdout",
     "output_type": "stream",
     "text": [
      "191/191 [==============================] - 24s 79ms/step - loss: 0.5368 - accuracy: 0.7256 - val_loss: 0.4760 - val_accuracy: 0.7708\n",
      "Epoch 2/5\n",
      "191/191 [==============================] - 13s 67ms/step - loss: 0.3674 - accuracy: 0.8507 - val_loss: 0.5402 - val_accuracy: 0.7728\n",
      "Epoch 3/5\n",
      "191/191 [==============================] - 13s 69ms/step - loss: 0.2679 - accuracy: 0.8954 - val_loss: 0.5907 - val_accuracy: 0.7695\n",
      "Epoch 4/5\n",
      "191/191 [==============================] - 13s 67ms/step - loss: 0.2070 - accuracy: 0.9204 - val_loss: 0.7290 - val_accuracy: 0.7636\n",
      "Epoch 5/5\n",
      "191/191 [==============================] - 13s 68ms/step - loss: 0.1699 - accuracy: 0.9317 - val_loss: 0.7472 - val_accuracy: 0.7452\n"
     ]
    }
   ],
   "source": [
    "sequential_nn_model.compile(loss = 'binary_crossentropy',\n",
    "                            optimizer = tf.keras.optimizers.Adam(learning_rate = 3e-3),\n",
    "                            metrics = ['accuracy'])\n",
    "\n",
    "checkpoint_cb = keras.callbacks.ModelCheckpoint(\"best_model_1.h5\")\n",
    "\n",
    "history = sequential_nn_model.fit(train_padded, train_labels, epochs = 5,\n",
    "                                  validation_data = (val_padded, val_labels),\n",
    "                                  callbacks = [checkpoint_cb])\n",
    "\n",
    "sequential_nn_model = keras.models.load_model(\"best_model_1.h5\")"
   ]
  },
  {
   "cell_type": "code",
   "execution_count": 14,
   "id": "88f083d2",
   "metadata": {
    "execution": {
     "iopub.execute_input": "2022-07-03T20:40:44.544178Z",
     "iopub.status.busy": "2022-07-03T20:40:44.543651Z",
     "iopub.status.idle": "2022-07-03T20:40:44.838010Z",
     "shell.execute_reply": "2022-07-03T20:40:44.836944Z"
    },
    "papermill": {
     "duration": 0.668196,
     "end_time": "2022-07-03T20:40:44.840358",
     "exception": false,
     "start_time": "2022-07-03T20:40:44.172162",
     "status": "completed"
    },
    "tags": []
   },
   "outputs": [
    {
     "data": {
      "image/png": "[encoded data removed]",
      "text/plain": [
       "<Figure size 576x360 with 1 Axes>"
      ]
     },
     "metadata": {
      "needs_background": "light"
     },
     "output_type": "display_data"
    }
   ],
   "source": [
    "pd.DataFrame(history.history).plot(figsize=(8, 5))\n",
    "plt.grid(True)\n",
    "plt.gca().set_ylim(0, 1)\n",
    "plt.show()"
   ]
  },
  {
   "cell_type": "code",
   "execution_count": 15,
   "id": "e72d1c8c",
   "metadata": {
    "execution": {
     "iopub.execute_input": "2022-07-03T20:40:45.591131Z",
     "iopub.status.busy": "2022-07-03T20:40:45.590444Z",
     "iopub.status.idle": "2022-07-03T20:40:48.913632Z",
     "shell.execute_reply": "2022-07-03T20:40:48.912803Z"
    },
    "papermill": {
     "duration": 3.698365,
     "end_time": "2022-07-03T20:40:48.915766",
     "exception": false,
     "start_time": "2022-07-03T20:40:45.217401",
     "status": "completed"
    },
    "tags": []
   },
   "outputs": [
    {
     "data": {
      "image/png": "[encoded data removed]",
      "text/plain": [
       "<Figure size 432x288 with 1 Axes>"
      ]
     },
     "metadata": {
      "needs_background": "light"
     },
     "output_type": "display_data"
    }
   ],
   "source": [
    "y_val_proba = sequential_nn_model.predict(val_padded).ravel()\n",
    "fpr, tpr, thresholds = roc_curve(val_labels, y_val_proba)\n",
    "\n",
    "def plot_roc_curve(fpr,tpr): \n",
    "    plt.plot(fpr,tpr)\n",
    "    plt.axis([0,1,0,1])\n",
    "    plt.xlabel('False Positive Rate') \n",
    "    plt.ylabel('True Positive Rate') \n",
    "    plt.show()    \n",
    "\n",
    "plot_roc_curve (fpr,tpr) "
   ]
  },
  {
   "cell_type": "code",
   "execution_count": 16,
   "id": "674aec41",
   "metadata": {
    "execution": {
     "iopub.execute_input": "2022-07-03T20:40:49.677355Z",
     "iopub.status.busy": "2022-07-03T20:40:49.677059Z",
     "iopub.status.idle": "2022-07-03T20:40:51.328950Z",
     "shell.execute_reply": "2022-07-03T20:40:51.327773Z"
    },
    "papermill": {
     "duration": 2.041933,
     "end_time": "2022-07-03T20:40:51.331440",
     "exception": false,
     "start_time": "2022-07-03T20:40:49.289507",
     "status": "completed"
    },
    "tags": []
   },
   "outputs": [],
   "source": [
    "predictions = sequential_nn_model.predict(test_padded)\n",
    "predictions = tf.squeeze(tf.round(predictions))\n",
    "predictions = tf.round(predictions.numpy())"
   ]
  },
  {
   "cell_type": "code",
   "execution_count": 17,
   "id": "cc8019da",
   "metadata": {
    "execution": {
     "iopub.execute_input": "2022-07-03T20:40:52.086553Z",
     "iopub.status.busy": "2022-07-03T20:40:52.085979Z",
     "iopub.status.idle": "2022-07-03T20:40:52.105099Z",
     "shell.execute_reply": "2022-07-03T20:40:52.104412Z"
    },
    "papermill": {
     "duration": 0.405179,
     "end_time": "2022-07-03T20:40:52.108105",
     "exception": false,
     "start_time": "2022-07-03T20:40:51.702926",
     "status": "completed"
    },
    "tags": []
   },
   "outputs": [
    {
     "name": "stdout",
     "output_type": "stream",
     "text": [
      "   id  target\n",
      "0   0       1\n",
      "1   2       1\n",
      "2   3       1\n",
      "3   9       1\n",
      "4  11       1\n"
     ]
    }
   ],
   "source": [
    "sub = pd.DataFrame({'id' : test_ids,'target' : predictions})\n",
    "sub['target'] = sub['target'].apply(int)\n",
    "sub.to_csv('submission.csv',  index = False)\n",
    "print(sub.head())"
   ]
  }
 ],
 "metadata": {
  "kernelspec": {
   "display_name": "Python 3",
   "language": "python",
   "name": "python3"
  },
  "language_info": {
   "codemirror_mode": {
    "name": "ipython",
    "version": 3
   },
   "file_extension": ".py",
   "mimetype": "text/x-python",
   "name": "python",
   "nbconvert_exporter": "python",
   "pygments_lexer": "ipython3",
   "version": "3.7.12"
  },
  "papermill": {
   "default_parameters": {},
   "duration": 114.760849,
   "end_time": "2022-07-03T20:40:55.321797",
   "environment_variables": {},
   "exception": null,
   "input_path": "__notebook__.ipynb",
   "output_path": "__notebook__.ipynb",
   "parameters": {},
   "start_time": "2022-07-03T20:39:00.560948",
   "version": "2.3.4"
  }
 },
 "nbformat": 4,
 "nbformat_minor": 5
}
