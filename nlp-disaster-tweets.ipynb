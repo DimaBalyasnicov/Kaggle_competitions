{
 "cells": [
  {
   "cell_type": "code",
   "execution_count": 1,
   "id": "a7293b33",
   "metadata": {
    "_cell_guid": "b1076dfc-b9ad-4769-8c92-a6c4dae69d19",
    "_uuid": "8f2839f25d086af736a60e9eeb907d3b93b6e0e5",
    "execution": {
     "iopub.execute_input": "2022-05-28T22:48:01.306057Z",
     "iopub.status.busy": "2022-05-28T22:48:01.305598Z",
     "iopub.status.idle": "2022-05-28T22:48:09.173794Z",
     "shell.execute_reply": "2022-05-28T22:48:09.172601Z"
    },
    "papermill": {
     "duration": 7.892585,
     "end_time": "2022-05-28T22:48:09.176290",
     "exception": false,
     "start_time": "2022-05-28T22:48:01.283705",
     "status": "completed"
    },
    "tags": []
   },
   "outputs": [
    {
     "name": "stdout",
     "output_type": "stream",
     "text": [
      "/kaggle/input/nlp-getting-started/sample_submission.csv\n",
      "/kaggle/input/nlp-getting-started/train.csv\n",
      "/kaggle/input/nlp-getting-started/test.csv\n"
     ]
    }
   ],
   "source": [
    "import nltk\n",
    "import string\n",
    "import numpy as np \n",
    "import pandas as pd\n",
    "from sklearn.model_selection import train_test_split\n",
    "from nltk.corpus import stopwords\n",
    "from nltk.tokenize import word_tokenize\n",
    "import matplotlib.pyplot as plt\n",
    "import tensorflow as tf\n",
    "from tensorflow import keras\n",
    "import os\n",
    "from sklearn.metrics import roc_curve, roc_auc_score\n",
    "from nltk.corpus import words\n",
    "from collections import Counter\n",
    "from keras.preprocessing.text import Tokenizer\n",
    "from keras.preprocessing.sequence import pad_sequences\n",
    "\n",
    "for dirname, _, filenames in os.walk('/kaggle/input'):\n",
    "    for filename in filenames:\n",
    "        print(os.path.join(dirname, filename))"
   ]
  },
  {
   "cell_type": "markdown",
   "id": "94739a45",
   "metadata": {
    "papermill": {
     "duration": 0.018564,
     "end_time": "2022-05-28T22:48:09.214203",
     "exception": false,
     "start_time": "2022-05-28T22:48:09.195639",
     "status": "completed"
    },
    "tags": []
   },
   "source": [
    "**Note for if i will try to improve my results or for someone who will take as baseline**\n",
    "\n",
    "My botleneck is preprocessing. My cleaning method is maybe too harsh, it cleans all garbage, but it also cleans words that my have some meaning, + i only count words that gramatically correct, meaning all of the abbreviations are lost along side with some slang and stuff. But even with that in my mind, my model performs on the same level as most of what i saw on the internet (YouTube and etc), which i think means that most of the words that i drop actully were garbage.\n",
    "\n",
    "The other thing that will improve the performance is using pretrained model or at least pretrained Embedding layer\n",
    "\n",
    "P. S. usually people's vocabulary is around 15 000, mine is around 7 000, and it still performs on the same level."
   ]
  },
  {
   "cell_type": "markdown",
   "id": "90e835de",
   "metadata": {
    "papermill": {
     "duration": 0.018535,
     "end_time": "2022-05-28T22:48:09.251762",
     "exception": false,
     "start_time": "2022-05-28T22:48:09.233227",
     "status": "completed"
    },
    "tags": []
   },
   "source": [
    "**Section 1: Preprocessing and Data Explaration**\n",
    "\n",
    "Ive done most of my data exploration after the data was processed, to see what words are in the vocabulary and all. So i've started from preprocessing."
   ]
  },
  {
   "cell_type": "code",
   "execution_count": 2,
   "id": "12e2377b",
   "metadata": {
    "execution": {
     "iopub.execute_input": "2022-05-28T22:48:09.290589Z",
     "iopub.status.busy": "2022-05-28T22:48:09.289727Z",
     "iopub.status.idle": "2022-05-28T22:48:09.369683Z",
     "shell.execute_reply": "2022-05-28T22:48:09.368921Z"
    },
    "papermill": {
     "duration": 0.101847,
     "end_time": "2022-05-28T22:48:09.372051",
     "exception": false,
     "start_time": "2022-05-28T22:48:09.270204",
     "status": "completed"
    },
    "tags": []
   },
   "outputs": [],
   "source": [
    "train = pd.read_csv('/kaggle/input/nlp-getting-started/train.csv') \n",
    "test = pd.read_csv('/kaggle/input/nlp-getting-started/test.csv')\n",
    "test_ids = test['id'].copy()"
   ]
  },
  {
   "cell_type": "code",
   "execution_count": 3,
   "id": "d3de546c",
   "metadata": {
    "execution": {
     "iopub.execute_input": "2022-05-28T22:48:09.411288Z",
     "iopub.status.busy": "2022-05-28T22:48:09.410791Z",
     "iopub.status.idle": "2022-05-28T22:48:09.425837Z",
     "shell.execute_reply": "2022-05-28T22:48:09.425174Z"
    },
    "papermill": {
     "duration": 0.038196,
     "end_time": "2022-05-28T22:48:09.428905",
     "exception": false,
     "start_time": "2022-05-28T22:48:09.390709",
     "status": "completed"
    },
    "tags": []
   },
   "outputs": [
    {
     "name": "stdout",
     "output_type": "stream",
     "text": [
      "0    3493\n",
      "1    2597\n",
      "Name: target, dtype: int64\n",
      "0    849\n",
      "1    674\n",
      "Name: target, dtype: int64\n"
     ]
    }
   ],
   "source": [
    "train_set, val_set = train_test_split(train, test_size = 0.2)\n",
    "\n",
    "print(train_set['target'].value_counts())\n",
    "print(val_set['target'].value_counts())\n",
    "#the ration seems fine"
   ]
  },
  {
   "cell_type": "code",
   "execution_count": 4,
   "id": "ecaebbbf",
   "metadata": {
    "execution": {
     "iopub.execute_input": "2022-05-28T22:48:09.469672Z",
     "iopub.status.busy": "2022-05-28T22:48:09.469138Z",
     "iopub.status.idle": "2022-05-28T22:48:09.487334Z",
     "shell.execute_reply": "2022-05-28T22:48:09.486408Z"
    },
    "papermill": {
     "duration": 0.040693,
     "end_time": "2022-05-28T22:48:09.489738",
     "exception": false,
     "start_time": "2022-05-28T22:48:09.449045",
     "status": "completed"
    },
    "tags": []
   },
   "outputs": [],
   "source": [
    "# i will add 'http' in stop words anyways, and delte them from text,\n",
    "# so i will fill the missing entries with that so the NaN values will not cause me any erors\n",
    "train_set['keyword'].fillna('http', inplace = True)\n",
    "val_set['keyword'].fillna('http', inplace = True)\n",
    "test['keyword'].fillna('http', inplace = True)\n",
    "\n",
    "# So the reasoning behind adding the keyword to the text is that \n",
    "# we will emphasize a certain feature (word) by having more of them in the object\n",
    "train_set['all_words'] = train_set['text'] + ' ' + train_set['keyword']\n",
    "val_set['all_words'] = val_set['text'] + ' ' + val_set['keyword']\n",
    "test['all_words'] = test['text'] + ' ' + test['keyword']\n"
   ]
  },
  {
   "cell_type": "code",
   "execution_count": 5,
   "id": "826953a1",
   "metadata": {
    "execution": {
     "iopub.execute_input": "2022-05-28T22:48:09.530624Z",
     "iopub.status.busy": "2022-05-28T22:48:09.530041Z",
     "iopub.status.idle": "2022-05-28T22:48:09.536822Z",
     "shell.execute_reply": "2022-05-28T22:48:09.536170Z"
    },
    "papermill": {
     "duration": 0.029527,
     "end_time": "2022-05-28T22:48:09.538999",
     "exception": false,
     "start_time": "2022-05-28T22:48:09.509472",
     "status": "completed"
    },
    "tags": []
   },
   "outputs": [],
   "source": [
    "val_labels = val_set['target'].copy()\n",
    "val_labels = val_labels.to_numpy()\n",
    "val_set = val_set['all_words'].copy()\n",
    "train_labels = train_set['target'].copy()\n",
    "train_labels = train_labels.to_numpy()\n",
    "train_set = train_set['all_words'].copy()\n",
    "test = test['all_words'].copy()"
   ]
  },
  {
   "cell_type": "code",
   "execution_count": 6,
   "id": "b24b6362",
   "metadata": {
    "execution": {
     "iopub.execute_input": "2022-05-28T22:48:09.579484Z",
     "iopub.status.busy": "2022-05-28T22:48:09.578898Z",
     "iopub.status.idle": "2022-05-28T22:48:09.756629Z",
     "shell.execute_reply": "2022-05-28T22:48:09.755780Z"
    },
    "papermill": {
     "duration": 0.200578,
     "end_time": "2022-05-28T22:48:09.759073",
     "exception": false,
     "start_time": "2022-05-28T22:48:09.558495",
     "status": "completed"
    },
    "tags": []
   },
   "outputs": [],
   "source": [
    "word_set = set(words.words())\n",
    "word_set.add('forrest') \n",
    "# i accidentally found that this word is not in the corpus which is weird. \n",
    "# Maybe there are more examples like that but it is too tedious to find, i couldnt bother \n",
    "stop_words = stopwords.words('english')\n",
    "some_more_stop_words = ['http', 'https', 'cant', 'oh', 'b', 'rt','yeah', 'dont', 'bc', \n",
    "                        'cause', 'hello', 'wow', 'yo', 'mr', 'miss', 'ah', 'abc', 'aw', \n",
    "                        'aka', 'ahh', 'att', 'aa', 'aan', 'aa', 'aar', 'ay', 'and', 'aia', \n",
    "                        'akx','but', 'bye', 'com', 'ee', 'yay', 'yr', 'yh', 'ya', 'yet', \n",
    "                        'yyj', 'yyc', 'yup', 'ye', 'yea', 'yep', 'ohh', 'ovo', 'ok', 'ooh', \n",
    "                        'of', 'if', 'im', 'jez']\n",
    "\n",
    "#most of the stop words i've added retroactively,\n",
    "#when i saw that a lot of garbage came throught in vocabulary\n",
    "stop_words.extend(some_more_stop_words)\n",
    "stop_words = set(stop_words)\n",
    "\n",
    "def custom_text_cleaner(test_sent):\n",
    "    tokens = word_tokenize(test_sent)\n",
    "    new_tokens = []\n",
    "    \n",
    "    for token in tokens:\n",
    "        \n",
    "        extra_in_word_bool = False\n",
    "        \n",
    "        if token not in word_set:\n",
    "            if token.casefold() not in word_set:\n",
    "                continue\n",
    "        \n",
    "        if token.casefold() in stop_words:\n",
    "            continue\n",
    "            \n",
    "        \n",
    "        new_tokens.append(token.casefold())\n",
    "            \n",
    "    return ' '.join(new_tokens)\n",
    "\n",
    "\n",
    "def count_words(series):\n",
    "    counts = Counter()\n",
    "    for tweet in series.values:\n",
    "        for word in tweet.split():\n",
    "            counts[word] += 1\n",
    "    return counts"
   ]
  },
  {
   "cell_type": "code",
   "execution_count": 7,
   "id": "5474faed",
   "metadata": {
    "execution": {
     "iopub.execute_input": "2022-05-28T22:48:09.798050Z",
     "iopub.status.busy": "2022-05-28T22:48:09.797659Z",
     "iopub.status.idle": "2022-05-28T22:48:13.715395Z",
     "shell.execute_reply": "2022-05-28T22:48:13.714214Z"
    },
    "papermill": {
     "duration": 3.940117,
     "end_time": "2022-05-28T22:48:13.718050",
     "exception": false,
     "start_time": "2022-05-28T22:48:09.777933",
     "status": "completed"
    },
    "tags": []
   },
   "outputs": [],
   "source": [
    "train_tweets = train_set.apply(custom_text_cleaner)\n",
    "val_tweets = val_set.apply(custom_text_cleaner)\n",
    "test_tweets = test.apply(custom_text_cleaner)\n",
    "\n",
    "\n",
    "feature_number = len(max(train_tweets, key=len).split())\n",
    "vocab_counted = count_words(train_tweets) + count_words(val_tweets)\n",
    "num_words_in_vocab = len(vocab_counted)"
   ]
  },
  {
   "cell_type": "code",
   "execution_count": 8,
   "id": "d02920fc",
   "metadata": {
    "execution": {
     "iopub.execute_input": "2022-05-28T22:48:13.758265Z",
     "iopub.status.busy": "2022-05-28T22:48:13.757974Z",
     "iopub.status.idle": "2022-05-28T22:48:13.884304Z",
     "shell.execute_reply": "2022-05-28T22:48:13.883399Z"
    },
    "papermill": {
     "duration": 0.148827,
     "end_time": "2022-05-28T22:48:13.886904",
     "exception": false,
     "start_time": "2022-05-28T22:48:13.738077",
     "status": "completed"
    },
    "tags": []
   },
   "outputs": [],
   "source": [
    "tokenizer = Tokenizer(num_words = num_words_in_vocab)\n",
    "tokenizer.fit_on_texts(train_tweets)\n",
    "word_index = tokenizer.word_index"
   ]
  },
  {
   "cell_type": "code",
   "execution_count": 9,
   "id": "6f7a7fc3",
   "metadata": {
    "execution": {
     "iopub.execute_input": "2022-05-28T22:48:13.926107Z",
     "iopub.status.busy": "2022-05-28T22:48:13.925660Z",
     "iopub.status.idle": "2022-05-28T22:48:14.110216Z",
     "shell.execute_reply": "2022-05-28T22:48:14.109242Z"
    },
    "papermill": {
     "duration": 0.207157,
     "end_time": "2022-05-28T22:48:14.112793",
     "exception": false,
     "start_time": "2022-05-28T22:48:13.905636",
     "status": "completed"
    },
    "tags": []
   },
   "outputs": [],
   "source": [
    "#tokenizing, sequencing and pading \n",
    "train_sequences = tokenizer.texts_to_sequences(train_tweets)\n",
    "train_padded = pad_sequences(train_sequences, maxlen = feature_number, padding = 'post')\n",
    "val_sequences = tokenizer.texts_to_sequences(val_tweets)\n",
    "val_padded = pad_sequences(val_sequences, maxlen = feature_number, padding = 'post')\n",
    "test_sequences = tokenizer.texts_to_sequences(test_tweets)\n",
    "test_padded = pad_sequences(test_sequences, maxlen = feature_number, padding = 'post')"
   ]
  },
  {
   "cell_type": "markdown",
   "id": "23ed1400",
   "metadata": {
    "papermill": {
     "duration": 0.018611,
     "end_time": "2022-05-28T22:48:14.150211",
     "exception": false,
     "start_time": "2022-05-28T22:48:14.131600",
     "status": "completed"
    },
    "tags": []
   },
   "source": [
    "**Section 2: Creating and Training Model**"
   ]
  },
  {
   "cell_type": "code",
   "execution_count": 10,
   "id": "29f7b977",
   "metadata": {
    "execution": {
     "iopub.execute_input": "2022-05-28T22:48:14.191605Z",
     "iopub.status.busy": "2022-05-28T22:48:14.191306Z",
     "iopub.status.idle": "2022-05-28T22:48:16.575448Z",
     "shell.execute_reply": "2022-05-28T22:48:16.574212Z"
    },
    "papermill": {
     "duration": 2.406596,
     "end_time": "2022-05-28T22:48:16.577713",
     "exception": false,
     "start_time": "2022-05-28T22:48:14.171117",
     "status": "completed"
    },
    "tags": []
   },
   "outputs": [
    {
     "name": "stderr",
     "output_type": "stream",
     "text": [
      "2022-05-28 22:48:14.673914: I tensorflow/core/common_runtime/process_util.cc:146] Creating new thread pool with default inter op setting: 2. Tune using inter_op_parallelism_threads for best performance.\n"
     ]
    },
    {
     "name": "stdout",
     "output_type": "stream",
     "text": [
      "Model: \"sequential\"\n",
      "_________________________________________________________________\n",
      "Layer (type)                 Output Shape              Param #   \n",
      "=================================================================\n",
      "embedding (Embedding)        (None, 13, 64)            429440    \n",
      "_________________________________________________________________\n",
      "gru (GRU)                    (None, 13, 128)           74496     \n",
      "_________________________________________________________________\n",
      "gru_1 (GRU)                  (None, 32)                15552     \n",
      "_________________________________________________________________\n",
      "dense (Dense)                (None, 1)                 33        \n",
      "=================================================================\n",
      "Total params: 519,521\n",
      "Trainable params: 519,521\n",
      "Non-trainable params: 0\n",
      "_________________________________________________________________\n"
     ]
    }
   ],
   "source": [
    "sequential_nn_model = keras.models.Sequential()\n",
    "sequential_nn_model.add(keras.layers.Embedding(num_words_in_vocab, 64, \n",
    "                                               input_length = feature_number, \n",
    "                                               mask_zero = True))\n",
    "sequential_nn_model.add(keras.layers.GRU(128, dropout = 0.3, return_sequences = True))\n",
    "sequential_nn_model.add(keras.layers.GRU(32, dropout = 0.1))\n",
    "sequential_nn_model.add(keras.layers.Dense(1, activation = 'sigmoid'))\n",
    "\n",
    "sequential_nn_model.summary()"
   ]
  },
  {
   "cell_type": "code",
   "execution_count": 11,
   "id": "e7cf9d19",
   "metadata": {
    "execution": {
     "iopub.execute_input": "2022-05-28T22:48:16.619605Z",
     "iopub.status.busy": "2022-05-28T22:48:16.619295Z",
     "iopub.status.idle": "2022-05-28T22:49:05.642270Z",
     "shell.execute_reply": "2022-05-28T22:49:05.641172Z"
    },
    "papermill": {
     "duration": 49.047443,
     "end_time": "2022-05-28T22:49:05.645321",
     "exception": false,
     "start_time": "2022-05-28T22:48:16.597878",
     "status": "completed"
    },
    "tags": []
   },
   "outputs": [
    {
     "name": "stdout",
     "output_type": "stream",
     "text": [
      "Epoch 1/5\n"
     ]
    },
    {
     "name": "stderr",
     "output_type": "stream",
     "text": [
      "2022-05-28 22:48:16.690040: I tensorflow/compiler/mlir/mlir_graph_optimization_pass.cc:185] None of the MLIR Optimization Passes are enabled (registered 2)\n"
     ]
    },
    {
     "name": "stdout",
     "output_type": "stream",
     "text": [
      "191/191 [==============================] - 18s 50ms/step - loss: 0.5398 - accuracy: 0.7332 - val_loss: 0.5015 - val_accuracy: 0.7689\n",
      "Epoch 2/5\n",
      "191/191 [==============================] - 8s 41ms/step - loss: 0.3686 - accuracy: 0.8448 - val_loss: 0.5949 - val_accuracy: 0.7728\n",
      "Epoch 3/5\n",
      "191/191 [==============================] - 7s 38ms/step - loss: 0.2665 - accuracy: 0.8961 - val_loss: 0.6267 - val_accuracy: 0.7623\n",
      "Epoch 4/5\n",
      "191/191 [==============================] - 7s 36ms/step - loss: 0.2027 - accuracy: 0.9258 - val_loss: 0.7307 - val_accuracy: 0.7367\n",
      "Epoch 5/5\n",
      "191/191 [==============================] - 7s 36ms/step - loss: 0.1579 - accuracy: 0.9424 - val_loss: 0.8461 - val_accuracy: 0.7308\n"
     ]
    }
   ],
   "source": [
    "sequential_nn_model.compile(loss = 'binary_crossentropy',\n",
    "                            optimizer = tf.keras.optimizers.Adam(learning_rate = 3e-3),\n",
    "                            metrics = ['accuracy'])\n",
    "\n",
    "checkpoint_cb = keras.callbacks.ModelCheckpoint(\"best_model_1.h5\")\n",
    "\n",
    "history = sequential_nn_model.fit(train_padded, train_labels, epochs = 5,\n",
    "                                  validation_data = (val_padded, val_labels),\n",
    "                                  callbacks = [checkpoint_cb])\n",
    "\n",
    "sequential_nn_model = keras.models.load_model(\"best_model_1.h5\") #a way of early stoping"
   ]
  },
  {
   "cell_type": "code",
   "execution_count": 12,
   "id": "4ff21663",
   "metadata": {
    "execution": {
     "iopub.execute_input": "2022-05-28T22:49:06.068878Z",
     "iopub.status.busy": "2022-05-28T22:49:06.068313Z",
     "iopub.status.idle": "2022-05-28T22:49:06.366299Z",
     "shell.execute_reply": "2022-05-28T22:49:06.365328Z"
    },
    "papermill": {
     "duration": 0.502601,
     "end_time": "2022-05-28T22:49:06.368830",
     "exception": false,
     "start_time": "2022-05-28T22:49:05.866229",
     "status": "completed"
    },
    "tags": []
   },
   "outputs": [
    {
     "data": {
      "image/png": "[encoded data removed]",
      "text/plain": [
       "<Figure size 576x360 with 1 Axes>"
      ]
     },
     "metadata": {
      "needs_background": "light"
     },
     "output_type": "display_data"
    }
   ],
   "source": [
    "pd.DataFrame(history.history).plot(figsize=(8, 5))\n",
    "plt.grid(True)\n",
    "plt.gca().set_ylim(0, 1)\n",
    "plt.show()"
   ]
  },
  {
   "cell_type": "code",
   "execution_count": 13,
   "id": "29e8f11d",
   "metadata": {
    "execution": {
     "iopub.execute_input": "2022-05-28T22:49:06.773668Z",
     "iopub.status.busy": "2022-05-28T22:49:06.773137Z",
     "iopub.status.idle": "2022-05-28T22:49:09.873348Z",
     "shell.execute_reply": "2022-05-28T22:49:09.871632Z"
    },
    "papermill": {
     "duration": 3.304618,
     "end_time": "2022-05-28T22:49:09.875724",
     "exception": false,
     "start_time": "2022-05-28T22:49:06.571106",
     "status": "completed"
    },
    "tags": []
   },
   "outputs": [
    {
     "data": {
      "image/png": "[encoded data removed]",
      "text/plain": [
       "<Figure size 432x288 with 1 Axes>"
      ]
     },
     "metadata": {
      "needs_background": "light"
     },
     "output_type": "display_data"
    }
   ],
   "source": [
    "y_val_proba = sequential_nn_model.predict(val_padded).ravel()\n",
    "fpr, tpr, thresholds = roc_curve(val_labels, y_val_proba)\n",
    "\n",
    "def plot_roc_curve(fpr,tpr): \n",
    "    plt.plot(fpr,tpr)\n",
    "    plt.axis([0,1,0,1])\n",
    "    plt.xlabel('False Positive Rate') \n",
    "    plt.ylabel('True Positive Rate') \n",
    "    plt.show()    \n",
    "\n",
    "plot_roc_curve (fpr,tpr) "
   ]
  },
  {
   "cell_type": "code",
   "execution_count": 14,
   "id": "a9949eaf",
   "metadata": {
    "execution": {
     "iopub.execute_input": "2022-05-28T22:49:10.284991Z",
     "iopub.status.busy": "2022-05-28T22:49:10.284491Z",
     "iopub.status.idle": "2022-05-28T22:49:11.471320Z",
     "shell.execute_reply": "2022-05-28T22:49:11.470413Z"
    },
    "papermill": {
     "duration": 1.392825,
     "end_time": "2022-05-28T22:49:11.474132",
     "exception": false,
     "start_time": "2022-05-28T22:49:10.081307",
     "status": "completed"
    },
    "tags": []
   },
   "outputs": [],
   "source": [
    "predictions = sequential_nn_model.predict(test_padded)\n",
    "predictions = tf.squeeze(tf.round(predictions))\n",
    "predictions = tf.round(predictions.numpy())"
   ]
  },
  {
   "cell_type": "code",
   "execution_count": 15,
   "id": "e1a1ed24",
   "metadata": {
    "execution": {
     "iopub.execute_input": "2022-05-28T22:49:11.881999Z",
     "iopub.status.busy": "2022-05-28T22:49:11.881524Z",
     "iopub.status.idle": "2022-05-28T22:49:11.902260Z",
     "shell.execute_reply": "2022-05-28T22:49:11.901399Z"
    },
    "papermill": {
     "duration": 0.226834,
     "end_time": "2022-05-28T22:49:11.904513",
     "exception": false,
     "start_time": "2022-05-28T22:49:11.677679",
     "status": "completed"
    },
    "tags": []
   },
   "outputs": [
    {
     "name": "stdout",
     "output_type": "stream",
     "text": [
      "   id  target\n",
      "0   0       0\n",
      "1   2       1\n",
      "2   3       1\n",
      "3   9       0\n",
      "4  11       1\n"
     ]
    }
   ],
   "source": [
    "sub = pd.DataFrame({'id' : test_ids,'target' : predictions})\n",
    "sub['target'] = sub['target'].apply(int)\n",
    "sub.to_csv('submission.csv',  index = False)\n",
    "print(sub.head())"
   ]
  }
 ],
 "metadata": {
  "kernelspec": {
   "display_name": "Python 3",
   "language": "python",
   "name": "python3"
  },
  "language_info": {
   "codemirror_mode": {
    "name": "ipython",
    "version": 3
   },
   "file_extension": ".py",
   "mimetype": "text/x-python",
   "name": "python",
   "nbconvert_exporter": "python",
   "pygments_lexer": "ipython3",
   "version": "3.7.12"
  },
  "papermill": {
   "default_parameters": {},
   "duration": 84.756658,
   "end_time": "2022-05-28T22:49:15.647447",
   "environment_variables": {},
   "exception": null,
   "input_path": "__notebook__.ipynb",
   "output_path": "__notebook__.ipynb",
   "parameters": {},
   "start_time": "2022-05-28T22:47:50.890789",
   "version": "2.3.4"
  }
 },
 "nbformat": 4,
 "nbformat_minor": 5
}
